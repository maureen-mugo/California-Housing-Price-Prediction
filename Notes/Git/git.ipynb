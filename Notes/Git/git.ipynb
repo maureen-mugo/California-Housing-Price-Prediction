{
 "cells": [
  {
   "cell_type": "markdown",
   "id": "16f49789-4af7-4ffb-ae11-05e17ae979c5",
   "metadata": {},
   "source": [
    "# Git Commands"
   ]
  },
  {
   "cell_type": "markdown",
   "id": "0104137f-0a6c-439b-8bfc-f1c9d514c6d0",
   "metadata": {},
   "source": [
    "Git is a version control system that allows one or more people to work on the smae code base for the same project.  \n",
    "Github is a hosting platform that allows us to host our projects somewhere on the cloud."
   ]
  },
  {
   "cell_type": "markdown",
   "id": "db22baab-4d64-45f4-a6bd-b74b9dc0356e",
   "metadata": {},
   "source": [
    "## Installing Git"
   ]
  },
  {
   "cell_type": "code",
   "execution_count": null,
   "id": "5a5b28c4-d324-4950-8f40-3836744dc367",
   "metadata": {},
   "outputs": [],
   "source": [
    "!sudo apt-get install git-all"
   ]
  },
  {
   "cell_type": "markdown",
   "id": "15649088-5308-42ad-a2fc-334c33a592ae",
   "metadata": {},
   "source": [
    "## Configure Git"
   ]
  },
  {
   "cell_type": "code",
   "execution_count": null,
   "id": "635621e8-d1ab-49dc-a61b-695ea315964f",
   "metadata": {},
   "outputs": [],
   "source": [
    "!git config --global user.name \"Maureen\"\n",
    "# Allows one to set the username"
   ]
  },
  {
   "cell_type": "code",
   "execution_count": null,
   "id": "f08dc12c-418a-4e3f-98c7-a4cebc9d59bd",
   "metadata": {},
   "outputs": [],
   "source": [
    "!git config --global user.email \"mugomaureenw@gmail.com\"\n",
    "# Allows one to set email"
   ]
  },
  {
   "cell_type": "code",
   "execution_count": null,
   "id": "e1d50073-6e0a-47f3-9652-6c32a048e927",
   "metadata": {},
   "outputs": [],
   "source": [
    "!git config\n",
    "# Shows all configurations"
   ]
  },
  {
   "cell_type": "code",
   "execution_count": null,
   "id": "141c7b38-97df-4100-993f-0fdfca5903f1",
   "metadata": {},
   "outputs": [],
   "source": [
    "!git config -l\n",
    "# List all configurations"
   ]
  },
  {
   "cell_type": "code",
   "execution_count": null,
   "id": "3e4cf96e-0927-4e71-b999-e7aee50212ff",
   "metadata": {},
   "outputs": [],
   "source": [
    "!git config -e\n",
    "# Edit configurations"
   ]
  },
  {
   "cell_type": "markdown",
   "id": "5a267a17-df2a-4b60-a7e3-1abb069f9dc8",
   "metadata": {},
   "source": [
    "## Initialize a Repository"
   ]
  },
  {
   "cell_type": "markdown",
   "id": "572a0d97-8231-4b53-9475-4d0bf7ef87b7",
   "metadata": {},
   "source": [
    "Repository in Git is a collection of files of various different versions."
   ]
  },
  {
   "cell_type": "code",
   "execution_count": null,
   "id": "c8aa233f-e856-479b-9ecf-e34c45de27d1",
   "metadata": {},
   "outputs": [],
   "source": [
    "!git init .\n",
    "# initialize git in the current directory"
   ]
  },
  {
   "cell_type": "code",
   "execution_count": null,
   "id": "fc5313ac-c743-4088-b8ae-f825a4c77050",
   "metadata": {},
   "outputs": [],
   "source": [
    "!rm -rf .git\n",
    "#remove a git folder"
   ]
  },
  {
   "cell_type": "markdown",
   "id": "60ef788d-be9a-4d82-abeb-abd84346cfe2",
   "metadata": {},
   "source": [
    "## git add"
   ]
  },
  {
   "cell_type": "code",
   "execution_count": null,
   "id": "1018ff25-f030-424f-894b-4cdc08f6bc58",
   "metadata": {},
   "outputs": [],
   "source": [
    "!git add .\n",
    "# adds all the files in the current directory to the satging area"
   ]
  },
  {
   "cell_type": "code",
   "execution_count": null,
   "id": "4e472447-db58-439c-958c-39ac4450e57a",
   "metadata": {},
   "outputs": [],
   "source": [
    "!git add filename\n",
    "#adds 'filename' file to the staging area"
   ]
  },
  {
   "cell_type": "code",
   "execution_count": null,
   "id": "5927a993-124c-41c8-9e64-558d3bcd8930",
   "metadata": {},
   "outputs": [],
   "source": [
    "!git rm --cached filename\n",
    "#unstages 'filename' file"
   ]
  },
  {
   "cell_type": "code",
   "execution_count": null,
   "id": "b1cf051c-5288-4367-8d65-58904f278e46",
   "metadata": {},
   "outputs": [],
   "source": [
    "!git rm -r --cached .\n",
    "#unstages all files in the current directory"
   ]
  },
  {
   "cell_type": "code",
   "execution_count": null,
   "id": "f8aae491-fa7f-4643-a548-96128c2667ee",
   "metadata": {},
   "outputs": [],
   "source": [
    "!git add -A\n",
    "#add all files in the current and other directories"
   ]
  },
  {
   "cell_type": "markdown",
   "id": "5d9ec481-2aad-491b-84b3-3fbec17024c6",
   "metadata": {},
   "source": [
    "## git commit"
   ]
  },
  {
   "cell_type": "code",
   "execution_count": null,
   "id": "5d66721d-2d1f-4280-9381-b59abf1234db",
   "metadata": {},
   "outputs": [],
   "source": [
    "!git commit -m \"commit message\"\n",
    "#commits the added file(s) in the staging ares\n",
    "#descriptive message of the commit is contained in \" \"."
   ]
  },
  {
   "cell_type": "code",
   "execution_count": null,
   "id": "954c808f-f6ea-4dcd-9292-bf0315ce62ff",
   "metadata": {},
   "outputs": [],
   "source": [
    "!git commit --amend -m \"message\"\n",
    "#amend message on commit"
   ]
  },
  {
   "cell_type": "markdown",
   "id": "27a01ecf-68af-47c7-bc0f-74194187a5c9",
   "metadata": {},
   "source": [
    "## git status"
   ]
  },
  {
   "cell_type": "code",
   "execution_count": null,
   "id": "1a2bc990-ad0c-4047-8a86-b3f490dac930",
   "metadata": {},
   "outputs": [],
   "source": [
    "!git status\n",
    "#gives us the stages of the changes made in the current directory"
   ]
  },
  {
   "cell_type": "markdown",
   "id": "171320ec-ecab-4070-bde0-c1702d9738cb",
   "metadata": {},
   "source": [
    "## git log"
   ]
  },
  {
   "cell_type": "code",
   "execution_count": null,
   "id": "99bdd7e0-f6dd-4c53-9f68-0ae8c009828c",
   "metadata": {},
   "outputs": [],
   "source": [
    "!git log\n",
    "#Shows the details of of the commited files within a git repository"
   ]
  },
  {
   "cell_type": "code",
   "execution_count": null,
   "id": "7d9e049f-5480-4fff-b891-5e6b61117df9",
   "metadata": {},
   "outputs": [],
   "source": [
    "!git show unique\n",
    "#shows the details of the unique code from git log"
   ]
  },
  {
   "cell_type": "markdown",
   "id": "c83bb84c-50d8-4b70-af04-de87e4d47276",
   "metadata": {},
   "source": [
    "## git restore"
   ]
  },
  {
   "cell_type": "code",
   "execution_count": null,
   "id": "756635b1-7e3c-435c-bc6f-35a16cb8e79c",
   "metadata": {},
   "outputs": [],
   "source": [
    "!git restore filename\n",
    "#discard changes made on a 'filename' file"
   ]
  },
  {
   "cell_type": "markdown",
   "id": "14681485-a02d-4c65-9f38-8b17cb6bc5e5",
   "metadata": {},
   "source": [
    "## git branch"
   ]
  },
  {
   "cell_type": "code",
   "execution_count": null,
   "id": "6f48492c-4f64-4b26-85f3-095a33622248",
   "metadata": {},
   "outputs": [],
   "source": [
    "!git branch\n",
    "#tells you which branch you are on"
   ]
  },
  {
   "cell_type": "code",
   "execution_count": null,
   "id": "6359794a-bcc3-4190-95c3-1ec33dc8c598",
   "metadata": {},
   "outputs": [],
   "source": [
    "!git branch -M main\n",
    "#changes from master to main"
   ]
  },
  {
   "cell_type": "code",
   "execution_count": null,
   "id": "0e746a6f-634c-42c7-a04c-30702458406c",
   "metadata": {},
   "outputs": [],
   "source": [
    "!git branch -r\n",
    "#list all branches in the remote server"
   ]
  },
  {
   "cell_type": "code",
   "execution_count": null,
   "id": "e671ae77-c633-48fd-881a-3d4e1bc9c768",
   "metadata": {},
   "outputs": [],
   "source": [
    "!git branch -a\n",
    "#list all branches in both local machines and remote servers"
   ]
  },
  {
   "cell_type": "code",
   "execution_count": null,
   "id": "af8e159f-2b5e-405e-9cdb-1e21cabe3f8b",
   "metadata": {},
   "outputs": [],
   "source": [
    "!git branch feature-a\n",
    "#creates a branch called feature-a"
   ]
  },
  {
   "cell_type": "code",
   "execution_count": null,
   "id": "14abc6f7-eafe-46e3-9090-bc431be9a4de",
   "metadata": {},
   "outputs": [],
   "source": [
    "!git checkout -\n",
    "#switches to the previous branch"
   ]
  },
  {
   "cell_type": "code",
   "execution_count": null,
   "id": "e4cea102-bff9-453e-abe0-2881dd253f84",
   "metadata": {},
   "outputs": [],
   "source": [
    "!git checkout feature-a\n",
    "#changes from main branch to feature-a branch"
   ]
  },
  {
   "cell_type": "code",
   "execution_count": null,
   "id": "9fde34ae-e8f1-474e-b6a1-d355ba89663a",
   "metadata": {},
   "outputs": [],
   "source": [
    "!git branch -d filename\n",
    "!git branch --delete filename\n",
    "#deletes the branch filename"
   ]
  },
  {
   "cell_type": "markdown",
   "id": "c576f071-8a96-4789-bf0b-6bdf61ab1c58",
   "metadata": {},
   "source": [
    "## git remote"
   ]
  },
  {
   "cell_type": "code",
   "execution_count": null,
   "id": "fd61aaf2-9ed1-4eca-8236-081ae6cb029c",
   "metadata": {},
   "outputs": [],
   "source": [
    "!git remote add origin url\n",
    "#add the url as the remote url"
   ]
  },
  {
   "cell_type": "code",
   "execution_count": null,
   "id": "967e7a5a-ce6a-4851-9ef8-f66007d178a1",
   "metadata": {},
   "outputs": [],
   "source": [
    "!git remote -v\n",
    "#checks the remote urls"
   ]
  },
  {
   "cell_type": "markdown",
   "id": "65688f93-26ea-4cc8-8f63-f2c0cc247265",
   "metadata": {},
   "source": [
    "## git pull"
   ]
  },
  {
   "cell_type": "code",
   "execution_count": null,
   "id": "1548826c-8012-4ed6-9173-bd3a012b643d",
   "metadata": {},
   "outputs": [],
   "source": [
    "!git pull -r origin main\n",
    "!git pull --rebase origin main\n",
    "#pulls changes in the main to the current branch"
   ]
  },
  {
   "cell_type": "code",
   "execution_count": null,
   "id": "c28a1588-138c-45a8-8d7d-75940466c50d",
   "metadata": {},
   "outputs": [],
   "source": [
    "!git pull\n",
    "#pull changes in the current branch"
   ]
  },
  {
   "cell_type": "markdown",
   "id": "889bf828-d5b6-48c4-80f0-38c2b331b5d8",
   "metadata": {},
   "source": [
    "## git rebase"
   ]
  },
  {
   "cell_type": "code",
   "execution_count": null,
   "id": "7ed3dc03-b3da-4ce0-b28b-dcb72c5e8feb",
   "metadata": {},
   "outputs": [],
   "source": [
    "!git rebase --continue\n",
    "#once the conflict is resolved and merged, we use the command to rebase"
   ]
  },
  {
   "cell_type": "markdown",
   "id": "4550ac32-b3f4-4644-906d-16748fbad28a",
   "metadata": {},
   "source": [
    "## git push"
   ]
  },
  {
   "cell_type": "code",
   "execution_count": null,
   "id": "5c075313-0779-4821-bd06-3e34e256b413",
   "metadata": {},
   "outputs": [],
   "source": [
    "!git push -u origin main\n",
    "#pushes changes in the main to the current branch"
   ]
  },
  {
   "cell_type": "code",
   "execution_count": null,
   "id": "d12501e9-910a-481b-b6be-d1f03894732b",
   "metadata": {},
   "outputs": [],
   "source": [
    "!git push\n",
    "#pushes changes in the current branch"
   ]
  },
  {
   "cell_type": "code",
   "execution_count": null,
   "id": "21b59160-952e-4aab-90f3-7769852854b7",
   "metadata": {},
   "outputs": [],
   "source": [
    "!git push -f\n",
    "!git push --force\n",
    "#forces push if the changes fail to update after resolving conflict"
   ]
  }
 ],
 "metadata": {
  "kernelspec": {
   "display_name": "Python 3 (ipykernel)",
   "language": "python",
   "name": "python3"
  },
  "language_info": {
   "codemirror_mode": {
    "name": "ipython",
    "version": 3
   },
   "file_extension": ".py",
   "mimetype": "text/x-python",
   "name": "python",
   "nbconvert_exporter": "python",
   "pygments_lexer": "ipython3",
   "version": "3.10.4"
  }
 },
 "nbformat": 4,
 "nbformat_minor": 5
}
