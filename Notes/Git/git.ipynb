{
 "cells": [
  {
   "cell_type": "markdown",
   "id": "16f49789-4af7-4ffb-ae11-05e17ae979c5",
   "metadata": {},
   "source": [
    "# Git Commands"
   ]
  },
  {
   "cell_type": "markdown",
   "id": "0104137f-0a6c-439b-8bfc-f1c9d514c6d0",
   "metadata": {},
   "source": [
    "Git is a version control system that allows one or more people to work on the smae code base for the same project.  \n",
    "Github is a hosting platform that allows us to host our projects somewhere on the cloud."
   ]
  },
  {
   "cell_type": "markdown",
   "id": "db22baab-4d64-45f4-a6bd-b74b9dc0356e",
   "metadata": {},
   "source": [
    "## Installing Git"
   ]
  },
  {
   "cell_type": "code",
   "execution_count": null,
   "id": "5a5b28c4-d324-4950-8f40-3836744dc367",
   "metadata": {},
   "outputs": [],
   "source": [
    "!sudo apt-get install git-all"
   ]
  },
  {
   "cell_type": "markdown",
   "id": "15649088-5308-42ad-a2fc-334c33a592ae",
   "metadata": {},
   "source": [
    "## Configure Git"
   ]
  },
  {
   "cell_type": "code",
   "execution_count": null,
   "id": "635621e8-d1ab-49dc-a61b-695ea315964f",
   "metadata": {},
   "outputs": [],
   "source": [
    "!git config --global user.name \"Maureen\"\n",
    "# Allows one to set the username"
   ]
  },
  {
   "cell_type": "code",
   "execution_count": null,
   "id": "f08dc12c-418a-4e3f-98c7-a4cebc9d59bd",
   "metadata": {},
   "outputs": [],
   "source": [
    "!git config --global user.email \"mugomaureenw@gmail.com\"\n",
    "# Allows one to set email"
   ]
  },
  {
   "cell_type": "code",
   "execution_count": null,
   "id": "e1d50073-6e0a-47f3-9652-6c32a048e927",
   "metadata": {},
   "outputs": [],
   "source": [
    "!git config\n",
    "# Shows all configurations"
   ]
  },
  {
   "cell_type": "code",
   "execution_count": null,
   "id": "141c7b38-97df-4100-993f-0fdfca5903f1",
   "metadata": {},
   "outputs": [],
   "source": [
    "!git config -l\n",
    "# List all configurations"
   ]
  },
  {
   "cell_type": "code",
   "execution_count": null,
   "id": "3e4cf96e-0927-4e71-b999-e7aee50212ff",
   "metadata": {},
   "outputs": [],
   "source": [
    "!git config -e\n",
    "# Edit configurations"
   ]
  },
  {
   "cell_type": "markdown",
   "id": "5a267a17-df2a-4b60-a7e3-1abb069f9dc8",
   "metadata": {},
   "source": [
    "## Initialize a Repository"
   ]
  },
  {
   "cell_type": "markdown",
   "id": "572a0d97-8231-4b53-9475-4d0bf7ef87b7",
   "metadata": {},
   "source": [
    "Repository in Git is a collection of files of various different versions."
   ]
  },
  {
   "cell_type": "code",
   "execution_count": null,
   "id": "c8aa233f-e856-479b-9ecf-e34c45de27d1",
   "metadata": {},
   "outputs": [],
   "source": [
    "!git init .\n",
    "# initialize git in the current directory"
   ]
  },
  {
   "cell_type": "code",
   "execution_count": null,
   "id": "fc5313ac-c743-4088-b8ae-f825a4c77050",
   "metadata": {},
   "outputs": [],
   "source": [
    "!rm -rf .git\n",
    "#remove a git folder"
   ]
  },
  {
   "cell_type": "markdown",
   "id": "60ef788d-be9a-4d82-abeb-abd84346cfe2",
   "metadata": {},
   "source": [
    "## git add"
   ]
  },
  {
   "cell_type": "code",
   "execution_count": null,
   "id": "1018ff25-f030-424f-894b-4cdc08f6bc58",
   "metadata": {},
   "outputs": [],
   "source": [
    "!git add .\n",
    "# adds all the files in the current directory to the satging area"
   ]
  },
  {
   "cell_type": "code",
   "execution_count": null,
   "id": "4e472447-db58-439c-958c-39ac4450e57a",
   "metadata": {},
   "outputs": [],
   "source": [
    "!git add filename\n",
    "#adds 'filename' file to the staging area"
   ]
  },
  {
   "cell_type": "code",
   "execution_count": null,
   "id": "5927a993-124c-41c8-9e64-558d3bcd8930",
   "metadata": {},
   "outputs": [],
   "source": [
    "!git rm --cached filename\n",
    "#unstages 'filename' file"
   ]
  },
  {
   "cell_type": "code",
   "execution_count": null,
   "id": "b1cf051c-5288-4367-8d65-58904f278e46",
   "metadata": {},
   "outputs": [],
   "source": [
    "!git rm -r --cached .\n",
    "#unstages all files in the current directory"
   ]
  },
  {
   "cell_type": "code",
   "execution_count": null,
   "id": "f8aae491-fa7f-4643-a548-96128c2667ee",
   "metadata": {},
   "outputs": [],
   "source": [
    "!git add -A\n",
    "#add all files in the current and other directories"
   ]
  },
  {
   "cell_type": "markdown",
   "id": "5d9ec481-2aad-491b-84b3-3fbec17024c6",
   "metadata": {},
   "source": [
    "## git commit"
   ]
  },
  {
   "cell_type": "code",
   "execution_count": null,
   "id": "5d66721d-2d1f-4280-9381-b59abf1234db",
   "metadata": {},
   "outputs": [],
   "source": [
    "!git commit -m \"commit message\"\n",
    "#commits the added file(s) in the staging ares\n",
    "#descriptive message of the commit is contained in \" \"."
   ]
  },
  {
   "cell_type": "markdown",
   "id": "27a01ecf-68af-47c7-bc0f-74194187a5c9",
   "metadata": {},
   "source": [
    "## git status"
   ]
  },
  {
   "cell_type": "code",
   "execution_count": null,
   "id": "1a2bc990-ad0c-4047-8a86-b3f490dac930",
   "metadata": {},
   "outputs": [],
   "source": [
    "!git status\n",
    "#gives us the stages of the changes made in the current directory"
   ]
  },
  {
   "cell_type": "markdown",
   "id": "171320ec-ecab-4070-bde0-c1702d9738cb",
   "metadata": {},
   "source": [
    "## git log"
   ]
  },
  {
   "cell_type": "code",
   "execution_count": null,
   "id": "99bdd7e0-f6dd-4c53-9f68-0ae8c009828c",
   "metadata": {},
   "outputs": [],
   "source": [
    "!git log\n",
    "#Shows the details of of the commited files within a git repository"
   ]
  },
  {
   "cell_type": "code",
   "execution_count": null,
   "id": "7d9e049f-5480-4fff-b891-5e6b61117df9",
   "metadata": {},
   "outputs": [],
   "source": []
  }
 ],
 "metadata": {
  "kernelspec": {
   "display_name": "Python 3 (ipykernel)",
   "language": "python",
   "name": "python3"
  },
  "language_info": {
   "codemirror_mode": {
    "name": "ipython",
    "version": 3
   },
   "file_extension": ".py",
   "mimetype": "text/x-python",
   "name": "python",
   "nbconvert_exporter": "python",
   "pygments_lexer": "ipython3",
   "version": "3.10.4"
  }
 },
 "nbformat": 4,
 "nbformat_minor": 5
}
