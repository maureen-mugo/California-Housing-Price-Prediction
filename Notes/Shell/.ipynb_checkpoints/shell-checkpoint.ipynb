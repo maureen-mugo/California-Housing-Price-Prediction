{
 "cells": [
  {
   "cell_type": "markdown",
   "id": "fbb4d254-b5e8-4ed2-b103-0ce8573425c8",
   "metadata": {},
   "source": [
    "## MISSING SEMESTER: LESSON 1  \n",
    "These notes are from [missing semester](https://www.youtube.com/watch?v=Z56Jmr9Z34Q)."
   ]
  },
  {
   "cell_type": "code",
   "execution_count": null,
   "id": "e6f7e82a-da41-4b90-a845-94adf3d35399",
   "metadata": {},
   "outputs": [],
   "source": [
    "!date\n",
    "#displays te date and time"
   ]
  },
  {
   "cell_type": "code",
   "execution_count": null,
   "id": "64069fcb-9ee4-4128-b49b-f4270390eb86",
   "metadata": {},
   "outputs": [],
   "source": [
    "!echo hello\n",
    "#prints out the argument given, in this case hello"
   ]
  },
  {
   "cell_type": "code",
   "execution_count": null,
   "id": "49f426e0-5758-4876-a328-a75625e51808",
   "metadata": {},
   "outputs": [],
   "source": [
    "!echo hello world\n",
    "!echo \"Hello World\"\n",
    "#prints out the double word and string"
   ]
  },
  {
   "cell_type": "code",
   "execution_count": null,
   "id": "e3714230-ca3e-45bb-a815-0f214f6137a3",
   "metadata": {},
   "outputs": [],
   "source": [
    "!echo hello\\ world\n",
    "#prints out hello world\n",
    "# '\\' escapes single characters"
   ]
  },
  {
   "cell_type": "code",
   "execution_count": null,
   "id": "5eb9508b-1c49-4747-8837-8542f67e45c3",
   "metadata": {},
   "outputs": [],
   "source": [
    "!echo $PATH\n",
    "#shows all the paths in the machine that the shell will search for programs"
   ]
  },
  {
   "cell_type": "code",
   "execution_count": null,
   "id": "7525630e-3f53-4e48-b058-7262700cebcb",
   "metadata": {},
   "outputs": [],
   "source": [
    "!which echo\n",
    "#tells which path the command echo runs"
   ]
  },
  {
   "cell_type": "code",
   "execution_count": null,
   "id": "dedf098b-a9cc-4417-980c-2cc858fdf9da",
   "metadata": {},
   "outputs": [],
   "source": [
    "!pwd\n",
    "#prints working directory"
   ]
  },
  {
   "cell_type": "code",
   "execution_count": null,
   "id": "84a25140-efe3-4eea-a342-b8ac5f9ab7dc",
   "metadata": {},
   "outputs": [],
   "source": [
    "!cd\n",
    "#change directory"
   ]
  },
  {
   "cell_type": "code",
   "execution_count": null,
   "id": "606e0a47-7e69-4c4d-b0e2-df2a21ce2f50",
   "metadata": {},
   "outputs": [],
   "source": [
    "!cd ~\n",
    "# changes to home directory\n",
    "# (~) is tilde"
   ]
  },
  {
   "cell_type": "code",
   "execution_count": null,
   "id": "1c879bd2-018a-4d65-98c8-76e1d8672944",
   "metadata": {},
   "outputs": [],
   "source": [
    "!cd -\n",
    "#changes to the previous directory"
   ]
  },
  {
   "cell_type": "code",
   "execution_count": null,
   "id": "45e1805f-a813-402f-af11-7878d02d7ab4",
   "metadata": {},
   "outputs": [],
   "source": [
    "!cd ..\n",
    "#changes to parent directory"
   ]
  },
  {
   "cell_type": "code",
   "execution_count": null,
   "id": "725cdf19-52df-4c53-a601-fb47a69172db",
   "metadata": {},
   "outputs": [],
   "source": [
    "!ls\n",
    "#list files in the current directory"
   ]
  },
  {
   "cell_type": "code",
   "execution_count": null,
   "id": "df3bb21b-8e03-4cb9-a83b-76e2de60542c",
   "metadata": {},
   "outputs": [],
   "source": [
    "!ls ..\n",
    "#list files in the parent directory"
   ]
  },
  {
   "cell_type": "code",
   "execution_count": null,
   "id": "d79b74bf-7bbb-45b2-b7e2-f3796f306113",
   "metadata": {},
   "outputs": [],
   "source": [
    "!ls -l\n",
    "#gives more information about each file or directory"
   ]
  },
  {
   "cell_type": "markdown",
   "id": "203f087c-5dab-4d26-b660-40f3544a22ae",
   "metadata": {},
   "source": [
    "In this command, 'd' at the beginning of the file indicates that its a directory.  \n",
    "The first group of 3 - permissions the owner has.  \n",
    "The second group of 3 - permission the group has.  \n",
    "The final group of 3 - permission everyone has.  "
   ]
  },
  {
   "cell_type": "markdown",
   "id": "8ab0bad4-71c1-4344-a1c0-78b674c1dbb9",
   "metadata": {},
   "source": [
    "r - read  \n",
    "w - write  \n",
    "x - execute  "
   ]
  },
  {
   "cell_type": "code",
   "execution_count": null,
   "id": "a57acd7a-da24-4f98-9949-77f315ebe9fd",
   "metadata": {},
   "outputs": [],
   "source": [
    "--help \n",
    "-h\n",
    "#tells you what flags and options are available for a given command"
   ]
  },
  {
   "cell_type": "code",
   "execution_count": null,
   "id": "5d21a28f-95b7-4bdf-bc01-f8e51209b4f2",
   "metadata": {},
   "outputs": [],
   "source": [
    "!mv pathcurrentfile pathnewfile\n",
    "!mv oldname newname\n",
    "#moves a file"
   ]
  },
  {
   "cell_type": "code",
   "execution_count": null,
   "id": "428d6d43-d1c9-4b9c-9573-ec2e0f67a139",
   "metadata": {},
   "outputs": [],
   "source": [
    "!rename oldname newname\n",
    "# rename file"
   ]
  },
  {
   "cell_type": "code",
   "execution_count": null,
   "id": "da744754-7e47-412d-98f6-a55ea70937c3",
   "metadata": {},
   "outputs": [],
   "source": [
    "!man argument\n",
    "#eg man ls, shows the manual of ls\n",
    "#gives more information about a program's argument, input, output or how it works.\n",
    "#q to quit"
   ]
  },
  {
   "cell_type": "code",
   "execution_count": null,
   "id": "6f9b4674-ab52-4471-b0a4-cf7bf586e46b",
   "metadata": {},
   "outputs": [],
   "source": [
    "Ctrl + L\n",
    "#clears the screen"
   ]
  },
  {
   "cell_type": "code",
   "execution_count": null,
   "id": "eef83dfe-699b-441c-a3c5-9e297098d9a8",
   "metadata": {},
   "outputs": [],
   "source": [
    "!filename > filename1\n",
    "#eg echo hello > hello.txt\n",
    "#rewires the output of filename into filename. In the example, rewires the output of echo hello to hello.txt created in the current directory\n",
    "!filename < filename1\n",
    "#rewires the output of filename1 to filename"
   ]
  },
  {
   "cell_type": "code",
   "execution_count": null,
   "id": "9283e866-51fc-4288-a3c4-8a6c50c512fe",
   "metadata": {},
   "outputs": [],
   "source": [
    "!cat filename\n",
    "#prints the content of a file\n",
    "#eg cat hello.txt"
   ]
  },
  {
   "cell_type": "code",
   "execution_count": null,
   "id": "70b33bfd-b320-4ced-abbb-e5f8c1fe6fb9",
   "metadata": {},
   "outputs": [],
   "source": [
    "!cat < hello.txt > hello2.txt\n",
    "#creates a file hello2.txt and copies the content of hello.txt, but doesn't print the output"
   ]
  },
  {
   "cell_type": "code",
   "execution_count": null,
   "id": "5beccba4-4866-454e-b2e6-73bc7ffd29a8",
   "metadata": {},
   "outputs": [],
   "source": [
    ">>\n",
    "# is used to append instead of overwrite\n",
    "!cat hello.txt >> hello2.txt\n",
    "#prints both hello"
   ]
  },
  {
   "cell_type": "code",
   "execution_count": null,
   "id": "65ddb9af-d686-48f9-b4d2-7344e91d9f99",
   "metadata": {},
   "outputs": [],
   "source": [
    "|\n",
    "#called pipe. Takes the output of the program to the left and makes it the input of the program to the right.\n",
    "#tail prints the last n lines of its input eg. tail -n1\n",
    "!ls -l / | tail -n1\n",
    "#prints the last line of the ls -l of the root directory\n",
    "!ls -l / | tail -n1 > ls.txt\n",
    "#rewires output to ls.txt"
   ]
  },
  {
   "cell_type": "code",
   "execution_count": null,
   "id": "cd1f1563-80fa-45d7-8f67-85089d8add8f",
   "metadata": {},
   "outputs": [],
   "source": [
    "!curl --head --silent google.com\n",
    "#gives all the http headers for accessing google.com\n",
    "!curl --head --silent google.com | grep -i content-length\n",
    "#prints the content length only. Output-> Content-Length:219\n",
    "!curl --head --silent google.com | grep -i content-length | cut --delimiter = '' -f2\n",
    "#Output-> 219"
   ]
  },
  {
   "cell_type": "code",
   "execution_count": null,
   "id": "1d9bd444-2100-4667-99da-865057d8ec2d",
   "metadata": {},
   "outputs": [],
   "source": [
    "grep\n",
    "#allows one to search in an input stream for a given keyword"
   ]
  },
  {
   "cell_type": "markdown",
   "id": "24f6c474-22ee-491a-b77f-500800b1e5a6",
   "metadata": {},
   "source": [
    "Root user - has access restriction and can create, read, update and delete any file in the system.  \n",
    "Can be accessed using the 'sudo' command. su stands for super/root user then do. "
   ]
  },
  {
   "cell_type": "markdown",
   "id": "227a9c79-e147-4106-a078-e2e3daf5113c",
   "metadata": {},
   "source": [
    "sysfs -> file system mounted under /sys.\n",
    "      -> exposes a number of kernel parameters as files so that you can easily reconfigure the kernel on the fly without specialized tools.  \n",
    "Doesn't exist in windows or Mac"
   ]
  },
  {
   "cell_type": "markdown",
   "id": "f1e122d7-5c59-4cba-90a3-898d1d8864d1",
   "metadata": {},
   "source": [
    "tee -> program to open /sys file, take some input and write in a file.  \n",
    "e.g echo 500 | sudo tee brightness -> Takes the input from echo 500 and writes it on brightness file."
   ]
  }
 ],
 "metadata": {
  "kernelspec": {
   "display_name": "Python 3 (ipykernel)",
   "language": "python",
   "name": "python3"
  },
  "language_info": {
   "codemirror_mode": {
    "name": "ipython",
    "version": 3
   },
   "file_extension": ".py",
   "mimetype": "text/x-python",
   "name": "python",
   "nbconvert_exporter": "python",
   "pygments_lexer": "ipython3",
   "version": "3.10.4"
  }
 },
 "nbformat": 4,
 "nbformat_minor": 5
}
