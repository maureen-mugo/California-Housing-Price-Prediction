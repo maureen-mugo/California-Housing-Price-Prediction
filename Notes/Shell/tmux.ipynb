{
 "cells": [
  {
   "cell_type": "markdown",
   "id": "305f2f9a-abce-4852-b1d9-152b23d9401d",
   "metadata": {},
   "source": [
    "Tmux is something that runs in your terminal. Its more like a sub-terminal."
   ]
  },
  {
   "cell_type": "code",
   "execution_count": null,
   "id": "9339e389-5203-4997-a0fc-1d032e616300",
   "metadata": {},
   "outputs": [],
   "source": [
    "!sudo apt install tmux\n",
    "#Install tmux"
   ]
  },
  {
   "cell_type": "code",
   "execution_count": null,
   "id": "5852302a-dea3-4f91-8850-a01299309662",
   "metadata": {},
   "outputs": [],
   "source": [
    "!tmux  \n",
    "#to start the tmux window"
   ]
  },
  {
   "cell_type": "markdown",
   "id": "227ba272-9e42-4afc-af2d-82fdfa632775",
   "metadata": {},
   "source": [
    "Ctrl + D  \n",
    "To quit the tmux window"
   ]
  },
  {
   "cell_type": "markdown",
   "id": "b0e55769-ba9a-4567-a3ae-c3940eb3baaa",
   "metadata": {},
   "source": [
    "Ctrl + B then %  \n",
    "Creates a sub-window in tmux"
   ]
  },
  {
   "cell_type": "markdown",
   "id": "0938b341-4bd1-4f62-b302-144571c6d17d",
   "metadata": {},
   "source": [
    "Ctrl + B then \"  \n",
    "Create a sub-window below"
   ]
  },
  {
   "cell_type": "markdown",
   "id": "cd35e643-2b65-4a06-9a03-2696ec9e5dea",
   "metadata": {},
   "source": [
    "Ctrl + D  \n",
    "Close the sub-windows"
   ]
  },
  {
   "cell_type": "markdown",
   "id": "bdcb2c29-ad08-494b-bf40-a63a92cd1b31",
   "metadata": {},
   "source": [
    "Ctrl + B then arrow keys  \n",
    "Moving around the sub-windows in tmux"
   ]
  },
  {
   "cell_type": "markdown",
   "id": "91505597-18d8-4024-96cc-486eceda5295",
   "metadata": {},
   "source": [
    "Ctrl + B then z  \n",
    "Zoom in and out of a sub-window in tmux"
   ]
  },
  {
   "cell_type": "markdown",
   "id": "fca86f53-2dbc-4243-b727-e973d1b59cf2",
   "metadata": {},
   "source": [
    "Ctrl + B then D  \n",
    "Detach from a tmux  \n",
    "Allows you to close a terminal but you can go back to where you were once you attach "
   ]
  },
  {
   "cell_type": "code",
   "execution_count": null,
   "id": "c651133f-10d9-4293-a331-dbfd53d7be83",
   "metadata": {},
   "outputs": [],
   "source": [
    "!tmux a  \n",
    "#Attach a tmux"
   ]
  }
 ],
 "metadata": {
  "kernelspec": {
   "display_name": "Python 3 (ipykernel)",
   "language": "python",
   "name": "python3"
  },
  "language_info": {
   "codemirror_mode": {
    "name": "ipython",
    "version": 3
   },
   "file_extension": ".py",
   "mimetype": "text/x-python",
   "name": "python",
   "nbconvert_exporter": "python",
   "pygments_lexer": "ipython3",
   "version": "3.10.4"
  }
 },
 "nbformat": 4,
 "nbformat_minor": 5
}
