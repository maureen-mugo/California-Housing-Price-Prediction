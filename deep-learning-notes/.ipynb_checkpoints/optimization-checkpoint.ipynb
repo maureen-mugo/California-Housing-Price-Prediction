{
 "cells": [
  {
   "cell_type": "markdown",
   "id": "503af4cc-90c7-4c13-b99e-3e08a17b064c",
   "metadata": {},
   "source": [
    "# How does a neural network work"
   ]
  },
  {
   "cell_type": "markdown",
   "id": "aa4f69d5-81db-458c-b9fd-1b2098ee94be",
   "metadata": {},
   "source": [
    "Machine learning models are things(for lack of a better word) that fit functions to data."
   ]
  },
  {
   "cell_type": "markdown",
   "id": "3dbd54d3-c3fa-4cc3-b7c3-54166fa79870",
   "metadata": {},
   "source": [
    "A neural net consists of many layers of mathematical functions that:  \n",
    "- multiplies inputs by a given value(also known as parameters)\n",
    "- adds them to each group of value\n",
    "- replaces the negative numbers with zero  \n",
    "\n",
    "This is repeated across all layers, whereby the output of one layer is the input of the next layer. However, this doesn't do anything useful."
   ]
  },
  {
   "cell_type": "markdown",
   "id": "17feeeb3-4503-4f76-afd1-11274eacf9c2",
   "metadata": {},
   "source": [
    "To allow this functions to 'learn' to perform a task, we have to change the parameters depending on the task. This is achieved using Gradient Descent."
   ]
  },
  {
   "cell_type": "markdown",
   "id": "feec322f-590c-46de-9419-11ad4a5080cc",
   "metadata": {},
   "source": [
    "The following illustrates how it works:"
   ]
  },
  {
   "cell_type": "markdown",
   "id": "61b0308b-4487-40ee-a004-dd9c40435aaa",
   "metadata": {},
   "source": [
    "## Fitting a Quadratic"
   ]
  },
  {
   "cell_type": "markdown",
   "id": "6e1aa6ee-15aa-426a-9798-cb56722d8908",
   "metadata": {},
   "source": [
    "We will use a quadratic function as an illustration."
   ]
  },
  {
   "cell_type": "code",
   "execution_count": 1,
   "id": "738ff3a8-ae73-41c2-80c9-35e98c57ad68",
   "metadata": {},
   "outputs": [],
   "source": [
    "from fastai.basics import *\n",
    "plt.rc('figure', dpi=90)\n",
    "def plot_function(f, title=None, min=-2.1, max=2.1, color='r', ylim=None):\n",
    "    x=torch.linspace(min, max, 100)[:,None]\n",
    "    if ylim: plt.ylim(ylim)\n",
    "    plt.plot(x, f(x), color)\n",
    "    if title is not None: plt.title(title)"
   ]
  },
  {
   "cell_type": "markdown",
   "id": "1cc5748b-a7ef-4795-b125-62920dc1f78a",
   "metadata": {},
   "source": [
    "This lines of code above shows how we achieve the ploting that will be used in this notebook."
   ]
  },
  {
   "cell_type": "code",
   "execution_count": 2,
   "id": "3722f97c-c07f-43cf-808c-810a34fcc6cf",
   "metadata": {},
   "outputs": [
    {
     "data": {
      "image/png": "[encoded data removed]",
      "text/plain": [
       "<Figure size 432x288 with 1 Axes>"
      ]
     },
     "metadata": {
      "needs_background": "light"
     },
     "output_type": "display_data"
    }
   ],
   "source": [
    "def f(x): return 3*x**2 + 2*x +1\n",
    "plot_function(f, \"$3x^2 + 2x + 1$\")"
   ]
  },
  {
   "cell_type": "markdown",
   "id": "a1c1b0d6-ab79-4eff-b705-e2ccdf44c70f",
   "metadata": {},
   "source": [
    "The quadratic here is in the form ax^2 + bx + c, with parameters a=3, b=2, and c=1.  \n",
    "The writing between the $(latex) shows how we can create kind of typeset mathematical equations."
   ]
  },
  {
   "cell_type": "markdown",
   "id": "89be5106-2f4c-428f-9415-c1192d1ddddf",
   "metadata": {},
   "source": [
    "## Create Different Quadratics"
   ]
  },
  {
   "cell_type": "markdown",
   "id": "de2b81ba-a488-490a-980a-c784821928ea",
   "metadata": {},
   "source": [
    "Assuming, we were not given the parameters, we can try different quadratic that creates a function that calculates the value of point on a quadratic."
   ]
  },
  {
   "cell_type": "code",
   "execution_count": 3,
   "id": "9a3b1b8d-e88a-4f89-8f80-a526a2a70db3",
   "metadata": {},
   "outputs": [],
   "source": [
    "def quad(a, b, c, x): return a*x**2 + b*x + c"
   ]
  },
  {
   "cell_type": "markdown",
   "id": "161f50af-ad13-4808-902d-f490a5e1c773",
   "metadata": {},
   "source": [
    "If we assign 3, 2, 1 to a, b, c , respectively and fix 1.5 as the value of x using the code:  \n",
    "quad(3, 2, 1, 1.5)  \n",
    "As seen in the commented cell below gives us an output of 10.75."
   ]
  },
  {
   "cell_type": "code",
   "execution_count": 4,
   "id": "aff27a89-0458-4f72-80b1-d4ab66d332fb",
   "metadata": {},
   "outputs": [],
   "source": [
    "#quad(3, 2, 1, 1.5)"
   ]
  },
  {
   "cell_type": "markdown",
   "id": "6f4c794c-c970-41dc-9bb1-a4fc6af13db6",
   "metadata": {},
   "source": [
    "Remember, we don't have the values of the parameters therefore we have find them."
   ]
  },
  {
   "cell_type": "code",
   "execution_count": 5,
   "id": "1379db79-5af9-4cb8-9974-bb79a6b16040",
   "metadata": {},
   "outputs": [],
   "source": [
    "from functools import partial\n",
    "def mk_quad(a, b, c): return partial(quad, a, b, c)"
   ]
  },
  {
   "cell_type": "markdown",
   "id": "ed185d19-fd6a-4afe-a9d4-9b41c30bdc97",
   "metadata": {},
   "source": [
    "Partial allows us to use the quad function but fix the values of a, b, c to pick particular values.  \n",
    "For example:"
   ]
  },
  {
   "cell_type": "code",
   "execution_count": 6,
   "id": "730d8c0d-29ce-43d2-96cd-b8495fa03092",
   "metadata": {},
   "outputs": [],
   "source": [
    "#f=mk_quad(3, 2, 1)\n",
    "#f(1.5)"
   ]
  },
  {
   "cell_type": "markdown",
   "id": "394dcee2-2ee4-425c-9905-4d2a35cf64f3",
   "metadata": {},
   "source": [
    "This creates a quadratic equation with coefficients 3, 2, 1 and gets 10.75."
   ]
  },
  {
   "cell_type": "code",
   "execution_count": 7,
   "id": "c14cfe64-339e-49f7-a0a7-db88dce15ad9",
   "metadata": {},
   "outputs": [
    {
     "data": {
      "image/png": "[encoded data removed]",
      "text/plain": [
       "<Figure size 432x288 with 1 Axes>"
      ]
     },
     "metadata": {
      "needs_background": "light"
     },
     "output_type": "display_data"
    }
   ],
   "source": [
    "plot_function(f)"
   ]
  },
  {
   "cell_type": "markdown",
   "id": "4b371b0d-d74e-460c-aa71-42de1f0323f3",
   "metadata": {},
   "source": [
    "## Add Noise"
   ]
  },
  {
   "cell_type": "markdown",
   "id": "fb0c2adc-4972-4b6a-af95-f87500d5bac6",
   "metadata": {},
   "source": [
    "In real life, data is never going to match the shape of a function. For this reason, we will add some random noise to the data.  \n",
    "We will then use gradient descent to see if we can recreate the original function from the data."
   ]
  },
  {
   "cell_type": "code",
   "execution_count": 8,
   "id": "2c0df5ee-9083-43b2-95b5-b4482dd266f9",
   "metadata": {},
   "outputs": [],
   "source": [
    "from numpy.random import normal, seed, uniform\n",
    "np.random.seed(42)\n",
    "def noise (x, scale): return normal(scale=scale, size=x.shape)\n",
    "def add_noise(x, mult, add): return x * (1 + noise(x, mult)) + noise(x, add)"
   ]
  },
  {
   "cell_type": "code",
   "execution_count": 9,
   "id": "eb869cf6-2a4e-41ca-b013-e4471eef778d",
   "metadata": {},
   "outputs": [],
   "source": [
    "x = torch.linspace(-2, 2, steps = 20)[:,None]\n",
    "y = add_noise(f(x), 0.3, 1.5)"
   ]
  },
  {
   "cell_type": "markdown",
   "id": "7f754406-584d-4263-9730-66003057d074",
   "metadata": {},
   "source": [
    "Explaining a few functions used:  \n",
    "normal -> creates normally distributed random numbers  \n",
    "random.seed -> shows how we set the seed so that every time we run the code we get the same random number  \n",
    "torch.linspace -> creates a tensor, so that in this case we get a vector that goes from -2 to 2 in equal steps and there are 20 of them (steps = 20)  \n",
    "y -> is just f(x), the amount of noise addded"
   ]
  },
  {
   "cell_type": "code",
   "execution_count": 10,
   "id": "df1a70a5-41af-41c6-932d-957103570f65",
   "metadata": {},
   "outputs": [
    {
     "data": {
      "text/plain": [
       "(tensor([[-2.0000],\n",
       "         [-1.7895],\n",
       "         [-1.5789],\n",
       "         [-1.3684],\n",
       "         [-1.1579]]),\n",
       " tensor([[12.5396],\n",
       "         [ 6.3975],\n",
       "         [ 6.4566],\n",
       "         [ 3.5170],\n",
       "         [ 1.6997]], dtype=torch.float64))"
      ]
     },
     "execution_count": 10,
     "metadata": {},
     "output_type": "execute_result"
    }
   ],
   "source": [
    "x[:5], y[:5]"
   ]
  },
  {
   "cell_type": "markdown",
   "id": "2e933a35-2f3b-4fa3-8877-88af9e92768a",
   "metadata": {},
   "source": [
    "These are a few values of x and y in tensor form.  "
   ]
  },
  {
   "cell_type": "code",
   "execution_count": 11,
   "id": "cdb9e0e5-a60e-435c-b9e8-7466989d706e",
   "metadata": {},
   "outputs": [
    {
     "data": {
      "image/png": "[encoded data removed]",
      "text/plain": [
       "<Figure size 432x288 with 1 Axes>"
      ]
     },
     "metadata": {
      "needs_background": "light"
     },
     "output_type": "display_data"
    }
   ],
   "source": [
    "plt.scatter(x, y);"
   ]
  },
  {
   "cell_type": "markdown",
   "id": "dc77cd5f-a3b7-486a-8e18-941dd01a3003",
   "metadata": {},
   "source": [
    "## Reconstructing the original quadratic equation"
   ]
  },
  {
   "cell_type": "markdown",
   "id": "a8095bdc-b676-4d96-af31-935b40a14f75",
   "metadata": {},
   "source": [
    "Now that we have random values, we need to find the values of a, b, c that match the data. We can do this by trying a few values and see the ones that fit."
   ]
  },
  {
   "cell_type": "code",
   "execution_count": 12,
   "id": "32079c05-c492-4d55-b527-1bd534e57177",
   "metadata": {},
   "outputs": [
    {
     "data": {
      "application/vnd.jupyter.widget-view+json": {
       "model_id": "4c1d20daabb04aabbcb5d4bdad5f3720",
       "version_major": 2,
       "version_minor": 0
      },
      "text/plain": [
       "interactive(children=(FloatSlider(value=1.5, description='a', max=4.5, min=-1.5), FloatSlider(value=1.5, descr…"
      ]
     },
     "metadata": {},
     "output_type": "display_data"
    }
   ],
   "source": [
    "from ipywidgets import interact\n",
    "@interact(a=1.5, b=1.5, c=1.5)\n",
    "def plot_quad(a, b, c):\n",
    "    plt.scatter(x, y)\n",
    "    plot_function(mk_quad(a, b, c), ylim=(-3,12))"
   ]
  },
  {
   "cell_type": "markdown",
   "id": "359e3599-5e7b-4fe3-9d12-921eb06e468d",
   "metadata": {},
   "source": [
    "interact allows us to have an interactive feature to our function by adding sliders.  \n",
    "Using the slider to the left or right for the values of a, b, c helps us find the best fit of the quadratic to the data."
   ]
  },
  {
   "cell_type": "markdown",
   "id": "0f8073c8-37e6-41ab-a747-4e0db209be9a",
   "metadata": {},
   "source": [
    "However, this is not the most efficient method to find the values. We need to find a measure that tells us whether our model is getting better or worse. This can be achieved numerically by calculating the mean squared error.  \n",
    "Mean Squared Error -> the distance between each data point to the curve."
   ]
  },
  {
   "cell_type": "code",
   "execution_count": 13,
   "id": "24e8690b-85ab-4344-a8de-e2f09369544d",
   "metadata": {},
   "outputs": [],
   "source": [
    "def mse(preds, acts): return((preds - acts)**2).mean()"
   ]
  },
  {
   "cell_type": "markdown",
   "id": "e3b8f6e5-e390-49b4-8f27-af77dc3a34e0",
   "metadata": {},
   "source": [
    "This is a loss function.  \n",
    "mse function gets predictions and actuals  \n",
    "It returns the square of predictions - actuals, then calculates the mean."
   ]
  },
  {
   "cell_type": "code",
   "execution_count": 14,
   "id": "89edf17d-155b-4b27-8abb-83efd55c4af7",
   "metadata": {},
   "outputs": [
    {
     "data": {
      "application/vnd.jupyter.widget-view+json": {
       "model_id": "41ca6eef9d064bb1ac8ad6772ca13019",
       "version_major": 2,
       "version_minor": 0
      },
      "text/plain": [
       "interactive(children=(FloatSlider(value=1.5, description='a', max=4.5, min=-1.5), FloatSlider(value=1.5, descr…"
      ]
     },
     "metadata": {},
     "output_type": "display_data"
    }
   ],
   "source": [
    "@interact(a=1.5, b=1.5, c=1.5)\n",
    "def plot_quad(a, b, c):\n",
    "    f=mk_quad(a, b, c)\n",
    "    plt.scatter(x, y)\n",
    "    loss=mse(f(x), y)\n",
    "    plot_function(f, ylim=(-3, 12), title = f\"MSE: {loss:.2f}\")"
   ]
  },
  {
   "cell_type": "markdown",
   "id": "7bbf61f6-8bf5-436e-8458-33b6e28a6605",
   "metadata": {},
   "source": [
    "We calculate the loss(mse) between the values that we predict(f(x)); where f is the quadratic we created and y is the actuals."
   ]
  },
  {
   "cell_type": "markdown",
   "id": "66eb6a2d-b590-4070-a641-89358dfecf72",
   "metadata": {},
   "source": [
    "Moving the interact slides to the left or right for the values of a, b, c allows us to see where the loss (MSE) is getting better or worse."
   ]
  },
  {
   "cell_type": "markdown",
   "id": "92f3fc4a-e220-4dc6-8ac4-6a6d379545d5",
   "metadata": {},
   "source": [
    "## Automating the gradient descent process"
   ]
  },
  {
   "cell_type": "markdown",
   "id": "c5e3b56b-30d3-41ec-9c14-d93c6487f290",
   "metadata": {},
   "source": [
    "Neural networks have millions of parameters therefore moving the interact slide for each parameter is not the most efficient way to check if the loss is getting better or worse."
   ]
  },
  {
   "cell_type": "markdown",
   "id": "4dee3fbd-dc23-44cd-b3ad-4ab11f0b7073",
   "metadata": {},
   "source": [
    "This can be achieved by calculating the derivative.  \n",
    "Derivative -> function that tells you whether the increase an input increases or decreases the output, and by how much. This is called the gradient/slope."
   ]
  },
  {
   "cell_type": "markdown",
   "id": "89fccbb0-a65e-489d-8a02-14fda11b47bd",
   "metadata": {},
   "source": [
    "If we know the gradient of our mse(mean squared error) with respect to our values a, b, c, then we will know how to adjust the values a, b, and c. That is, whether to increase or decrease them."
   ]
  },
  {
   "cell_type": "markdown",
   "id": "2860f508-6099-49b6-a262-6c825d803bee",
   "metadata": {},
   "source": [
    "We will find the gradient of the mse() of each parameter then adjust it in the opposite direction of the sign of the gradient.  \n",
    "For instance, if the gradient sign is negative, we will increase the value. If the gadient sign is positive, we will reduce the value."
   ]
  },
  {
   "cell_type": "code",
   "execution_count": 15,
   "id": "39ef3011-f684-4041-a981-fa34d7fa1a90",
   "metadata": {},
   "outputs": [],
   "source": [
    "def quad_mse(params):\n",
    "    f=mk_quad(*params)\n",
    "    return mse(f(x), y)"
   ]
  },
  {
   "cell_type": "markdown",
   "id": "78337000-2a25-4167-83b4-4dfe215ef515",
   "metadata": {},
   "source": [
    "First, we need a function that takes the coefficients of the quadratic a, b, c as inputs.  \n",
    "(*) -> takes these parameters and spreads them out to turn them into a, b, c and pass them to the function.  \n"
   ]
  },
  {
   "cell_type": "markdown",
   "id": "834d0b18-cf9f-4a07-9866-6301879b2694",
   "metadata": {},
   "source": [
    "The function returns the mean squared error of our predictions against our actuals.  \n",
    "It takes the coefficients of the quadratic and returns the loss."
   ]
  },
  {
   "cell_type": "code",
   "execution_count": 16,
   "id": "f749ea02-cddc-42e9-9573-1874a159b8dc",
   "metadata": {},
   "outputs": [
    {
     "data": {
      "text/plain": [
       "tensor(5.8336, dtype=torch.float64)"
      ]
     },
     "execution_count": 16,
     "metadata": {},
     "output_type": "execute_result"
    }
   ],
   "source": [
    "quad_mse([1.5, 1.5, 1.5])"
   ]
  },
  {
   "cell_type": "markdown",
   "id": "89d10a01-4a32-495d-ac12-4e7638ce80ff",
   "metadata": {},
   "source": [
    "Here, we get a mse of 5.8336 just like in the plot above."
   ]
  },
  {
   "cell_type": "markdown",
   "id": "43808765-9dd4-4e0e-b319-62558660bcae",
   "metadata": {},
   "source": [
    "A tensor is like an array in numpy. It doesn't work with numbers only, it also works with lists or vectors of numbers."
   ]
  },
  {
   "cell_type": "markdown",
   "id": "c7d2f7ed-e8a6-40ff-a4c3-2394ba436811",
   "metadata": {},
   "source": [
    "First, we are going to manually pick some arbitrary starting points for our starting point and put it in a single tensor or rank-1 tensor."
   ]
  },
  {
   "cell_type": "code",
   "execution_count": 17,
   "id": "3fbd6127-3a5f-4b18-876c-fca87864fde8",
   "metadata": {},
   "outputs": [
    {
     "data": {
      "text/plain": [
       "tensor([1.5000, 1.5000, 1.5000], requires_grad=True)"
      ]
     },
     "execution_count": 17,
     "metadata": {},
     "output_type": "execute_result"
    }
   ],
   "source": [
    "abc = torch.tensor([1.5, 1.5, 1.5])\n",
    "abc.requires_grad_()"
   ]
  },
  {
   "cell_type": "markdown",
   "id": "ae6447cf-e31d-479b-b5cd-ed558d3c543d",
   "metadata": {},
   "source": [
    "To calculate the gradient for these numbers, we need to call requires_grad_()"
   ]
  },
  {
   "cell_type": "code",
   "execution_count": 18,
   "id": "4ef7b8e1-2b25-4bca-a374-db36ccd3f2b5",
   "metadata": {},
   "outputs": [
    {
     "data": {
      "text/plain": [
       "tensor(5.8336, dtype=torch.float64, grad_fn=<MeanBackward0>)"
      ]
     },
     "execution_count": 18,
     "metadata": {},
     "output_type": "execute_result"
    }
   ],
   "source": [
    "loss = quad_mse(abc)\n",
    "loss"
   ]
  },
  {
   "cell_type": "markdown",
   "id": "b1d0574a-c997-4ad5-91bd-778872dc378d",
   "metadata": {},
   "source": [
    "We can now calculate mse by passing quad_mse which is the function that gets the mean squared error for a set of coeffiecients."
   ]
  },
  {
   "cell_type": "markdown",
   "id": "3877a0b7-b6e8-4659-a649-164ef708f4a5",
   "metadata": {},
   "source": [
    "From the output, grad_fn tells us that Pytorch knows how to calculate the gradient for our inputs."
   ]
  },
  {
   "cell_type": "markdown",
   "id": "328d203b-5862-461c-88a8-0cf2b1532e4c",
   "metadata": {},
   "source": [
    "To give Pytorch a go ahead to do the calculation, we call 'backward' on the results of the loss function."
   ]
  },
  {
   "cell_type": "code",
   "execution_count": 19,
   "id": "db5077d1-1f33-453f-a7ec-fac7abc36c2f",
   "metadata": {},
   "outputs": [],
   "source": [
    "loss.backward()"
   ]
  },
  {
   "cell_type": "markdown",
   "id": "ab7bd267-b3fc-4f1f-945a-5d812ec66148",
   "metadata": {},
   "source": [
    "We don't get an output from this, rather we just added an attribute called grad, which is the gradient to our input 'abc'."
   ]
  },
  {
   "cell_type": "code",
   "execution_count": 20,
   "id": "eda20156-e4f2-4410-b3df-da62a46f0405",
   "metadata": {},
   "outputs": [
    {
     "data": {
      "text/plain": [
       "tensor([-5.1419,  2.8472, -1.1009])"
      ]
     },
     "execution_count": 20,
     "metadata": {},
     "output_type": "execute_result"
    }
   ],
   "source": [
    "abc.grad"
   ]
  },
  {
   "cell_type": "markdown",
   "id": "7474a787-65a6-4495-bca5-56c8033e6836",
   "metadata": {},
   "source": [
    "The results of this gradients mean that:  \n",
    "-> if we increase a, the loss will reduce  \n",
    "-> if we decrease b, the loss will reduce  \n",
    "-> if we increase c, the loss will reduce"
   ]
  },
  {
   "cell_type": "code",
   "execution_count": 21,
   "id": "71602493-2680-4ce0-b051-4f305797008e",
   "metadata": {},
   "outputs": [
    {
     "name": "stdout",
     "output_type": "stream",
     "text": [
      "loss=5.49\n"
     ]
    }
   ],
   "source": [
    "with torch.no_grad():\n",
    "    abc -= abc.grad*0.01\n",
    "    loss = quad_mse(abc)\n",
    "    \n",
    "print(f'loss={loss:.2f}')"
   ]
  },
  {
   "cell_type": "markdown",
   "id": "bc454c46-35b1-486c-b0ec-5dc4eecb2c69",
   "metadata": {},
   "source": [
    "The above code lets us subtract the gradient then multiply it by a small number to reduce the loss.  \n",
    "The small number in our case is 0.01 which is also referred to as the learning rate. This is an important hyperparameter to set when traing a neural network."
   ]
  },
  {
   "cell_type": "markdown",
   "id": "0001b0dc-d683-49ec-951d-8fa070ed74b9",
   "metadata": {},
   "source": [
    "with torch.no_grad() means we don't want to calculate the gradient before we change the gradient from the new parameters."
   ]
  },
  {
   "cell_type": "markdown",
   "id": "a0156d7a-7d10-4f25-a8df-96be675deeb5",
   "metadata": {},
   "source": [
    "-= means abc minus the gradient then decrease it a bit by 0.01.  \n",
    "This will create a new set of parameters(abc) which are a bit bigger than before as we subtracted the negative numbers.  "
   ]
  },
  {
   "cell_type": "markdown",
   "id": "3ccda570-4579-4be2-948c-275aa3406b5b",
   "metadata": {},
   "source": [
    "Then we calculate the loss again. We get a loss of 5.49 which is better than the previous 5.83."
   ]
  },
  {
   "cell_type": "markdown",
   "id": "5fbecbc4-fc42-466f-a801-61221af0f9cc",
   "metadata": {},
   "source": [
    "## Automating the process"
   ]
  },
  {
   "cell_type": "code",
   "execution_count": 22,
   "id": "3603c340-ac90-4131-b5b5-3d1df9e8cb8d",
   "metadata": {},
   "outputs": [
    {
     "name": "stdout",
     "output_type": "stream",
     "text": [
      "step=0; loss=5.489318\n",
      "step=1; loss=4.900367\n",
      "step=2; loss=4.233165\n",
      "step=3; loss=3.666485\n",
      "step=4; loss=3.334242\n"
     ]
    }
   ],
   "source": [
    "for i in range(5):\n",
    "    loss = quad_mse(abc)\n",
    "    loss.backward()\n",
    "    with torch.no_grad(): abc -= abc.grad*0.01\n",
    "    print(f'step={i}; loss={loss:2f}')"
   ]
  },
  {
   "cell_type": "markdown",
   "id": "50703602-59eb-4faa-9aec-60e25a159da4",
   "metadata": {},
   "source": [
    "This allows us to iterate over the process 5 times. As you can see, the loss decreases with every iteration. this is called Optimization.\n",
    "Optimization is built on the principle of gradient descent, whereby we calculate the gradient then do a descent(minimize the loss)."
   ]
  },
  {
   "cell_type": "markdown",
   "id": "e2afd979-1837-4a02-a2e0-df25b6469660",
   "metadata": {},
   "source": [
    "## Approximating any given value"
   ]
  },
  {
   "cell_type": "markdown",
   "id": "95dbbfbd-d4d3-4fb5-a700-84ae1d9d1a9a",
   "metadata": {},
   "source": [
    "A neural network is an expressive function and can calculate any computable function given the parameters."
   ]
  },
  {
   "cell_type": "markdown",
   "id": "bbf58772-6ac0-4907-8458-4d3ea50f32af",
   "metadata": {},
   "source": [
    "It is able to compute any function through two simple steps:  \n",
    " (i) Matrix multiplication, multiplying values then adding them together.  \n",
    " (ii) The function max(x, 0) which simply replaces negative numbers with zero."
   ]
  },
  {
   "cell_type": "markdown",
   "id": "72c20e67-e3e5-416e-8a37-61b1618823cb",
   "metadata": {},
   "source": [
    "In Pytorch, max(x, 0) is wriiten as np.clip(x, 0)."
   ]
  },
  {
   "cell_type": "markdown",
   "id": "7e31a112-4c6e-49f2-abf8-40a5cafde2e9",
   "metadata": {},
   "source": [
    "The combination of a linear function with max() is called Rectified Linear function.  \n",
    "It can be expressed as:"
   ]
  },
  {
   "cell_type": "code",
   "execution_count": 23,
   "id": "0375d510-688f-4295-a3f9-c0856b7f462e",
   "metadata": {},
   "outputs": [],
   "source": [
    "def rectified_linear(m, b, x):\n",
    "    y = m*x + b\n",
    "    return torch.clip(y, 0.)"
   ]
  },
  {
   "cell_type": "markdown",
   "id": "5db80ec2-abec-408f-a93e-7eca84ced665",
   "metadata": {},
   "source": [
    "torch.clip() is a function that takes the output, y, and if it is smaller than the number, it turns it into the number.\n",
    "In our case, it checks the value of y, and if its negative it turns it to a zero."
   ]
  },
  {
   "cell_type": "markdown",
   "id": "195eea80-7837-4577-83d5-feefa7b039c7",
   "metadata": {},
   "source": [
    "So the rectified_linear() function calculates the output of a line then checks if it is smaller than zero so as to convert the value to zero."
   ]
  },
  {
   "cell_type": "code",
   "execution_count": 24,
   "id": "30bf739c-82cd-43ec-bba4-21d541295008",
   "metadata": {},
   "outputs": [
    {
     "data": {
      "image/png": "[encoded data removed]",
      "text/plain": [
       "<Figure size 432x288 with 1 Axes>"
      ]
     },
     "metadata": {
      "needs_background": "light"
     },
     "output_type": "display_data"
    }
   ],
   "source": [
    "plot_function(partial(rectified_linear, 1, 1))"
   ]
  },
  {
   "cell_type": "markdown",
   "id": "10100fc2-93c2-45b1-a0f5-a9575205f9c2",
   "metadata": {},
   "source": [
    "Instead of torch.clip(y, 0.), we can instead use F.relu(x), which does exactly the same thing. In PyTorch, F refers to the torch.nn.functional module."
   ]
  },
  {
   "cell_type": "code",
   "execution_count": 25,
   "id": "56840b12-06ca-4261-97a6-4152330e92c6",
   "metadata": {},
   "outputs": [
    {
     "data": {
      "image/png": "[encoded data removed]",
      "text/plain": [
       "<Figure size 432x288 with 1 Axes>"
      ]
     },
     "metadata": {
      "needs_background": "light"
     },
     "output_type": "display_data"
    }
   ],
   "source": [
    "import torch.nn.functional as F\n",
    "def rectified_linear2(m,b,x): return F.relu(m*x+b)\n",
    "plot_function(partial(rectified_linear2, 1,1))"
   ]
  },
  {
   "cell_type": "markdown",
   "id": "eeca3351-aacd-4268-8160-159cf928a98d",
   "metadata": {},
   "source": [
    "We use 'partial'  to take the function and set m and b to 1 and 1."
   ]
  },
  {
   "cell_type": "markdown",
   "id": "cb967f2f-d0ba-4651-a033-c2400f123031",
   "metadata": {},
   "source": [
    "partial(rectified_linear, 1, 1) will be y when passed to torch.clip()."
   ]
  },
  {
   "cell_type": "markdown",
   "id": "ac9b8227-f7df-46cf-9dc3-14133354f9e0",
   "metadata": {},
   "source": [
    "Adding the interact:"
   ]
  },
  {
   "cell_type": "code",
   "execution_count": 26,
   "id": "23236c23-3027-4e2a-8c02-454366714169",
   "metadata": {},
   "outputs": [
    {
     "data": {
      "application/vnd.jupyter.widget-view+json": {
       "model_id": "e93f1282c44d469aa87438b57cd27f22",
       "version_major": 2,
       "version_minor": 0
      },
      "text/plain": [
       "interactive(children=(FloatSlider(value=1.5, description='m', max=4.5, min=-1.5), FloatSlider(value=1.5, descr…"
      ]
     },
     "metadata": {},
     "output_type": "display_data"
    }
   ],
   "source": [
    "@interact(m=1.5, b=1.5)\n",
    "def plot_relu(m, b):\n",
    "    plot_function(partial(rectified_linear, m, b), ylim=(-1, 4))"
   ]
  },
  {
   "cell_type": "markdown",
   "id": "b6b4c1e3-a6b6-44d2-af84-d3209590d558",
   "metadata": {},
   "source": [
    "ylim -> limits on the y axis  \n",
    "m -> slope, b -> intercept with a shift up and down / the location."
   ]
  },
  {
   "cell_type": "markdown",
   "id": "a9e492a5-3523-45e2-a603-8aaaecdd2478",
   "metadata": {},
   "source": [
    "## Creating a double Rectified Linear Unit(ReLU)"
   ]
  },
  {
   "cell_type": "markdown",
   "id": "aece3d30-843a-4e1e-84c1-225619cab72e",
   "metadata": {},
   "source": [
    "Lets try add two rectified linear functions together."
   ]
  },
  {
   "cell_type": "code",
   "execution_count": 27,
   "id": "c9c90e55-9b28-454c-b16e-46cc6480fb4e",
   "metadata": {},
   "outputs": [],
   "source": [
    "def double_relu(m1, b1, m2, b2, x):\n",
    "    return rectified_linear(m1, b1,x) + rectified_linear(m2, b2, x)"
   ]
  },
  {
   "cell_type": "code",
   "execution_count": 28,
   "id": "bb506c2e-decd-4268-b00f-84d25598e894",
   "metadata": {},
   "outputs": [
    {
     "data": {
      "application/vnd.jupyter.widget-view+json": {
       "model_id": "d36911be11a1443c83c4ade4220dc18f",
       "version_major": 2,
       "version_minor": 0
      },
      "text/plain": [
       "interactive(children=(FloatSlider(value=-1.5, description='m1', max=1.5, min=-4.5), FloatSlider(value=-1.5, de…"
      ]
     },
     "metadata": {},
     "output_type": "display_data"
    }
   ],
   "source": [
    "@interact(m1 = -1.5, b1 = -1.5, m2 = 1.5, b2 = 1.5)\n",
    "def plot_double_relu(m1, b1, m2, b2):\n",
    "    plot_function(partial(double_relu, m1, b1, m2, b2), ylim = (-1, 6))"
   ]
  },
  {
   "cell_type": "markdown",
   "id": "75e88bcb-c291-40db-990d-4990eff46295",
   "metadata": {},
   "source": [
    "We can add as many rectified linear functions as we want."
   ]
  },
  {
   "cell_type": "code",
   "execution_count": null,
   "id": "835a23cc-d1c3-4886-8bc0-a8367623e8dd",
   "metadata": {},
   "outputs": [],
   "source": []
  }
 ],
 "metadata": {
  "kernelspec": {
   "display_name": "Python 3 (ipykernel)",
   "language": "python",
   "name": "python3"
  },
  "language_info": {
   "codemirror_mode": {
    "name": "ipython",
    "version": 3
   },
   "file_extension": ".py",
   "mimetype": "text/x-python",
   "name": "python",
   "nbconvert_exporter": "python",
   "pygments_lexer": "ipython3",
   "version": "3.9.13"
  }
 },
 "nbformat": 4,
 "nbformat_minor": 5
}
