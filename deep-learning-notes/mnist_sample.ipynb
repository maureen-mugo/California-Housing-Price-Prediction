{
 "cells": [
  {
   "cell_type": "markdown",
   "id": "ee61a233-29d3-4be1-9799-62e3dcbc4a03",
   "metadata": {},
   "source": [
    "This project creates a model that classifies handwritten 3s and 7s from the MNIST sample dataset."
   ]
  },
  {
   "cell_type": "code",
   "execution_count": 1,
   "id": "b1d96334-bd37-4dbb-9496-354c4a7472c0",
   "metadata": {},
   "outputs": [],
   "source": [
    "!pip install -Uqq fastai"
   ]
  },
  {
   "cell_type": "code",
   "execution_count": 2,
   "id": "1cc7891a-99a9-402b-946a-43cc0f1125cc",
   "metadata": {},
   "outputs": [],
   "source": [
    "!pip install -Uqq fastbook"
   ]
  },
  {
   "cell_type": "code",
   "execution_count": 3,
   "id": "08df2974-89ec-4707-b9b6-6d196497a9e8",
   "metadata": {},
   "outputs": [],
   "source": [
    "from fastai.vision.all import *\n",
    "from fastbook import *\n",
    "\n",
    "matplotlib.rc('image', cmap='Greys')"
   ]
  },
  {
   "cell_type": "code",
   "execution_count": 4,
   "id": "2155893f-dad1-4bdb-8873-9c5fa976bbb5",
   "metadata": {},
   "outputs": [],
   "source": [
    "path = untar_data(URLs.MNIST_SAMPLE)"
   ]
  },
  {
   "cell_type": "code",
   "execution_count": 5,
   "id": "ae04ad3e-8614-4655-ae3f-28269b2576ad",
   "metadata": {},
   "outputs": [],
   "source": [
    "Path.BASE_PATH = path"
   ]
  },
  {
   "cell_type": "markdown",
   "id": "36e21fb5-0dce-4654-8765-e4d956531df7",
   "metadata": {},
   "source": [
    ".BASE_PATH is an attribute to path that tells where the starting point is.  \n",
    "If you run 'path' it shows you where it is"
   ]
  },
  {
   "cell_type": "code",
   "execution_count": 6,
   "id": "0c510f8a-5a22-47b2-b574-d0eba845b208",
   "metadata": {},
   "outputs": [
    {
     "data": {
      "text/plain": [
       "Path('.')"
      ]
     },
     "execution_count": 6,
     "metadata": {},
     "output_type": "execute_result"
    }
   ],
   "source": [
    "path"
   ]
  },
  {
   "cell_type": "code",
   "execution_count": 7,
   "id": "949b9743-c5b5-45af-a937-01b60109b283",
   "metadata": {},
   "outputs": [
    {
     "data": {
      "text/plain": [
       "(#3) [Path('train'),Path('labels.csv'),Path('valid')]"
      ]
     },
     "execution_count": 7,
     "metadata": {},
     "output_type": "execute_result"
    }
   ],
   "source": [
    "path.ls()"
   ]
  },
  {
   "cell_type": "markdown",
   "id": "4b019ebf-1222-4b08-b21e-c5a3ce0394c3",
   "metadata": {},
   "source": [
    "This lets us see what is in the directory."
   ]
  },
  {
   "cell_type": "code",
   "execution_count": 8,
   "id": "7c6aa642-d44a-4ca6-953a-4da9faf421f6",
   "metadata": {},
   "outputs": [
    {
     "data": {
      "text/plain": [
       "pathlib.PosixPath"
      ]
     },
     "execution_count": 8,
     "metadata": {},
     "output_type": "execute_result"
    }
   ],
   "source": [
    "type(path)"
   ]
  },
  {
   "cell_type": "markdown",
   "id": "19805303-739c-4aaf-ace4-34a15c1d2151",
   "metadata": {},
   "source": [
    "pathlib is part of a Python standard library but doesn't have 'ls' command  so we have to add .ls. For instance path.ls()."
   ]
  },
  {
   "cell_type": "code",
   "execution_count": 9,
   "id": "6052cd1e-b8ff-4d10-a63b-f924a7f3b3bc",
   "metadata": {},
   "outputs": [
    {
     "data": {
      "text/plain": [
       "(#2) [Path('train/7'),Path('train/3')]"
      ]
     },
     "execution_count": 9,
     "metadata": {},
     "output_type": "execute_result"
    }
   ],
   "source": [
    "(path/'train').ls()"
   ]
  },
  {
   "cell_type": "markdown",
   "id": "bc3d0b5c-0255-450b-a113-7a46383f78e2",
   "metadata": {},
   "source": [
    "This allows us to see what is in the train folder."
   ]
  },
  {
   "cell_type": "markdown",
   "id": "bff4455f-6dea-40dd-a7db-6b6219724fff",
   "metadata": {},
   "source": [
    "3s and 7s are labels/targets in the dataset."
   ]
  },
  {
   "cell_type": "code",
   "execution_count": 10,
   "id": "be3c6225-bde4-4a4d-ac1c-6712e6d79436",
   "metadata": {},
   "outputs": [],
   "source": [
    "threes = (path/'train'/'3').ls().sorted()\n",
    "sevens = (path/'train'/'7').ls().sorted()"
   ]
  },
  {
   "cell_type": "markdown",
   "id": "a350259a-595c-46aa-b218-ec4fb23cd84f",
   "metadata": {},
   "source": [
    "This allows us to sort the data so that it is consistent/ get the same order of files."
   ]
  },
  {
   "cell_type": "code",
   "execution_count": 11,
   "id": "01b50ef6-86b2-4b2f-9246-0dbc461d0d24",
   "metadata": {},
   "outputs": [
    {
     "data": {
      "text/plain": [
       "(#6131) [Path('train/3/10.png'),Path('train/3/10000.png'),Path('train/3/10011.png'),Path('train/3/10031.png'),Path('train/3/10034.png'),Path('train/3/10042.png'),Path('train/3/10052.png'),Path('train/3/1007.png'),Path('train/3/10074.png'),Path('train/3/10091.png')...]"
      ]
     },
     "execution_count": 11,
     "metadata": {},
     "output_type": "execute_result"
    }
   ],
   "source": [
    "threes"
   ]
  },
  {
   "cell_type": "code",
   "execution_count": 12,
   "id": "0bfe6e62-525f-4057-81e6-e5b6ad7e19df",
   "metadata": {},
   "outputs": [
    {
     "data": {
      "text/plain": [
       "(#6265) [Path('train/7/10002.png'),Path('train/7/1001.png'),Path('train/7/10014.png'),Path('train/7/10019.png'),Path('train/7/10039.png'),Path('train/7/10046.png'),Path('train/7/10050.png'),Path('train/7/10063.png'),Path('train/7/10077.png'),Path('train/7/10086.png')...]"
      ]
     },
     "execution_count": 12,
     "metadata": {},
     "output_type": "execute_result"
    }
   ],
   "source": [
    "sevens"
   ]
  },
  {
   "cell_type": "code",
   "execution_count": 13,
   "id": "6cb7e37c-d864-4f87-b9ac-c88cf411e53c",
   "metadata": {},
   "outputs": [
    {
     "data": {
      "image/png": "[encoded data removed]",
      "text/plain": [
       "<PIL.PngImagePlugin.PngImageFile image mode=L size=28x28>"
      ]
     },
     "execution_count": 13,
     "metadata": {},
     "output_type": "execute_result"
    }
   ],
   "source": [
    "im3_path = threes[1]\n",
    "im3 = Image.open(im3_path)\n",
    "im3"
   ]
  },
  {
   "cell_type": "markdown",
   "id": "dc9a56a1-b7ac-4d2d-b7c0-4583d762150b",
   "metadata": {},
   "source": [
    "This allows us to see one image from the 3s folder after sorting."
   ]
  },
  {
   "cell_type": "code",
   "execution_count": 14,
   "id": "4c14dc8b-b93b-47ec-a1ea-fed43d45c3b3",
   "metadata": {},
   "outputs": [
    {
     "data": {
      "text/plain": [
       "PIL.PngImagePlugin.PngImageFile"
      ]
     },
     "execution_count": 14,
     "metadata": {},
     "output_type": "execute_result"
    }
   ],
   "source": [
    "type(im3)"
   ]
  },
  {
   "cell_type": "markdown",
   "id": "0ddb304e-ddc9-4e9a-be13-d9abb53f5259",
   "metadata": {},
   "source": [
    "The im3 image is a png file.  \n",
    "We need to represent this in number format as everything is represented as numbers in computers.  \n",
    "To view the number that represent this image we convert it to a Numpy array or PyTorch tensor."
   ]
  },
  {
   "cell_type": "markdown",
   "id": "e3b393ec-6d91-4d9d-b788-b6e8c3d4da9c",
   "metadata": {},
   "source": [
    "To convert it to a Numpy array:\n"
   ]
  },
  {
   "cell_type": "code",
   "execution_count": 15,
   "id": "5db64868-3bc7-4ea4-972a-1bbc14167fbd",
   "metadata": {},
   "outputs": [
    {
     "data": {
      "text/plain": [
       "array([[  0,   0,   0,   0,   0,   0],\n",
       "       [  0,   0,   0,   0,   0,  29],\n",
       "       [  0,   0,   0,  48, 166, 224],\n",
       "       [  0,  93, 244, 249, 253, 187],\n",
       "       [  0, 107, 253, 253, 230,  48],\n",
       "       [  0,   3,  20,  20,  15,   0]], dtype=uint8)"
      ]
     },
     "execution_count": 15,
     "metadata": {},
     "output_type": "execute_result"
    }
   ],
   "source": [
    "array(im3)[4:10, 4:10]"
   ]
  },
  {
   "cell_type": "markdown",
   "id": "cf74979c-9f1a-4339-bf78-9aa2d0acb6eb",
   "metadata": {},
   "source": [
    "This shows us an index of a number at the top left from 4 up to the number before 10. (It does not include 10).  \n",
    "[4:10, 4:10] represents [rows, columns]"
   ]
  },
  {
   "cell_type": "markdown",
   "id": "86e38865-3afb-496a-b7f4-9e1722164d7b",
   "metadata": {},
   "source": [
    "There are 8 bit integer, thus between 0 and 255."
   ]
  },
  {
   "cell_type": "markdown",
   "id": "ccc41822-7840-4485-87f7-5cff34fabfc6",
   "metadata": {},
   "source": [
    "To convert to a PyTorch Tensor:\n",
    "    "
   ]
  },
  {
   "cell_type": "code",
   "execution_count": 16,
   "id": "c0303d9e-c4bc-4a5b-ac2c-429162314db9",
   "metadata": {},
   "outputs": [
    {
     "data": {
      "text/plain": [
       "tensor([[  0,   0,   0,   0,   0,   0],\n",
       "        [  0,   0,   0,   0,   0,  29],\n",
       "        [  0,   0,   0,  48, 166, 224],\n",
       "        [  0,  93, 244, 249, 253, 187],\n",
       "        [  0, 107, 253, 253, 230,  48],\n",
       "        [  0,   3,  20,  20,  15,   0]], dtype=torch.uint8)"
      ]
     },
     "execution_count": 16,
     "metadata": {},
     "output_type": "execute_result"
    }
   ],
   "source": [
    "tensor(im3)[4:10, 4:10]"
   ]
  },
  {
   "cell_type": "markdown",
   "id": "47ab3179-a2a0-4f9a-a2f3-5820d6e437d1",
   "metadata": {},
   "source": [
    "PyTorch tensors and Numpy arrays behave the same but PyToch tensors can be computed on GPU and not onlu in CPUs like numpy arrays."
   ]
  },
  {
   "cell_type": "code",
   "execution_count": 17,
   "id": "47553d89-035b-47dd-bd9b-ca90d3ed7c83",
   "metadata": {},
   "outputs": [
    {
     "data": {
      "text/html": [
       "<style type=\"text/css\">\n",
       "#T_60330_row0_col0, #T_60330_row0_col1, #T_60330_row0_col2, #T_60330_row0_col3, #T_60330_row0_col4, #T_60330_row0_col5, #T_60330_row0_col6, #T_60330_row0_col7, #T_60330_row0_col8, #T_60330_row0_col9, #T_60330_row0_col10, #T_60330_row0_col11, #T_60330_row0_col12, #T_60330_row0_col13, #T_60330_row0_col14, #T_60330_row0_col15, #T_60330_row0_col16, #T_60330_row0_col17, #T_60330_row1_col0, #T_60330_row1_col1, #T_60330_row1_col2, #T_60330_row1_col3, #T_60330_row1_col4, #T_60330_row1_col15, #T_60330_row1_col16, #T_60330_row1_col17, #T_60330_row2_col0, #T_60330_row2_col1, #T_60330_row2_col2, #T_60330_row2_col15, #T_60330_row2_col16, #T_60330_row2_col17, #T_60330_row3_col0, #T_60330_row3_col15, #T_60330_row3_col16, #T_60330_row3_col17, #T_60330_row4_col0, #T_60330_row4_col6, #T_60330_row4_col7, #T_60330_row4_col8, #T_60330_row4_col9, #T_60330_row4_col10, #T_60330_row4_col15, #T_60330_row4_col16, #T_60330_row4_col17, #T_60330_row5_col0, #T_60330_row5_col5, #T_60330_row5_col6, #T_60330_row5_col7, #T_60330_row5_col8, #T_60330_row5_col9, #T_60330_row5_col15, #T_60330_row5_col16, #T_60330_row5_col17, #T_60330_row6_col0, #T_60330_row6_col1, #T_60330_row6_col2, #T_60330_row6_col3, #T_60330_row6_col4, #T_60330_row6_col5, #T_60330_row6_col6, #T_60330_row6_col7, #T_60330_row6_col8, #T_60330_row6_col9, #T_60330_row6_col14, #T_60330_row6_col15, #T_60330_row6_col16, #T_60330_row6_col17, #T_60330_row7_col0, #T_60330_row7_col1, #T_60330_row7_col2, #T_60330_row7_col3, #T_60330_row7_col4, #T_60330_row7_col5, #T_60330_row7_col6, #T_60330_row7_col13, #T_60330_row7_col14, #T_60330_row7_col15, #T_60330_row7_col16, #T_60330_row7_col17, #T_60330_row8_col0, #T_60330_row8_col1, #T_60330_row8_col2, #T_60330_row8_col3, #T_60330_row8_col4, #T_60330_row8_col13, #T_60330_row8_col14, #T_60330_row8_col15, #T_60330_row8_col16, #T_60330_row8_col17, #T_60330_row9_col0, #T_60330_row9_col1, #T_60330_row9_col2, #T_60330_row9_col3, #T_60330_row9_col4, #T_60330_row9_col16, #T_60330_row9_col17, #T_60330_row10_col0, #T_60330_row10_col1, #T_60330_row10_col2, #T_60330_row10_col3, #T_60330_row10_col4, #T_60330_row10_col5, #T_60330_row10_col6, #T_60330_row10_col17 {\n",
       "  font-size: 6pt;\n",
       "  background-color: #ffffff;\n",
       "  color: #000000;\n",
       "}\n",
       "#T_60330_row1_col5 {\n",
       "  font-size: 6pt;\n",
       "  background-color: #efefef;\n",
       "  color: #000000;\n",
       "}\n",
       "#T_60330_row1_col6, #T_60330_row1_col13 {\n",
       "  font-size: 6pt;\n",
       "  background-color: #7c7c7c;\n",
       "  color: #f1f1f1;\n",
       "}\n",
       "#T_60330_row1_col7 {\n",
       "  font-size: 6pt;\n",
       "  background-color: #4a4a4a;\n",
       "  color: #f1f1f1;\n",
       "}\n",
       "#T_60330_row1_col8, #T_60330_row1_col9, #T_60330_row1_col10, #T_60330_row2_col5, #T_60330_row2_col6, #T_60330_row2_col7, #T_60330_row2_col11, #T_60330_row2_col12, #T_60330_row2_col13, #T_60330_row3_col4, #T_60330_row3_col12, #T_60330_row3_col13, #T_60330_row4_col1, #T_60330_row4_col2, #T_60330_row4_col3, #T_60330_row4_col12, #T_60330_row4_col13, #T_60330_row5_col12, #T_60330_row6_col11, #T_60330_row9_col11, #T_60330_row10_col11, #T_60330_row10_col12, #T_60330_row10_col13, #T_60330_row10_col14, #T_60330_row10_col15, #T_60330_row10_col16 {\n",
       "  font-size: 6pt;\n",
       "  background-color: #000000;\n",
       "  color: #f1f1f1;\n",
       "}\n",
       "#T_60330_row1_col11 {\n",
       "  font-size: 6pt;\n",
       "  background-color: #606060;\n",
       "  color: #f1f1f1;\n",
       "}\n",
       "#T_60330_row1_col12 {\n",
       "  font-size: 6pt;\n",
       "  background-color: #4d4d4d;\n",
       "  color: #f1f1f1;\n",
       "}\n",
       "#T_60330_row1_col14 {\n",
       "  font-size: 6pt;\n",
       "  background-color: #bbbbbb;\n",
       "  color: #000000;\n",
       "}\n",
       "#T_60330_row2_col3 {\n",
       "  font-size: 6pt;\n",
       "  background-color: #e4e4e4;\n",
       "  color: #000000;\n",
       "}\n",
       "#T_60330_row2_col4, #T_60330_row8_col6 {\n",
       "  font-size: 6pt;\n",
       "  background-color: #6b6b6b;\n",
       "  color: #f1f1f1;\n",
       "}\n",
       "#T_60330_row2_col8, #T_60330_row2_col14, #T_60330_row3_col14 {\n",
       "  font-size: 6pt;\n",
       "  background-color: #171717;\n",
       "  color: #f1f1f1;\n",
       "}\n",
       "#T_60330_row2_col9, #T_60330_row3_col11 {\n",
       "  font-size: 6pt;\n",
       "  background-color: #4b4b4b;\n",
       "  color: #f1f1f1;\n",
       "}\n",
       "#T_60330_row2_col10, #T_60330_row7_col10, #T_60330_row8_col8, #T_60330_row8_col10, #T_60330_row9_col8, #T_60330_row9_col10 {\n",
       "  font-size: 6pt;\n",
       "  background-color: #010101;\n",
       "  color: #f1f1f1;\n",
       "}\n",
       "#T_60330_row3_col1 {\n",
       "  font-size: 6pt;\n",
       "  background-color: #272727;\n",
       "  color: #f1f1f1;\n",
       "}\n",
       "#T_60330_row3_col2 {\n",
       "  font-size: 6pt;\n",
       "  background-color: #0a0a0a;\n",
       "  color: #f1f1f1;\n",
       "}\n",
       "#T_60330_row3_col3 {\n",
       "  font-size: 6pt;\n",
       "  background-color: #050505;\n",
       "  color: #f1f1f1;\n",
       "}\n",
       "#T_60330_row3_col5 {\n",
       "  font-size: 6pt;\n",
       "  background-color: #333333;\n",
       "  color: #f1f1f1;\n",
       "}\n",
       "#T_60330_row3_col6 {\n",
       "  font-size: 6pt;\n",
       "  background-color: #e6e6e6;\n",
       "  color: #000000;\n",
       "}\n",
       "#T_60330_row3_col7, #T_60330_row3_col10 {\n",
       "  font-size: 6pt;\n",
       "  background-color: #fafafa;\n",
       "  color: #000000;\n",
       "}\n",
       "#T_60330_row3_col8 {\n",
       "  font-size: 6pt;\n",
       "  background-color: #fbfbfb;\n",
       "  color: #000000;\n",
       "}\n",
       "#T_60330_row3_col9 {\n",
       "  font-size: 6pt;\n",
       "  background-color: #fdfdfd;\n",
       "  color: #000000;\n",
       "}\n",
       "#T_60330_row4_col4 {\n",
       "  font-size: 6pt;\n",
       "  background-color: #1b1b1b;\n",
       "  color: #f1f1f1;\n",
       "}\n",
       "#T_60330_row4_col5 {\n",
       "  font-size: 6pt;\n",
       "  background-color: #e0e0e0;\n",
       "  color: #000000;\n",
       "}\n",
       "#T_60330_row4_col11 {\n",
       "  font-size: 6pt;\n",
       "  background-color: #4e4e4e;\n",
       "  color: #f1f1f1;\n",
       "}\n",
       "#T_60330_row4_col14 {\n",
       "  font-size: 6pt;\n",
       "  background-color: #767676;\n",
       "  color: #f1f1f1;\n",
       "}\n",
       "#T_60330_row5_col1 {\n",
       "  font-size: 6pt;\n",
       "  background-color: #fcfcfc;\n",
       "  color: #000000;\n",
       "}\n",
       "#T_60330_row5_col2, #T_60330_row5_col3 {\n",
       "  font-size: 6pt;\n",
       "  background-color: #f6f6f6;\n",
       "  color: #000000;\n",
       "}\n",
       "#T_60330_row5_col4, #T_60330_row7_col7 {\n",
       "  font-size: 6pt;\n",
       "  background-color: #f8f8f8;\n",
       "  color: #000000;\n",
       "}\n",
       "#T_60330_row5_col10, #T_60330_row10_col7 {\n",
       "  font-size: 6pt;\n",
       "  background-color: #e8e8e8;\n",
       "  color: #000000;\n",
       "}\n",
       "#T_60330_row5_col11 {\n",
       "  font-size: 6pt;\n",
       "  background-color: #222222;\n",
       "  color: #f1f1f1;\n",
       "}\n",
       "#T_60330_row5_col13, #T_60330_row6_col12 {\n",
       "  font-size: 6pt;\n",
       "  background-color: #090909;\n",
       "  color: #f1f1f1;\n",
       "}\n",
       "#T_60330_row5_col14 {\n",
       "  font-size: 6pt;\n",
       "  background-color: #d0d0d0;\n",
       "  color: #000000;\n",
       "}\n",
       "#T_60330_row6_col10, #T_60330_row7_col11, #T_60330_row9_col6 {\n",
       "  font-size: 6pt;\n",
       "  background-color: #060606;\n",
       "  color: #f1f1f1;\n",
       "}\n",
       "#T_60330_row6_col13 {\n",
       "  font-size: 6pt;\n",
       "  background-color: #979797;\n",
       "  color: #f1f1f1;\n",
       "}\n",
       "#T_60330_row7_col8 {\n",
       "  font-size: 6pt;\n",
       "  background-color: #b6b6b6;\n",
       "  color: #000000;\n",
       "}\n",
       "#T_60330_row7_col9 {\n",
       "  font-size: 6pt;\n",
       "  background-color: #252525;\n",
       "  color: #f1f1f1;\n",
       "}\n",
       "#T_60330_row7_col12 {\n",
       "  font-size: 6pt;\n",
       "  background-color: #999999;\n",
       "  color: #f1f1f1;\n",
       "}\n",
       "#T_60330_row8_col5 {\n",
       "  font-size: 6pt;\n",
       "  background-color: #f9f9f9;\n",
       "  color: #000000;\n",
       "}\n",
       "#T_60330_row8_col7 {\n",
       "  font-size: 6pt;\n",
       "  background-color: #101010;\n",
       "  color: #f1f1f1;\n",
       "}\n",
       "#T_60330_row8_col9, #T_60330_row9_col9 {\n",
       "  font-size: 6pt;\n",
       "  background-color: #020202;\n",
       "  color: #f1f1f1;\n",
       "}\n",
       "#T_60330_row8_col11 {\n",
       "  font-size: 6pt;\n",
       "  background-color: #545454;\n",
       "  color: #f1f1f1;\n",
       "}\n",
       "#T_60330_row8_col12 {\n",
       "  font-size: 6pt;\n",
       "  background-color: #f1f1f1;\n",
       "  color: #000000;\n",
       "}\n",
       "#T_60330_row9_col5 {\n",
       "  font-size: 6pt;\n",
       "  background-color: #f7f7f7;\n",
       "  color: #000000;\n",
       "}\n",
       "#T_60330_row9_col7 {\n",
       "  font-size: 6pt;\n",
       "  background-color: #030303;\n",
       "  color: #f1f1f1;\n",
       "}\n",
       "#T_60330_row9_col12 {\n",
       "  font-size: 6pt;\n",
       "  background-color: #181818;\n",
       "  color: #f1f1f1;\n",
       "}\n",
       "#T_60330_row9_col13 {\n",
       "  font-size: 6pt;\n",
       "  background-color: #303030;\n",
       "  color: #f1f1f1;\n",
       "}\n",
       "#T_60330_row9_col14 {\n",
       "  font-size: 6pt;\n",
       "  background-color: #a9a9a9;\n",
       "  color: #f1f1f1;\n",
       "}\n",
       "#T_60330_row9_col15 {\n",
       "  font-size: 6pt;\n",
       "  background-color: #fefefe;\n",
       "  color: #000000;\n",
       "}\n",
       "#T_60330_row10_col8, #T_60330_row10_col9 {\n",
       "  font-size: 6pt;\n",
       "  background-color: #bababa;\n",
       "  color: #000000;\n",
       "}\n",
       "#T_60330_row10_col10 {\n",
       "  font-size: 6pt;\n",
       "  background-color: #393939;\n",
       "  color: #f1f1f1;\n",
       "}\n",
       "</style>\n",
       "<table id=\"T_60330\">\n",
       "  <thead>\n",
       "    <tr>\n",
       "      <th class=\"blank level0\" >&nbsp;</th>\n",
       "      <th id=\"T_60330_level0_col0\" class=\"col_heading level0 col0\" >0</th>\n",
       "      <th id=\"T_60330_level0_col1\" class=\"col_heading level0 col1\" >1</th>\n",
       "      <th id=\"T_60330_level0_col2\" class=\"col_heading level0 col2\" >2</th>\n",
       "      <th id=\"T_60330_level0_col3\" class=\"col_heading level0 col3\" >3</th>\n",
       "      <th id=\"T_60330_level0_col4\" class=\"col_heading level0 col4\" >4</th>\n",
       "      <th id=\"T_60330_level0_col5\" class=\"col_heading level0 col5\" >5</th>\n",
       "      <th id=\"T_60330_level0_col6\" class=\"col_heading level0 col6\" >6</th>\n",
       "      <th id=\"T_60330_level0_col7\" class=\"col_heading level0 col7\" >7</th>\n",
       "      <th id=\"T_60330_level0_col8\" class=\"col_heading level0 col8\" >8</th>\n",
       "      <th id=\"T_60330_level0_col9\" class=\"col_heading level0 col9\" >9</th>\n",
       "      <th id=\"T_60330_level0_col10\" class=\"col_heading level0 col10\" >10</th>\n",
       "      <th id=\"T_60330_level0_col11\" class=\"col_heading level0 col11\" >11</th>\n",
       "      <th id=\"T_60330_level0_col12\" class=\"col_heading level0 col12\" >12</th>\n",
       "      <th id=\"T_60330_level0_col13\" class=\"col_heading level0 col13\" >13</th>\n",
       "      <th id=\"T_60330_level0_col14\" class=\"col_heading level0 col14\" >14</th>\n",
       "      <th id=\"T_60330_level0_col15\" class=\"col_heading level0 col15\" >15</th>\n",
       "      <th id=\"T_60330_level0_col16\" class=\"col_heading level0 col16\" >16</th>\n",
       "      <th id=\"T_60330_level0_col17\" class=\"col_heading level0 col17\" >17</th>\n",
       "    </tr>\n",
       "  </thead>\n",
       "  <tbody>\n",
       "    <tr>\n",
       "      <th id=\"T_60330_level0_row0\" class=\"row_heading level0 row0\" >0</th>\n",
       "      <td id=\"T_60330_row0_col0\" class=\"data row0 col0\" >0</td>\n",
       "      <td id=\"T_60330_row0_col1\" class=\"data row0 col1\" >0</td>\n",
       "      <td id=\"T_60330_row0_col2\" class=\"data row0 col2\" >0</td>\n",
       "      <td id=\"T_60330_row0_col3\" class=\"data row0 col3\" >0</td>\n",
       "      <td id=\"T_60330_row0_col4\" class=\"data row0 col4\" >0</td>\n",
       "      <td id=\"T_60330_row0_col5\" class=\"data row0 col5\" >0</td>\n",
       "      <td id=\"T_60330_row0_col6\" class=\"data row0 col6\" >0</td>\n",
       "      <td id=\"T_60330_row0_col7\" class=\"data row0 col7\" >0</td>\n",
       "      <td id=\"T_60330_row0_col8\" class=\"data row0 col8\" >0</td>\n",
       "      <td id=\"T_60330_row0_col9\" class=\"data row0 col9\" >0</td>\n",
       "      <td id=\"T_60330_row0_col10\" class=\"data row0 col10\" >0</td>\n",
       "      <td id=\"T_60330_row0_col11\" class=\"data row0 col11\" >0</td>\n",
       "      <td id=\"T_60330_row0_col12\" class=\"data row0 col12\" >0</td>\n",
       "      <td id=\"T_60330_row0_col13\" class=\"data row0 col13\" >0</td>\n",
       "      <td id=\"T_60330_row0_col14\" class=\"data row0 col14\" >0</td>\n",
       "      <td id=\"T_60330_row0_col15\" class=\"data row0 col15\" >0</td>\n",
       "      <td id=\"T_60330_row0_col16\" class=\"data row0 col16\" >0</td>\n",
       "      <td id=\"T_60330_row0_col17\" class=\"data row0 col17\" >0</td>\n",
       "    </tr>\n",
       "    <tr>\n",
       "      <th id=\"T_60330_level0_row1\" class=\"row_heading level0 row1\" >1</th>\n",
       "      <td id=\"T_60330_row1_col0\" class=\"data row1 col0\" >0</td>\n",
       "      <td id=\"T_60330_row1_col1\" class=\"data row1 col1\" >0</td>\n",
       "      <td id=\"T_60330_row1_col2\" class=\"data row1 col2\" >0</td>\n",
       "      <td id=\"T_60330_row1_col3\" class=\"data row1 col3\" >0</td>\n",
       "      <td id=\"T_60330_row1_col4\" class=\"data row1 col4\" >0</td>\n",
       "      <td id=\"T_60330_row1_col5\" class=\"data row1 col5\" >29</td>\n",
       "      <td id=\"T_60330_row1_col6\" class=\"data row1 col6\" >150</td>\n",
       "      <td id=\"T_60330_row1_col7\" class=\"data row1 col7\" >195</td>\n",
       "      <td id=\"T_60330_row1_col8\" class=\"data row1 col8\" >254</td>\n",
       "      <td id=\"T_60330_row1_col9\" class=\"data row1 col9\" >255</td>\n",
       "      <td id=\"T_60330_row1_col10\" class=\"data row1 col10\" >254</td>\n",
       "      <td id=\"T_60330_row1_col11\" class=\"data row1 col11\" >176</td>\n",
       "      <td id=\"T_60330_row1_col12\" class=\"data row1 col12\" >193</td>\n",
       "      <td id=\"T_60330_row1_col13\" class=\"data row1 col13\" >150</td>\n",
       "      <td id=\"T_60330_row1_col14\" class=\"data row1 col14\" >96</td>\n",
       "      <td id=\"T_60330_row1_col15\" class=\"data row1 col15\" >0</td>\n",
       "      <td id=\"T_60330_row1_col16\" class=\"data row1 col16\" >0</td>\n",
       "      <td id=\"T_60330_row1_col17\" class=\"data row1 col17\" >0</td>\n",
       "    </tr>\n",
       "    <tr>\n",
       "      <th id=\"T_60330_level0_row2\" class=\"row_heading level0 row2\" >2</th>\n",
       "      <td id=\"T_60330_row2_col0\" class=\"data row2 col0\" >0</td>\n",
       "      <td id=\"T_60330_row2_col1\" class=\"data row2 col1\" >0</td>\n",
       "      <td id=\"T_60330_row2_col2\" class=\"data row2 col2\" >0</td>\n",
       "      <td id=\"T_60330_row2_col3\" class=\"data row2 col3\" >48</td>\n",
       "      <td id=\"T_60330_row2_col4\" class=\"data row2 col4\" >166</td>\n",
       "      <td id=\"T_60330_row2_col5\" class=\"data row2 col5\" >224</td>\n",
       "      <td id=\"T_60330_row2_col6\" class=\"data row2 col6\" >253</td>\n",
       "      <td id=\"T_60330_row2_col7\" class=\"data row2 col7\" >253</td>\n",
       "      <td id=\"T_60330_row2_col8\" class=\"data row2 col8\" >234</td>\n",
       "      <td id=\"T_60330_row2_col9\" class=\"data row2 col9\" >196</td>\n",
       "      <td id=\"T_60330_row2_col10\" class=\"data row2 col10\" >253</td>\n",
       "      <td id=\"T_60330_row2_col11\" class=\"data row2 col11\" >253</td>\n",
       "      <td id=\"T_60330_row2_col12\" class=\"data row2 col12\" >253</td>\n",
       "      <td id=\"T_60330_row2_col13\" class=\"data row2 col13\" >253</td>\n",
       "      <td id=\"T_60330_row2_col14\" class=\"data row2 col14\" >233</td>\n",
       "      <td id=\"T_60330_row2_col15\" class=\"data row2 col15\" >0</td>\n",
       "      <td id=\"T_60330_row2_col16\" class=\"data row2 col16\" >0</td>\n",
       "      <td id=\"T_60330_row2_col17\" class=\"data row2 col17\" >0</td>\n",
       "    </tr>\n",
       "    <tr>\n",
       "      <th id=\"T_60330_level0_row3\" class=\"row_heading level0 row3\" >3</th>\n",
       "      <td id=\"T_60330_row3_col0\" class=\"data row3 col0\" >0</td>\n",
       "      <td id=\"T_60330_row3_col1\" class=\"data row3 col1\" >93</td>\n",
       "      <td id=\"T_60330_row3_col2\" class=\"data row3 col2\" >244</td>\n",
       "      <td id=\"T_60330_row3_col3\" class=\"data row3 col3\" >249</td>\n",
       "      <td id=\"T_60330_row3_col4\" class=\"data row3 col4\" >253</td>\n",
       "      <td id=\"T_60330_row3_col5\" class=\"data row3 col5\" >187</td>\n",
       "      <td id=\"T_60330_row3_col6\" class=\"data row3 col6\" >46</td>\n",
       "      <td id=\"T_60330_row3_col7\" class=\"data row3 col7\" >10</td>\n",
       "      <td id=\"T_60330_row3_col8\" class=\"data row3 col8\" >8</td>\n",
       "      <td id=\"T_60330_row3_col9\" class=\"data row3 col9\" >4</td>\n",
       "      <td id=\"T_60330_row3_col10\" class=\"data row3 col10\" >10</td>\n",
       "      <td id=\"T_60330_row3_col11\" class=\"data row3 col11\" >194</td>\n",
       "      <td id=\"T_60330_row3_col12\" class=\"data row3 col12\" >253</td>\n",
       "      <td id=\"T_60330_row3_col13\" class=\"data row3 col13\" >253</td>\n",
       "      <td id=\"T_60330_row3_col14\" class=\"data row3 col14\" >233</td>\n",
       "      <td id=\"T_60330_row3_col15\" class=\"data row3 col15\" >0</td>\n",
       "      <td id=\"T_60330_row3_col16\" class=\"data row3 col16\" >0</td>\n",
       "      <td id=\"T_60330_row3_col17\" class=\"data row3 col17\" >0</td>\n",
       "    </tr>\n",
       "    <tr>\n",
       "      <th id=\"T_60330_level0_row4\" class=\"row_heading level0 row4\" >4</th>\n",
       "      <td id=\"T_60330_row4_col0\" class=\"data row4 col0\" >0</td>\n",
       "      <td id=\"T_60330_row4_col1\" class=\"data row4 col1\" >107</td>\n",
       "      <td id=\"T_60330_row4_col2\" class=\"data row4 col2\" >253</td>\n",
       "      <td id=\"T_60330_row4_col3\" class=\"data row4 col3\" >253</td>\n",
       "      <td id=\"T_60330_row4_col4\" class=\"data row4 col4\" >230</td>\n",
       "      <td id=\"T_60330_row4_col5\" class=\"data row4 col5\" >48</td>\n",
       "      <td id=\"T_60330_row4_col6\" class=\"data row4 col6\" >0</td>\n",
       "      <td id=\"T_60330_row4_col7\" class=\"data row4 col7\" >0</td>\n",
       "      <td id=\"T_60330_row4_col8\" class=\"data row4 col8\" >0</td>\n",
       "      <td id=\"T_60330_row4_col9\" class=\"data row4 col9\" >0</td>\n",
       "      <td id=\"T_60330_row4_col10\" class=\"data row4 col10\" >0</td>\n",
       "      <td id=\"T_60330_row4_col11\" class=\"data row4 col11\" >192</td>\n",
       "      <td id=\"T_60330_row4_col12\" class=\"data row4 col12\" >253</td>\n",
       "      <td id=\"T_60330_row4_col13\" class=\"data row4 col13\" >253</td>\n",
       "      <td id=\"T_60330_row4_col14\" class=\"data row4 col14\" >156</td>\n",
       "      <td id=\"T_60330_row4_col15\" class=\"data row4 col15\" >0</td>\n",
       "      <td id=\"T_60330_row4_col16\" class=\"data row4 col16\" >0</td>\n",
       "      <td id=\"T_60330_row4_col17\" class=\"data row4 col17\" >0</td>\n",
       "    </tr>\n",
       "    <tr>\n",
       "      <th id=\"T_60330_level0_row5\" class=\"row_heading level0 row5\" >5</th>\n",
       "      <td id=\"T_60330_row5_col0\" class=\"data row5 col0\" >0</td>\n",
       "      <td id=\"T_60330_row5_col1\" class=\"data row5 col1\" >3</td>\n",
       "      <td id=\"T_60330_row5_col2\" class=\"data row5 col2\" >20</td>\n",
       "      <td id=\"T_60330_row5_col3\" class=\"data row5 col3\" >20</td>\n",
       "      <td id=\"T_60330_row5_col4\" class=\"data row5 col4\" >15</td>\n",
       "      <td id=\"T_60330_row5_col5\" class=\"data row5 col5\" >0</td>\n",
       "      <td id=\"T_60330_row5_col6\" class=\"data row5 col6\" >0</td>\n",
       "      <td id=\"T_60330_row5_col7\" class=\"data row5 col7\" >0</td>\n",
       "      <td id=\"T_60330_row5_col8\" class=\"data row5 col8\" >0</td>\n",
       "      <td id=\"T_60330_row5_col9\" class=\"data row5 col9\" >0</td>\n",
       "      <td id=\"T_60330_row5_col10\" class=\"data row5 col10\" >43</td>\n",
       "      <td id=\"T_60330_row5_col11\" class=\"data row5 col11\" >224</td>\n",
       "      <td id=\"T_60330_row5_col12\" class=\"data row5 col12\" >253</td>\n",
       "      <td id=\"T_60330_row5_col13\" class=\"data row5 col13\" >245</td>\n",
       "      <td id=\"T_60330_row5_col14\" class=\"data row5 col14\" >74</td>\n",
       "      <td id=\"T_60330_row5_col15\" class=\"data row5 col15\" >0</td>\n",
       "      <td id=\"T_60330_row5_col16\" class=\"data row5 col16\" >0</td>\n",
       "      <td id=\"T_60330_row5_col17\" class=\"data row5 col17\" >0</td>\n",
       "    </tr>\n",
       "    <tr>\n",
       "      <th id=\"T_60330_level0_row6\" class=\"row_heading level0 row6\" >6</th>\n",
       "      <td id=\"T_60330_row6_col0\" class=\"data row6 col0\" >0</td>\n",
       "      <td id=\"T_60330_row6_col1\" class=\"data row6 col1\" >0</td>\n",
       "      <td id=\"T_60330_row6_col2\" class=\"data row6 col2\" >0</td>\n",
       "      <td id=\"T_60330_row6_col3\" class=\"data row6 col3\" >0</td>\n",
       "      <td id=\"T_60330_row6_col4\" class=\"data row6 col4\" >0</td>\n",
       "      <td id=\"T_60330_row6_col5\" class=\"data row6 col5\" >0</td>\n",
       "      <td id=\"T_60330_row6_col6\" class=\"data row6 col6\" >0</td>\n",
       "      <td id=\"T_60330_row6_col7\" class=\"data row6 col7\" >0</td>\n",
       "      <td id=\"T_60330_row6_col8\" class=\"data row6 col8\" >0</td>\n",
       "      <td id=\"T_60330_row6_col9\" class=\"data row6 col9\" >0</td>\n",
       "      <td id=\"T_60330_row6_col10\" class=\"data row6 col10\" >249</td>\n",
       "      <td id=\"T_60330_row6_col11\" class=\"data row6 col11\" >253</td>\n",
       "      <td id=\"T_60330_row6_col12\" class=\"data row6 col12\" >245</td>\n",
       "      <td id=\"T_60330_row6_col13\" class=\"data row6 col13\" >126</td>\n",
       "      <td id=\"T_60330_row6_col14\" class=\"data row6 col14\" >0</td>\n",
       "      <td id=\"T_60330_row6_col15\" class=\"data row6 col15\" >0</td>\n",
       "      <td id=\"T_60330_row6_col16\" class=\"data row6 col16\" >0</td>\n",
       "      <td id=\"T_60330_row6_col17\" class=\"data row6 col17\" >0</td>\n",
       "    </tr>\n",
       "    <tr>\n",
       "      <th id=\"T_60330_level0_row7\" class=\"row_heading level0 row7\" >7</th>\n",
       "      <td id=\"T_60330_row7_col0\" class=\"data row7 col0\" >0</td>\n",
       "      <td id=\"T_60330_row7_col1\" class=\"data row7 col1\" >0</td>\n",
       "      <td id=\"T_60330_row7_col2\" class=\"data row7 col2\" >0</td>\n",
       "      <td id=\"T_60330_row7_col3\" class=\"data row7 col3\" >0</td>\n",
       "      <td id=\"T_60330_row7_col4\" class=\"data row7 col4\" >0</td>\n",
       "      <td id=\"T_60330_row7_col5\" class=\"data row7 col5\" >0</td>\n",
       "      <td id=\"T_60330_row7_col6\" class=\"data row7 col6\" >0</td>\n",
       "      <td id=\"T_60330_row7_col7\" class=\"data row7 col7\" >14</td>\n",
       "      <td id=\"T_60330_row7_col8\" class=\"data row7 col8\" >101</td>\n",
       "      <td id=\"T_60330_row7_col9\" class=\"data row7 col9\" >223</td>\n",
       "      <td id=\"T_60330_row7_col10\" class=\"data row7 col10\" >253</td>\n",
       "      <td id=\"T_60330_row7_col11\" class=\"data row7 col11\" >248</td>\n",
       "      <td id=\"T_60330_row7_col12\" class=\"data row7 col12\" >124</td>\n",
       "      <td id=\"T_60330_row7_col13\" class=\"data row7 col13\" >0</td>\n",
       "      <td id=\"T_60330_row7_col14\" class=\"data row7 col14\" >0</td>\n",
       "      <td id=\"T_60330_row7_col15\" class=\"data row7 col15\" >0</td>\n",
       "      <td id=\"T_60330_row7_col16\" class=\"data row7 col16\" >0</td>\n",
       "      <td id=\"T_60330_row7_col17\" class=\"data row7 col17\" >0</td>\n",
       "    </tr>\n",
       "    <tr>\n",
       "      <th id=\"T_60330_level0_row8\" class=\"row_heading level0 row8\" >8</th>\n",
       "      <td id=\"T_60330_row8_col0\" class=\"data row8 col0\" >0</td>\n",
       "      <td id=\"T_60330_row8_col1\" class=\"data row8 col1\" >0</td>\n",
       "      <td id=\"T_60330_row8_col2\" class=\"data row8 col2\" >0</td>\n",
       "      <td id=\"T_60330_row8_col3\" class=\"data row8 col3\" >0</td>\n",
       "      <td id=\"T_60330_row8_col4\" class=\"data row8 col4\" >0</td>\n",
       "      <td id=\"T_60330_row8_col5\" class=\"data row8 col5\" >11</td>\n",
       "      <td id=\"T_60330_row8_col6\" class=\"data row8 col6\" >166</td>\n",
       "      <td id=\"T_60330_row8_col7\" class=\"data row8 col7\" >239</td>\n",
       "      <td id=\"T_60330_row8_col8\" class=\"data row8 col8\" >253</td>\n",
       "      <td id=\"T_60330_row8_col9\" class=\"data row8 col9\" >253</td>\n",
       "      <td id=\"T_60330_row8_col10\" class=\"data row8 col10\" >253</td>\n",
       "      <td id=\"T_60330_row8_col11\" class=\"data row8 col11\" >187</td>\n",
       "      <td id=\"T_60330_row8_col12\" class=\"data row8 col12\" >30</td>\n",
       "      <td id=\"T_60330_row8_col13\" class=\"data row8 col13\" >0</td>\n",
       "      <td id=\"T_60330_row8_col14\" class=\"data row8 col14\" >0</td>\n",
       "      <td id=\"T_60330_row8_col15\" class=\"data row8 col15\" >0</td>\n",
       "      <td id=\"T_60330_row8_col16\" class=\"data row8 col16\" >0</td>\n",
       "      <td id=\"T_60330_row8_col17\" class=\"data row8 col17\" >0</td>\n",
       "    </tr>\n",
       "    <tr>\n",
       "      <th id=\"T_60330_level0_row9\" class=\"row_heading level0 row9\" >9</th>\n",
       "      <td id=\"T_60330_row9_col0\" class=\"data row9 col0\" >0</td>\n",
       "      <td id=\"T_60330_row9_col1\" class=\"data row9 col1\" >0</td>\n",
       "      <td id=\"T_60330_row9_col2\" class=\"data row9 col2\" >0</td>\n",
       "      <td id=\"T_60330_row9_col3\" class=\"data row9 col3\" >0</td>\n",
       "      <td id=\"T_60330_row9_col4\" class=\"data row9 col4\" >0</td>\n",
       "      <td id=\"T_60330_row9_col5\" class=\"data row9 col5\" >16</td>\n",
       "      <td id=\"T_60330_row9_col6\" class=\"data row9 col6\" >248</td>\n",
       "      <td id=\"T_60330_row9_col7\" class=\"data row9 col7\" >250</td>\n",
       "      <td id=\"T_60330_row9_col8\" class=\"data row9 col8\" >253</td>\n",
       "      <td id=\"T_60330_row9_col9\" class=\"data row9 col9\" >253</td>\n",
       "      <td id=\"T_60330_row9_col10\" class=\"data row9 col10\" >253</td>\n",
       "      <td id=\"T_60330_row9_col11\" class=\"data row9 col11\" >253</td>\n",
       "      <td id=\"T_60330_row9_col12\" class=\"data row9 col12\" >232</td>\n",
       "      <td id=\"T_60330_row9_col13\" class=\"data row9 col13\" >213</td>\n",
       "      <td id=\"T_60330_row9_col14\" class=\"data row9 col14\" >111</td>\n",
       "      <td id=\"T_60330_row9_col15\" class=\"data row9 col15\" >2</td>\n",
       "      <td id=\"T_60330_row9_col16\" class=\"data row9 col16\" >0</td>\n",
       "      <td id=\"T_60330_row9_col17\" class=\"data row9 col17\" >0</td>\n",
       "    </tr>\n",
       "    <tr>\n",
       "      <th id=\"T_60330_level0_row10\" class=\"row_heading level0 row10\" >10</th>\n",
       "      <td id=\"T_60330_row10_col0\" class=\"data row10 col0\" >0</td>\n",
       "      <td id=\"T_60330_row10_col1\" class=\"data row10 col1\" >0</td>\n",
       "      <td id=\"T_60330_row10_col2\" class=\"data row10 col2\" >0</td>\n",
       "      <td id=\"T_60330_row10_col3\" class=\"data row10 col3\" >0</td>\n",
       "      <td id=\"T_60330_row10_col4\" class=\"data row10 col4\" >0</td>\n",
       "      <td id=\"T_60330_row10_col5\" class=\"data row10 col5\" >0</td>\n",
       "      <td id=\"T_60330_row10_col6\" class=\"data row10 col6\" >0</td>\n",
       "      <td id=\"T_60330_row10_col7\" class=\"data row10 col7\" >43</td>\n",
       "      <td id=\"T_60330_row10_col8\" class=\"data row10 col8\" >98</td>\n",
       "      <td id=\"T_60330_row10_col9\" class=\"data row10 col9\" >98</td>\n",
       "      <td id=\"T_60330_row10_col10\" class=\"data row10 col10\" >208</td>\n",
       "      <td id=\"T_60330_row10_col11\" class=\"data row10 col11\" >253</td>\n",
       "      <td id=\"T_60330_row10_col12\" class=\"data row10 col12\" >253</td>\n",
       "      <td id=\"T_60330_row10_col13\" class=\"data row10 col13\" >253</td>\n",
       "      <td id=\"T_60330_row10_col14\" class=\"data row10 col14\" >253</td>\n",
       "      <td id=\"T_60330_row10_col15\" class=\"data row10 col15\" >187</td>\n",
       "      <td id=\"T_60330_row10_col16\" class=\"data row10 col16\" >22</td>\n",
       "      <td id=\"T_60330_row10_col17\" class=\"data row10 col17\" >0</td>\n",
       "    </tr>\n",
       "  </tbody>\n",
       "</table>\n"
      ],
      "text/plain": [
       "<pandas.io.formats.style.Styler at 0x7fe7f02c8520>"
      ]
     },
     "execution_count": 17,
     "metadata": {},
     "output_type": "execute_result"
    }
   ],
   "source": [
    "im3_t = tensor(im3)\n",
    "df = pd.DataFrame(im3_t[4:15, 4:22])\n",
    "df.style.set_properties(**{'font-size':'6pt'}).background_gradient('Greys')"
   ]
  },
  {
   "cell_type": "markdown",
   "id": "9362f81c-a3f1-4e10-9b29-0bece2835c41",
   "metadata": {},
   "source": [
    "im3_t = tensor(im3) -> grabs im3 and turns it to a tensor.  \n",
    "df = pd.DataFrame(im3_t[4:15, 4:22]) -> grabs part of the image, that is [4:15, 4:22]  \n",
    "df.style.set_properties(**{'font-size':'6pt'}).background_gradient('Greys') -> turns it to a panda's dataframe\n"
   ]
  },
  {
   "cell_type": "markdown",
   "id": "59059b66-8d84-4760-aad0-fa2f3a535e3d",
   "metadata": {},
   "source": [
    "Reason for turning it to a panda dataframe is because panda's dataframe has a convenient thing called background_gradient() that turns a background into a gradient."
   ]
  },
  {
   "cell_type": "markdown",
   "id": "d9b5efd5-46a5-422d-886b-b5c9b1b330b3",
   "metadata": {},
   "source": [
    "In the output, 0s are the whites and 255 are the blacks. Then there are shades of grey that vary between 0 and 255."
   ]
  },
  {
   "cell_type": "markdown",
   "id": "0b61d06f-ebe0-4898-b68f-5e11d38a528a",
   "metadata": {},
   "source": [
    "## Creating a model that detects a 3"
   ]
  },
  {
   "cell_type": "markdown",
   "id": "36bbb9df-b422-4073-8ba5-0b82f31cf5ee",
   "metadata": {},
   "source": [
    "Idea is, if it doesn't recognise that a number is a 3, then it must be a 7."
   ]
  },
  {
   "cell_type": "markdown",
   "id": "8fed61c0-f901-4991-8b15-56aac5c73cdd",
   "metadata": {},
   "source": [
    "### Pixel Similarity"
   ]
  },
  {
   "cell_type": "markdown",
   "id": "ebabda68-816b-4da9-adff-b72a91ef1d27",
   "metadata": {},
   "source": [
    "- Find the average pixel value forevery pixe; of the threes and sevens.  \n",
    "- The two group averages define the \"ideal\" 3 and 7.  \n",
    "- Then to classify an image as a digit, we see which of these two ideal digits the image is similar to."
   ]
  },
  {
   "cell_type": "markdown",
   "id": "9c941399-bee6-43d1-8643-890a62a7942a",
   "metadata": {},
   "source": [
    "#### Create a baseline model"
   ]
  },
  {
   "cell_type": "markdown",
   "id": "4c24ce47-79f0-4ca5-84e4-ed959090a731",
   "metadata": {},
   "source": [
    "Baseline model -> a simple model which you are confident that it can perform reasonably well, should be simple to implement and easy to test."
   ]
  },
  {
   "cell_type": "markdown",
   "id": "7abcdeac-5804-4d4b-bd5f-f44b741879a3",
   "metadata": {},
   "source": [
    "First, we need to list all the images of sevens and threes as tensors."
   ]
  },
  {
   "cell_type": "code",
   "execution_count": 18,
   "id": "776fab85-fa5f-4fe3-9fe3-4e17cc728e67",
   "metadata": {},
   "outputs": [
    {
     "data": {
      "text/plain": [
       "(6131, 6265)"
      ]
     },
     "execution_count": 18,
     "metadata": {},
     "output_type": "execute_result"
    }
   ],
   "source": [
    "seven_tensors = [tensor(Image.open(o)) for o in sevens]\n",
    "three_tensors = [tensor(Image.open(o)) for o in threes]\n",
    "len(three_tensors), len(seven_tensors)"
   ]
  },
  {
   "cell_type": "code",
   "execution_count": 19,
   "id": "5a7f63c8-0f04-4e84-b92c-686c8c7afb24",
   "metadata": {},
   "outputs": [
    {
     "data": {
      "image/png": "[encoded data removed]",
      "text/plain": [
       "<Figure size 72x72 with 1 Axes>"
      ]
     },
     "metadata": {
      "needs_background": "light"
     },
     "output_type": "display_data"
    }
   ],
   "source": [
    "show_image(three_tensors[1]);"
   ]
  },
  {
   "cell_type": "markdown",
   "id": "4d60a252-995b-4090-a651-47437a041381",
   "metadata": {},
   "source": [
    "We can now display one of the 3s in the three_tensor list.  \n",
    "Remember, this is a tensor and not a PIL image as we had seen before. Jupyter doesn't know how to display tensor so we use show_image()."
   ]
  },
  {
   "cell_type": "markdown",
   "id": "bd7a07f9-aabf-4b4d-9646-d7e6673dec5f",
   "metadata": {},
   "source": [
    "We now need to get the average of all those 3s and 7s.  \n",
    "First we need to change three_tensors and seven_tensors from lists, which can't easily do mathematical computations."
   ]
  },
  {
   "cell_type": "code",
   "execution_count": 20,
   "id": "7021a774-6f33-43ac-86ea-e7acd960a1a2",
   "metadata": {},
   "outputs": [
    {
     "data": {
      "text/plain": [
       "list"
      ]
     },
     "execution_count": 20,
     "metadata": {},
     "output_type": "execute_result"
    }
   ],
   "source": [
    "type(seven_tensors)"
   ]
  },
  {
   "cell_type": "markdown",
   "id": "b34f9595-773b-4f12-a094-d44b0cda7b1a",
   "metadata": {},
   "source": [
    "So we first stack all these 28×28 pixels images on top of each other to create like a 3D cube of images, quite like a tensor."
   ]
  },
  {
   "cell_type": "code",
   "execution_count": 21,
   "id": "10bce12d-161c-465c-b3d8-4c9444496e5b",
   "metadata": {},
   "outputs": [
    {
     "data": {
      "text/plain": [
       "torch.Size([6131, 28, 28])"
      ]
     },
     "execution_count": 21,
     "metadata": {},
     "output_type": "execute_result"
    }
   ],
   "source": [
    "stacked_sevens = torch.stack(seven_tensors).float()/255\n",
    "stacked_threes = torch.stack(three_tensors).float()/255\n",
    "stacked_threes.shape"
   ]
  },
  {
   "cell_type": "markdown",
   "id": "2f1cc369-f7b0-4f7e-b21f-b9aff17b1447",
   "metadata": {},
   "source": [
    "This turns the list to a tensor so the shape is now 6131 by 28 by 28.  \n",
    "More like a cube of height 6131 that is 28×28."
   ]
  },
  {
   "cell_type": "markdown",
   "id": "70133aa5-2323-453e-b467-6525cefae115",
   "metadata": {},
   "source": [
    "Now if we are going to find the mean, we need to change them to floating point values because we don't want to kind of have integers rounding off.  \n",
    "Also, its kind of a standard in computer vision that when you are working with floats, expect them to be between 0 and 1, so we divide by 255 because they are between 0 and 255."
   ]
  },
  {
   "cell_type": "markdown",
   "id": "3a35b51d-34c0-4fd5-af91-ad4b25f29b06",
   "metadata": {},
   "source": [
    "The output is a Rank 3 tensor as it has three axes."
   ]
  },
  {
   "cell_type": "code",
   "execution_count": 22,
   "id": "cdb5215a-9823-4af8-995e-67f1b61ff26f",
   "metadata": {},
   "outputs": [
    {
     "data": {
      "text/plain": [
       "3"
      ]
     },
     "execution_count": 22,
     "metadata": {},
     "output_type": "execute_result"
    }
   ],
   "source": [
    "len(stacked_threes.shape)"
   ]
  },
  {
   "cell_type": "markdown",
   "id": "3445ed61-3d08-4efa-aa5e-81aa84cd943a",
   "metadata": {},
   "source": [
    "We can also get it from 'ndim' that stands for number of dimensions."
   ]
  },
  {
   "cell_type": "code",
   "execution_count": 23,
   "id": "55401832-9e64-4362-b641-471693a9066e",
   "metadata": {},
   "outputs": [
    {
     "data": {
      "text/plain": [
       "3"
      ]
     },
     "execution_count": 23,
     "metadata": {},
     "output_type": "execute_result"
    }
   ],
   "source": [
    "stacked_threes.ndim"
   ]
  },
  {
   "cell_type": "markdown",
   "id": "3c50974b-2a88-4aeb-886d-bcd9864f8535",
   "metadata": {},
   "source": [
    "Numpy tends to call it axis, PyTorch tends to call it dimension."
   ]
  },
  {
   "cell_type": "markdown",
   "id": "c5f0d7fe-693f-4366-8c99-133b2e4aae23",
   "metadata": {},
   "source": [
    "Rank -> Number of axes or dimensions in a tensor.  \n",
    "Shape -> Size of each axis of a tensor."
   ]
  },
  {
   "cell_type": "code",
   "execution_count": 24,
   "id": "1b4e3d22-c903-4abf-93e9-7525b4c8b415",
   "metadata": {},
   "outputs": [
    {
     "data": {
      "image/png": "[encoded data removed]",
      "text/plain": [
       "<Figure size 72x72 with 1 Axes>"
      ]
     },
     "metadata": {
      "needs_background": "light"
     },
     "output_type": "display_data"
    }
   ],
   "source": [
    "mean3 = stacked_threes.mean(0)\n",
    "show_image(mean3);"
   ]
  },
  {
   "cell_type": "markdown",
   "id": "eb3748dc-6357-41c2-8ae8-b56e3be4d1d9",
   "metadata": {},
   "source": [
    "This gives us the mean of just the 0 axis, that is the mean across the images.  \n",
    "Takes the mean across the 6131 axis."
   ]
  },
  {
   "cell_type": "markdown",
   "id": "80105f57-7244-4cd0-81d0-8254fb851e86",
   "metadata": {},
   "source": [
    "When we show the image, we get the 'ideal' 3."
   ]
  },
  {
   "cell_type": "markdown",
   "id": "c1d792b9-5ba2-4565-bc82-62b457264dcc",
   "metadata": {},
   "source": [
    "Now we, we can do the same for 7:"
   ]
  },
  {
   "cell_type": "code",
   "execution_count": 25,
   "id": "0fe4f154-61f0-4a91-b4ce-c2f48ae769a1",
   "metadata": {},
   "outputs": [
    {
     "data": {
      "image/png": "[encoded data removed]",
      "text/plain": [
       "<Figure size 72x72 with 1 Axes>"
      ]
     },
     "metadata": {
      "needs_background": "light"
     },
     "output_type": "display_data"
    }
   ],
   "source": [
    "mean7 = stacked_sevens.mean(0)\n",
    "show_image(mean7);"
   ]
  },
  {
   "cell_type": "markdown",
   "id": "1dd2a2cf-b5a3-46fc-b2a9-fe639c7444f3",
   "metadata": {},
   "source": [
    "This shows us the 'ideal' 7."
   ]
  },
  {
   "cell_type": "markdown",
   "id": "7133e85d-a6d8-4064-b8a6-f09d3f68a8d4",
   "metadata": {},
   "source": [
    "Now, let's grab a 3:"
   ]
  },
  {
   "cell_type": "code",
   "execution_count": 26,
   "id": "1258f751-dd93-4c51-8727-47c9c734690b",
   "metadata": {},
   "outputs": [
    {
     "data": {
      "image/png": "[encoded data removed]",
      "text/plain": [
       "<Figure size 72x72 with 1 Axes>"
      ]
     },
     "metadata": {
      "needs_background": "light"
     },
     "output_type": "display_data"
    }
   ],
   "source": [
    "a_3 = stacked_threes[1]\n",
    "show_image(a_3);"
   ]
  },
  {
   "cell_type": "markdown",
   "id": "0cf6dbb7-610f-4c2e-a1e5-6564e43fdfe0",
   "metadata": {},
   "source": [
    "We can find if the a_3 is similar to the 'ideal' 3 or 7.  \n",
    "The one that is more similar to, that's the answer."
   ]
  },
  {
   "cell_type": "markdown",
   "id": "2e4078ab-1f4f-4b59-89d3-8362906be2ae",
   "metadata": {},
   "source": [
    "We just can't add up the difference between the pixel of the image and the ideal digit because some differences will be negative and some will be positive and they'll cancel out. This will result in an image thats too dark in some places and too light in others."
   ]
  },
  {
   "cell_type": "markdown",
   "id": "b01e339a-0afc-4a9d-b4d2-2279ec662960",
   "metadata": {},
   "source": [
    "To avoid this, we have to make them all positive values.  \n",
    "This can be achieved by:  \n",
    "1) Finding the absolute values (simply means removing the minus sign), the take the average. This is called the Mean Absolute Difference or L1 norm.  \n",
    "2) Take the square of each difference and the take the mean then find the square root to undo the squaring. This is called Root Mean Squared Error or L2 norm.\n",
    "    "
   ]
  },
  {
   "cell_type": "code",
   "execution_count": 27,
   "id": "1bc5438f-1430-4c5d-8ee2-131d2701d629",
   "metadata": {},
   "outputs": [
    {
     "data": {
      "text/plain": [
       "(tensor(0.1114), tensor(0.2021))"
      ]
     },
     "execution_count": 27,
     "metadata": {},
     "output_type": "execute_result"
    }
   ],
   "source": [
    "dist_3_abs = (a_3-mean3).abs().mean()\n",
    "dist_3_sqr = ((a_3-mean3)**2).mean().sqrt()\n",
    "dist_3_abs, dist_3_sqr"
   ]
  },
  {
   "cell_type": "code",
   "execution_count": 28,
   "id": "3570d2de-f8ca-4312-b613-7a0707f7bb19",
   "metadata": {},
   "outputs": [
    {
     "data": {
      "text/plain": [
       "(tensor(0.1586), tensor(0.3021))"
      ]
     },
     "execution_count": 28,
     "metadata": {},
     "output_type": "execute_result"
    }
   ],
   "source": [
    "dist_7_abs = (a_3-mean7).abs().mean()\n",
    "dist_7_sqr = ((a_3-mean7)**2).mean().sqrt()\n",
    "dist_7_abs, dist_7_sqr"
   ]
  },
  {
   "cell_type": "markdown",
   "id": "bf919fa8-f610-44f9-aff0-e782e9c8b1f4",
   "metadata": {},
   "source": [
    "We do for both 3 and 7."
   ]
  },
  {
   "cell_type": "markdown",
   "id": "b732b7c8-bbe3-4e53-8596-04755b386407",
   "metadata": {},
   "source": [
    "The distance in terms of absolute from mean of 3 is 0.114 and mean of 7 is 0.1586 so its close to the mean of 3 than the mean of 7. Therefore, we can guess that its a 3 based on the mean absolute differences.  \n",
    "This is same for the root mean squared error."
   ]
  },
  {
   "cell_type": "markdown",
   "id": "bfcb6ef3-6c07-4359-86d2-3d029f51ac82",
   "metadata": {},
   "source": [
    "In the codes above, we don't have to write  minus abs() mean(), we can use L1_loss.  \n",
    "Also, we don't have to write minus squared, we can write mse_loss, but it doesn't do the square root so we have to include .sqrt()."
   ]
  },
  {
   "cell_type": "code",
   "execution_count": 29,
   "id": "85040cf0-1712-4292-8eab-35d79b75c1ed",
   "metadata": {},
   "outputs": [
    {
     "data": {
      "text/plain": [
       "(tensor(0.1586), tensor(0.3021))"
      ]
     },
     "execution_count": 29,
     "metadata": {},
     "output_type": "execute_result"
    }
   ],
   "source": [
    "F.l1_loss(a_3.float(),mean7), F.mse_loss(a_3, mean7).sqrt()"
   ]
  },
  {
   "cell_type": "markdown",
   "id": "37288788-ba97-4ee8-a630-d47d08f97eea",
   "metadata": {},
   "source": [
    "This can be found inside 'torch.nn.functional', which PyTorch recommends importing as F."
   ]
  },
  {
   "cell_type": "markdown",
   "id": "69e6d292-3784-4662-9f63-2327c6e3eebf",
   "metadata": {},
   "source": [
    "##### Numpy array and PyTorch tensors"
   ]
  },
  {
   "cell_type": "markdown",
   "id": "f916818c-2133-4130-8226-3e752108c8f0",
   "metadata": {},
   "source": [
    "To create an array or tensor, we can pass a list or lists or list of lists."
   ]
  },
  {
   "cell_type": "code",
   "execution_count": 30,
   "id": "007d74c6-79ff-4501-80ef-35bf72d6066c",
   "metadata": {},
   "outputs": [],
   "source": [
    "data = [[1, 2, 3], [4, 5, 6]]\n",
    "arr = array(data)\n",
    "tns = tensor(data)"
   ]
  },
  {
   "cell_type": "code",
   "execution_count": 31,
   "id": "7e622176-bffa-4ee3-a6b0-7e90ce8227ea",
   "metadata": {},
   "outputs": [
    {
     "data": {
      "text/plain": [
       "array([[1, 2, 3],\n",
       "       [4, 5, 6]])"
      ]
     },
     "execution_count": 31,
     "metadata": {},
     "output_type": "execute_result"
    }
   ],
   "source": [
    "# for numpy\n",
    "arr"
   ]
  },
  {
   "cell_type": "code",
   "execution_count": 32,
   "id": "820a60e2-c299-4c53-b407-9dcbe9884bc0",
   "metadata": {},
   "outputs": [
    {
     "data": {
      "text/plain": [
       "tensor([[1, 2, 3],\n",
       "        [4, 5, 6]])"
      ]
     },
     "execution_count": 32,
     "metadata": {},
     "output_type": "execute_result"
    }
   ],
   "source": [
    "#for PyTorch\n",
    "tns"
   ]
  },
  {
   "cell_type": "markdown",
   "id": "5fba00ca-0df8-4a69-ae32-1918d2fa1327",
   "metadata": {},
   "source": [
    "To select a row:"
   ]
  },
  {
   "cell_type": "code",
   "execution_count": 33,
   "id": "bc54b85a-23d1-402a-8d11-b89da8ce4c14",
   "metadata": {},
   "outputs": [
    {
     "data": {
      "text/plain": [
       "tensor([4, 5, 6])"
      ]
     },
     "execution_count": 33,
     "metadata": {},
     "output_type": "execute_result"
    }
   ],
   "source": [
    "tns[1]"
   ]
  },
  {
   "cell_type": "markdown",
   "id": "77c3c583-dff9-4317-960c-4574f22785cb",
   "metadata": {},
   "source": [
    "To select a column:\n",
    "    "
   ]
  },
  {
   "cell_type": "code",
   "execution_count": 34,
   "id": "2546e71c-83d4-446b-87fd-7c8132852313",
   "metadata": {},
   "outputs": [
    {
     "data": {
      "text/plain": [
       "tensor([2, 5])"
      ]
     },
     "execution_count": 34,
     "metadata": {},
     "output_type": "execute_result"
    }
   ],
   "source": [
    "tns[:,1]"
   ]
  },
  {
   "cell_type": "markdown",
   "id": "4b13ce64-93f9-4499-b27b-c91c4b06b864",
   "metadata": {},
   "source": [
    ": means row because its in the fist spot so therefore ,: is the same as removing it.  \n",
    "example:"
   ]
  },
  {
   "cell_type": "code",
   "execution_count": 35,
   "id": "86bfa3c3-e8c3-4f13-97fb-189b554b6c3f",
   "metadata": {},
   "outputs": [
    {
     "data": {
      "text/plain": [
       "tensor([4, 5, 6])"
      ]
     },
     "execution_count": 35,
     "metadata": {},
     "output_type": "execute_result"
    }
   ],
   "source": [
    "tns[1,:]"
   ]
  },
  {
   "cell_type": "markdown",
   "id": "5a9b6fd4-1451-46ba-b812-3a002ebb2354",
   "metadata": {},
   "source": [
    "Is the same as,"
   ]
  },
  {
   "cell_type": "code",
   "execution_count": 36,
   "id": "be2c7f85-f7ff-4b20-ad91-68801c86fdad",
   "metadata": {},
   "outputs": [
    {
     "data": {
      "text/plain": [
       "tensor([4, 5, 6])"
      ]
     },
     "execution_count": 36,
     "metadata": {},
     "output_type": "execute_result"
    }
   ],
   "source": [
    "tns[1]"
   ]
  },
  {
   "cell_type": "markdown",
   "id": "d5a244ed-1184-47fe-8b6d-7bbb9a6924cc",
   "metadata": {},
   "source": [
    "Combining the together:"
   ]
  },
  {
   "cell_type": "code",
   "execution_count": 37,
   "id": "d98dca2a-1021-476e-9fc7-7ebeb32bdf78",
   "metadata": {},
   "outputs": [
    {
     "data": {
      "text/plain": [
       "tensor([5, 6])"
      ]
     },
     "execution_count": 37,
     "metadata": {},
     "output_type": "execute_result"
    }
   ],
   "source": [
    "tns[1, 1:3]"
   ]
  },
  {
   "cell_type": "markdown",
   "id": "b3b4e3f7-e2a2-4bcb-be07-b1ad0144e85c",
   "metadata": {},
   "source": [
    "This gives the first row and everything from the first up to but not including the third column."
   ]
  },
  {
   "cell_type": "markdown",
   "id": "8f280038-da43-48cc-825a-c6049109edac",
   "metadata": {
    "tags": []
   },
   "source": [
    "[start:end] -> means from start to end but not including end."
   ]
  },
  {
   "cell_type": "markdown",
   "id": "014e3bb3-d09b-45dc-8d8b-7ec1e9f46f1a",
   "metadata": {},
   "source": [
    "Using standard operators to add all elements by 1:\n"
   ]
  },
  {
   "cell_type": "code",
   "execution_count": 38,
   "id": "da6aa45b-3dec-4627-a3c0-2aaa2a609eb3",
   "metadata": {},
   "outputs": [
    {
     "data": {
      "text/plain": [
       "tensor([[2, 3, 4],\n",
       "        [5, 6, 7]])"
      ]
     },
     "execution_count": 38,
     "metadata": {},
     "output_type": "execute_result"
    }
   ],
   "source": [
    "tns+1"
   ]
  },
  {
   "cell_type": "markdown",
   "id": "adde3d8a-aad3-4567-b860-9e7b3efea3de",
   "metadata": {},
   "source": [
    "Finding the type:"
   ]
  },
  {
   "cell_type": "code",
   "execution_count": 39,
   "id": "3afed107-4023-4500-bd25-9cb02e67bc63",
   "metadata": {},
   "outputs": [
    {
     "data": {
      "text/plain": [
       "'torch.LongTensor'"
      ]
     },
     "execution_count": 39,
     "metadata": {},
     "output_type": "execute_result"
    }
   ],
   "source": [
    "tns.type()"
   ]
  },
  {
   "cell_type": "markdown",
   "id": "ebddcdb7-5d39-481c-9129-35e66296ea91",
   "metadata": {},
   "source": [
    "Multiplying by a float:"
   ]
  },
  {
   "cell_type": "code",
   "execution_count": 40,
   "id": "66766d19-743d-4e1d-a35b-2b0ce3df3ca2",
   "metadata": {},
   "outputs": [
    {
     "data": {
      "text/plain": [
       "tensor([[1.5000, 3.0000, 4.5000],\n",
       "        [6.0000, 7.5000, 9.0000]])"
      ]
     },
     "execution_count": 40,
     "metadata": {},
     "output_type": "execute_result"
    }
   ],
   "source": [
    "tns*1.5"
   ]
  },
  {
   "cell_type": "markdown",
   "id": "c16a9603-d7b9-49b6-aa43-72d4f4f7d4a7",
   "metadata": {},
   "source": [
    "Tensor automatically changes from a int to a float."
   ]
  },
  {
   "cell_type": "markdown",
   "id": "294476aa-e4ba-4ca7-8a25-b39fcbcf10e2",
   "metadata": {},
   "source": [
    "### Computing metrics using broadcasting"
   ]
  },
  {
   "cell_type": "markdown",
   "id": "d699dd02-b3ff-4336-960c-9c0eb3011824",
   "metadata": {},
   "source": [
    "Is our model good enough?  \n",
    "To quantify this, we must define a metric."
   ]
  },
  {
   "cell_type": "markdown",
   "id": "3dbc2437-5928-453d-8732-5eb5036a78ac",
   "metadata": {},
   "source": [
    "Metric -> a number which is calculated from the predictions of our model and the correct labels in our dataset, in order to tell us how good our model is."
   ]
  },
  {
   "cell_type": "markdown",
   "id": "08883a30-80c5-44a4-8099-53193bc9092a",
   "metadata": {},
   "source": [
    "We ought to check our model is by calculating the metric, using our validation set."
   ]
  },
  {
   "cell_type": "markdown",
   "id": "43fb2e84-1934-44db-b8f1-3876ecb403f9",
   "metadata": {},
   "source": [
    "First, lets create a tensor of our threes and sevens from our valid directory."
   ]
  },
  {
   "cell_type": "markdown",
   "id": "c4a544cf-d52f-4cbd-9670-fe57b00eb516",
   "metadata": {},
   "source": [
    "The following code does the similar process as what we had done in our training set:"
   ]
  },
  {
   "cell_type": "code",
   "execution_count": 41,
   "id": "e8f2d498-564f-444a-a759-aa145634a276",
   "metadata": {},
   "outputs": [
    {
     "data": {
      "text/plain": [
       "(torch.Size([1010, 28, 28]), torch.Size([1028, 28, 28]))"
      ]
     },
     "execution_count": 41,
     "metadata": {},
     "output_type": "execute_result"
    }
   ],
   "source": [
    "valid_3_tens = torch.stack([tensor(Image.open(o))\n",
    "                            for o in (path/'valid'/'3').ls()])\n",
    "valid_3_tens = valid_3_tens.float()/255\n",
    "valid_7_tens = torch.stack([tensor(Image.open(o))\n",
    "                            for o in (path/'valid'/'7').ls()])\n",
    "valid_7_tens = valid_7_tens.float()/255\n",
    "valid_3_tens.shape, valid_7_tens.shape"
   ]
  },
  {
   "cell_type": "markdown",
   "id": "16a15fae-6ecf-4462-a79f-5bae4a54800d",
   "metadata": {},
   "source": [
    "The code goes through through everything in the validation set of 3.ls() opens and turns them into a tensor then stacks them all up. Next, it turns them into a float by dividing by 255.  \n",
    "Same is done for the 7 folder"
   ]
  },
  {
   "cell_type": "markdown",
   "id": "3d07b4b7-f5c0-4be6-9912-921cf63fc19a",
   "metadata": {},
   "source": [
    "Then we check the shape."
   ]
  },
  {
   "cell_type": "markdown",
   "id": "c4347a7f-28d6-427f-b415-959da6cd0920",
   "metadata": {},
   "source": [
    "Idea is, we want to create a function is_3 that will return true if we think something is a 3. So we have to check whether the digit we are testing on is closer to the 'ideal' three or seven."
   ]
  },
  {
   "cell_type": "markdown",
   "id": "e46c7fc9-62b5-4382-867f-33157762373f",
   "metadata": {},
   "source": [
    "Let's create a function that takes the difference between two things, takes the absolute value and then takes the mean."
   ]
  },
  {
   "cell_type": "code",
   "execution_count": 42,
   "id": "586126ba-ea74-4422-861b-b77382c666fa",
   "metadata": {},
   "outputs": [
    {
     "data": {
      "text/plain": [
       "tensor(0.1114)"
      ]
     },
     "execution_count": 42,
     "metadata": {},
     "output_type": "execute_result"
    }
   ],
   "source": [
    "def mnist_distance(a, b): return (a-b).abs().mean((-1, -2))\n",
    "mnist_distance(a_3, mean3)"
   ]
  },
  {
   "cell_type": "markdown",
   "id": "229f7a78-8934-4a05-bf93-576d19244ee6",
   "metadata": {},
   "source": [
    "The mnist_distance function takes the difference between two tensors, takes their absolute value then takes the mean."
   ]
  },
  {
   "cell_type": "markdown",
   "id": "467c9bfb-16e1-481a-8966-5bc809e20e1d",
   "metadata": {},
   "source": [
    "mean((-1,-2)) -> takes the mean of the last and the second last dimension.  \n",
    "This is going to take the mean of kind of the x and y axes."
   ]
  },
  {
   "cell_type": "markdown",
   "id": "c872ba02-18d8-4095-85a8-dae2f5a2762d",
   "metadata": {},
   "source": [
    "It returns a single number which is the distance a_3 from the mean3. This is the same value as we got earlier."
   ]
  },
  {
   "cell_type": "markdown",
   "id": "246a0c50-53eb-4bd5-b1af-bb7f55e2065e",
   "metadata": {},
   "source": [
    "We need to do this for every image in the validation set so as to find the overall metric."
   ]
  },
  {
   "cell_type": "code",
   "execution_count": 43,
   "id": "aee0d42b-a234-4aef-800e-a8418dd2d393",
   "metadata": {},
   "outputs": [
    {
     "data": {
      "text/plain": [
       "(tensor([0.1328, 0.1523, 0.1245,  ..., 0.1383, 0.1280, 0.1138]),\n",
       " torch.Size([1010]))"
      ]
     },
     "execution_count": 43,
     "metadata": {},
     "output_type": "execute_result"
    }
   ],
   "source": [
    "valid_3_dist = mnist_distance(valid_3_tens, mean3)\n",
    "valid_3_dist, valid_3_dist.shape"
   ]
  },
  {
   "cell_type": "markdown",
   "id": "b5fa4a51-35b5-44bb-8156-45ae9bd3de48",
   "metadata": {},
   "source": [
    "Broadcasting is a magic trick of Python that allows us to pass the whole validation set against the mean3."
   ]
  },
  {
   "cell_type": "markdown",
   "id": "ef9e2102-facc-4d1e-b56b-87a205af2223",
   "metadata": {},
   "source": [
    "In our case, it returns 1010 numbers.  \n",
    "Here, we are doing a-b on the 1010 images on the validation set."
   ]
  },
  {
   "cell_type": "code",
   "execution_count": 44,
   "id": "41e8f425-c6f3-4338-8563-b4c9526b274a",
   "metadata": {},
   "outputs": [
    {
     "data": {
      "text/plain": [
       "torch.Size([1010, 28, 28])"
      ]
     },
     "execution_count": 44,
     "metadata": {},
     "output_type": "execute_result"
    }
   ],
   "source": [
    "valid_3_tens.shape"
   ]
  },
  {
   "cell_type": "markdown",
   "id": "6a36dd95-cf9a-4ccb-9ac1-273d254f9be3",
   "metadata": {},
   "source": [
    "Gives us a Rank 3 tensor"
   ]
  },
  {
   "cell_type": "code",
   "execution_count": 45,
   "id": "5e47bd60-3e89-499d-b594-ba71386d2622",
   "metadata": {},
   "outputs": [
    {
     "data": {
      "text/plain": [
       "torch.Size([28, 28])"
      ]
     },
     "execution_count": 45,
     "metadata": {},
     "output_type": "execute_result"
    }
   ],
   "source": [
    "mean3.shape"
   ]
  },
  {
   "cell_type": "markdown",
   "id": "ef4e11c7-c0c2-4a68-a02e-c2dd7fb40af1",
   "metadata": {},
   "source": [
    "Gives us a Rank 2 tensor."
   ]
  },
  {
   "cell_type": "markdown",
   "id": "6fc518e6-aeab-4ea5-9cfa-c012161955ae",
   "metadata": {},
   "source": [
    "Broadcasting means if the two shapes don't match, if they matched it would just subtract every corresponding item. But because they don't match it actually acts as if there is 1010 versions of 28×28 (tensor of mean3). So its actually going to subtract this from every single one of mean3 tensor from every tensor of the validation set."
   ]
  },
  {
   "cell_type": "markdown",
   "id": "e65da0b2-839c-4bda-b051-c595e02e7d02",
   "metadata": {},
   "source": [
    "Broadcating requires us to first understand the idea of element-wise operation:"
   ]
  },
  {
   "cell_type": "code",
   "execution_count": 46,
   "id": "a1e126f0-7fe5-4774-9407-c52e588b6d45",
   "metadata": {},
   "outputs": [
    {
     "data": {
      "text/plain": [
       "tensor([5, 7, 9])"
      ]
     },
     "execution_count": 46,
     "metadata": {},
     "output_type": "execute_result"
    }
   ],
   "source": [
    "tensor([1, 2, 3]) + tensor([4, 5, 6])"
   ]
  },
  {
   "cell_type": "markdown",
   "id": "6ad37440-98cb-4200-b2a2-5789ae65f2cf",
   "metadata": {},
   "source": [
    "This is element-wise operation.  \n",
    "These are rank-1 tensor of size 3. As they match,it takes the corresponding items and adds them together."
   ]
  },
  {
   "cell_type": "code",
   "execution_count": 47,
   "id": "d8caca63-2859-42c1-bfab-9c45b04776f1",
   "metadata": {},
   "outputs": [
    {
     "data": {
      "text/plain": [
       "torch.Size([1010, 28, 28])"
      ]
     },
     "execution_count": 47,
     "metadata": {},
     "output_type": "execute_result"
    }
   ],
   "source": [
    "(valid_3_tens - mean3).shape"
   ]
  },
  {
   "cell_type": "markdown",
   "id": "f7fa206a-935c-4f82-a9a5-555caacb0a89",
   "metadata": {},
   "source": [
    "When we have different shapes as described before, what it ends up doing is copying mean3 1010 times and acts as if we had valid_3_tens minus 1010 copies of mean3."
   ]
  },
  {
   "cell_type": "markdown",
   "id": "8444183e-3ffe-4a6e-ad53-af125cc89a8f",
   "metadata": {},
   "source": [
    "Then we find the absolute value and call mean((-1, -2))."
   ]
  },
  {
   "cell_type": "markdown",
   "id": "da8d0e40-b329-4c19-a851-b84671b084b8",
   "metadata": {},
   "source": [
    "We can now create is_3 function:"
   ]
  },
  {
   "cell_type": "code",
   "execution_count": 48,
   "id": "3da7b41c-797f-465d-8240-409202cdaa88",
   "metadata": {},
   "outputs": [],
   "source": [
    "def is_3(x): return mnist_distance(x, mean3) < mnist_distance(x,mean7)"
   ]
  },
  {
   "cell_type": "markdown",
   "id": "cd97d864-3a76-48af-ae97-91bc34b0433f",
   "metadata": {},
   "source": [
    "The function figures out if the distance between the image in question (x) and mean3 is less than the distance between the image in question (x) and mean7. If it is, then its a 3."
   ]
  },
  {
   "cell_type": "markdown",
   "id": "e12424f0-b865-4c98-9fc6-09c57d08cf73",
   "metadata": {},
   "source": [
    "Let's check with a_3:"
   ]
  },
  {
   "cell_type": "code",
   "execution_count": 49,
   "id": "983e5ad3-9a26-4e33-93ce-d0e8ef15eeb8",
   "metadata": {},
   "outputs": [
    {
     "data": {
      "text/plain": [
       "(tensor(True), tensor(1.))"
      ]
     },
     "execution_count": 49,
     "metadata": {},
     "output_type": "execute_result"
    }
   ],
   "source": [
    "is_3(a_3), is_3(a_3).float()"
   ]
  },
  {
   "cell_type": "markdown",
   "id": "cad6de3a-0401-4ffe-a186-d6c952b58c0b",
   "metadata": {},
   "source": [
    "Checks whether the image is a 3 and turns it into a float.  \n",
    "If true, it becomes a 1. like in the above code."
   ]
  },
  {
   "cell_type": "markdown",
   "id": "bd390b92-3643-47c4-bc80-0bc1b24bc285",
   "metadata": {},
   "source": [
    "Using broadcating, we can check the whole validation dataset."
   ]
  },
  {
   "cell_type": "code",
   "execution_count": 50,
   "id": "dc01b606-857c-4bdb-a067-739ee2d2b56a",
   "metadata": {},
   "outputs": [
    {
     "data": {
      "text/plain": [
       "tensor([ True,  True,  True,  ..., False,  True,  True])"
      ]
     },
     "execution_count": 50,
     "metadata": {},
     "output_type": "execute_result"
    }
   ],
   "source": [
    "is_3(valid_3_tens)"
   ]
  },
  {
   "cell_type": "markdown",
   "id": "e3cec84d-d181-4221-98d7-7e57b565b2ee",
   "metadata": {},
   "source": [
    "Now, we can calculate the accuracy of the threes and sevens by taking the average of the function for all 3s and 7s."
   ]
  },
  {
   "cell_type": "code",
   "execution_count": 51,
   "id": "206f0199-9790-41cb-89d0-4c4b87ad840e",
   "metadata": {},
   "outputs": [
    {
     "data": {
      "text/plain": [
       "(tensor(0.9168), tensor(0.9854), tensor(0.9511))"
      ]
     },
     "execution_count": 51,
     "metadata": {},
     "output_type": "execute_result"
    }
   ],
   "source": [
    "accuracy_3s = is_3(valid_3_tens).float().mean()\n",
    "accuracy_7s = 1 - is_3(valid_7_tens).float().mean()\n",
    "accuracy_3s, accuracy_7s, (accuracy_3s + accuracy_7s)/2"
   ]
  },
  {
   "cell_type": "markdown",
   "id": "e6d809c8-0814-4e4b-9099-884650e8f4c7",
   "metadata": {},
   "source": [
    "This performs is_3 on our whole valid_3_tens and then turns that into float and takes the mean. Same is done for 7."
   ]
  },
  {
   "cell_type": "markdown",
   "id": "460202ff-271f-417f-baca-c6eb590924d1",
   "metadata": {},
   "source": [
    "Accuracy is 91% for 3s, 98% for 7s and 95% for both.   \n",
    "This is a good baseline."
   ]
  },
  {
   "cell_type": "markdown",
   "id": "07c92bf0-eb84-45f1-ab20-dd5e8a6fb5f9",
   "metadata": {},
   "source": [
    "## Gradient Descent"
   ]
  },
  {
   "cell_type": "markdown",
   "id": "537d1ee9-36b1-4353-8fec-ea59857e909f",
   "metadata": {},
   "source": [
    "But in ML, according to Arthur Samuel, we don't have a function which has parameters that we are testing against some kind of measure of fitness and then using it to improve the parameters. We just did one step."
   ]
  },
  {
   "cell_type": "markdown",
   "id": "016cbcb3-f7c1-4bb5-9dde-d370fb11e04e",
   "metadata": {},
   "source": [
    "Suppose, we arrange for some automatic means of testing the effectiveness of any current weight assignment in terms of the actual performance and provide a mechanism for altering the weight assignment so as to maximize the performance."
   ]
  },
  {
   "cell_type": "markdown",
   "id": "0dccc8bc-89d7-4335-81db-036516522c50",
   "metadata": {},
   "source": [
    "We need some way to get our model to become better and better as we keep iterating. \n",
    "Let's think of a function which has parameters. So instead of finding an ideal image and seeing how far away something is from the ideal image, what we could instead do is come up with a set of weights for each pixel.\n",
    "So in place that you expect to find 3, you could give those high weights."
   ]
  },
  {
   "cell_type": "markdown",
   "id": "5843e280-00ef-48dd-b205-35c7383cb3c5",
   "metadata": {},
   "source": [
    "We can come up with a function where the probability of something being, for example an 8, is equal  to the pixel in the image(x) multiplied by some sort of weight(w) then we sum up.  \n",
    "\n",
    "def pr_eight(x,w): return (x*w).sum()"
   ]
  },
  {
   "cell_type": "markdown",
   "id": "3594bad5-c3d0-4f5b-9032-baed01c07244",
   "metadata": {},
   "source": [
    "So anywhere in the image we are looking at with high weights, its going to end up with a high probability."
   ]
  },
  {
   "cell_type": "markdown",
   "id": "b34e9700-2972-4164-ac21-9ba035ad933f",
   "metadata": {},
   "source": [
    "x is the image represented as a vector."
   ]
  },
  {
   "cell_type": "markdown",
   "id": "e6127b91-426b-4f88-a13d-ebfe797b687b",
   "metadata": {},
   "source": [
    "So here are the steps that we are going to require, to turn this function into a machine learning classifier:  \n",
    "1) We will start with a vector w(A vector is a Rank 1 tensor) containing random weights/parameters.  \n",
    "2) Then, we will predict whether the number is a 3 or 7.  \n",
    "3) Based on the predictions, calculate how good the model is (its loss).  \n",
    "4) Key step -> Calculate the gradient, which measure for each weight, how  changing that weight would change the loss.  \n",
    "5) Step/Change all the weights based on that calculation.  \n",
    "6) Go back to step 2 and repeat the process.  \n",
    "7) ... repeat until you decide to stop the training process (for instance because the model is good enough).  \n",
    "\n",
    "These steps are called Gradient Descent"
   ]
  },
  {
   "cell_type": "markdown",
   "id": "4e220bf5-4e9b-4d84-a3d4-16dc74ed206a",
   "metadata": {},
   "source": [
    "Before going back to our image classifier, let's illustrate what they look like in a simple case."
   ]
  },
  {
   "cell_type": "markdown",
   "id": "9d5a9285-0ea1-410a-b8eb-cf562f97fbf1",
   "metadata": {},
   "source": [
    "#### Example 1"
   ]
  },
  {
   "cell_type": "markdown",
   "id": "6830b0e1-b1ab-41ed-8070-9d5d38796fd5",
   "metadata": {},
   "source": [
    "First, we define a simple function, the quadratic. Let's pretend this is our loss function and x is a weight parameter of the function."
   ]
  },
  {
   "cell_type": "code",
   "execution_count": 52,
   "id": "537d80a8-1375-430f-85c9-785cc7705966",
   "metadata": {},
   "outputs": [],
   "source": [
    "def f(x): return x**2"
   ]
  },
  {
   "cell_type": "markdown",
   "id": "f8974781-4331-434a-8672-a85697d81549",
   "metadata": {},
   "source": [
    "plotting the graph:"
   ]
  },
  {
   "cell_type": "code",
   "execution_count": 53,
   "id": "d5600777-64c4-41a8-b115-304375be0d6e",
   "metadata": {},
   "outputs": [
    {
     "data": {
      "image/png": "[encoded data removed]",
      "text/plain": [
       "<Figure size 432x288 with 1 Axes>"
      ]
     },
     "metadata": {
      "needs_background": "light"
     },
     "output_type": "display_data"
    }
   ],
   "source": [
    "plot_function(f, 'x', 'x**2')"
   ]
  },
  {
   "cell_type": "markdown",
   "id": "480c6fe9-b83c-466f-a140-b122fc921ba6",
   "metadata": {},
   "source": [
    "Next, we need to find the bottom value of the graph.  \n",
    "The steps we described above starts by picking some random value for a parameter and calculating the value of the loss."
   ]
  },
  {
   "cell_type": "code",
   "execution_count": 54,
   "id": "f5fbd2a6-094b-4a7c-8fdb-d48c872fd23e",
   "metadata": {},
   "outputs": [
    {
     "data": {
      "image/png": "[encoded data removed]",
      "text/plain": [
       "<Figure size 432x288 with 1 Axes>"
      ]
     },
     "metadata": {
      "needs_background": "light"
     },
     "output_type": "display_data"
    }
   ],
   "source": [
    "plot_function(f, 'x', 'x**2')\n",
    "plt.scatter(-1.5, f(-1.5), color='red');"
   ]
  },
  {
   "cell_type": "markdown",
   "id": "04c1b122-9bd2-43f0-ab2e-a4888080d386",
   "metadata": {},
   "source": [
    "We pick 1.5."
   ]
  },
  {
   "cell_type": "markdown",
   "id": "5fd4a579-89fa-46b3-9d0f-4b7282356a9f",
   "metadata": {},
   "source": [
    "Now we need to know if we increase x a bit, will x**2(the loss in this case) get better(better means the lossis smaller)."
   ]
  },
  {
   "cell_type": "markdown",
   "id": "5c843438-fe37-44bb-9879-75bd01cb2527",
   "metadata": {},
   "source": [
    "To get to the bottom of the curve, we need to calculate the gradient.  \n",
    "First, we pick a tensor value which we want gradients at:"
   ]
  },
  {
   "cell_type": "code",
   "execution_count": 55,
   "id": "5b6ad929-7672-42fc-8a91-3fd9d48eccd8",
   "metadata": {},
   "outputs": [],
   "source": [
    "xt = tensor(3.).requires_grad_()"
   ]
  },
  {
   "cell_type": "markdown",
   "id": "e5115bca-6304-4c93-af1a-4f8f4d62a3b3",
   "metadata": {},
   "source": [
    "We will modify this tensor with a special method called requires_grad.  \n",
    "This method tells PyTorch that anytime I do a calculation with xt, it should do what calculation it does so that I can take the derivative later.  \n",
    "An underscore(_) at the end of a PyTorch method means that this is called an in-place operation. So it will modify the tensor(3) to tell PyTorch that we want to be calculating gradients on it. "
   ]
  },
  {
   "cell_type": "markdown",
   "id": "4fc58d34-b47a-4ce0-a5be-9fa904f50e10",
   "metadata": {},
   "source": [
    "Now, if we call f on it (Remember f is just squarring it), but the value is not just 9, but 9 accompanied by a grad function (knows that a power has been taken)."
   ]
  },
  {
   "cell_type": "code",
   "execution_count": 56,
   "id": "0335981f-95b9-46c1-9f46-05c1e7f1a888",
   "metadata": {},
   "outputs": [
    {
     "data": {
      "text/plain": [
       "tensor(9., grad_fn=<PowBackward0>)"
      ]
     },
     "execution_count": 56,
     "metadata": {},
     "output_type": "execute_result"
    }
   ],
   "source": [
    "yt = f(xt)\n",
    "yt"
   ]
  },
  {
   "cell_type": "markdown",
   "id": "23a6a18c-1bbf-4020-b558-ca31ad5feea2",
   "metadata": {},
   "source": [
    "So now, we can call a special method called , backward(), which refers to back propagation. This means take the derivative."
   ]
  },
  {
   "cell_type": "code",
   "execution_count": 57,
   "id": "ee63423b-c36f-4f7a-bb8c-bce435ca65e8",
   "metadata": {},
   "outputs": [],
   "source": [
    "yt.backward()"
   ]
  },
  {
   "cell_type": "markdown",
   "id": "29b90f4f-cb1d-48a9-82dc-d0b55ad6cf95",
   "metadata": {},
   "source": [
    "Once it does that we can look inside xt and find its gradient."
   ]
  },
  {
   "cell_type": "code",
   "execution_count": 58,
   "id": "c3ae99ef-d856-4e33-ab32-b4fe4e173690",
   "metadata": {},
   "outputs": [
    {
     "data": {
      "text/plain": [
       "tensor(6.)"
      ]
     },
     "execution_count": 58,
     "metadata": {},
     "output_type": "execute_result"
    }
   ],
   "source": [
    "xt.grad"
   ]
  },
  {
   "cell_type": "markdown",
   "id": "8afbc9fa-fc71-476f-8b58-53e015daf22c",
   "metadata": {},
   "source": [
    "Remember, the derivative of  x**2 is 2*x, and we have x=3, so the gradients should be 2*3=6.  \n",
    "The derivative means its a slope. "
   ]
  },
  {
   "cell_type": "markdown",
   "id": "ea5fb5b5-f793-4edf-a175-79231bd524f1",
   "metadata": {},
   "source": [
    "Lets repeat the steps with a vector argument(Rank1 tensor).\n"
   ]
  },
  {
   "cell_type": "code",
   "execution_count": 59,
   "id": "743f917f-6d8b-4333-bc2c-5b94ba3c0b90",
   "metadata": {},
   "outputs": [
    {
     "data": {
      "text/plain": [
       "tensor([ 3.,  4., 10.], requires_grad=True)"
      ]
     },
     "execution_count": 59,
     "metadata": {},
     "output_type": "execute_result"
    }
   ],
   "source": [
    "xt = tensor([3., 4., 10.]).requires_grad_()\n",
    "xt"
   ]
  },
  {
   "cell_type": "markdown",
   "id": "d2685ca7-6e62-40de-a138-52909a1d6671",
   "metadata": {},
   "source": [
    "Let's add sum to our function so that it can take a vector(Rank 1 tensor) and return a scalar(Rank 0 tensor)."
   ]
  },
  {
   "cell_type": "code",
   "execution_count": 60,
   "id": "263f9e35-da41-4ca3-9cc7-617265490904",
   "metadata": {},
   "outputs": [
    {
     "data": {
      "text/plain": [
       "tensor(125., grad_fn=<SumBackward0>)"
      ]
     },
     "execution_count": 60,
     "metadata": {},
     "output_type": "execute_result"
    }
   ],
   "source": [
    "def f(x): return(x**2).sum()\n",
    "\n",
    "yt =f(xt)\n",
    "yt"
   ]
  },
  {
   "cell_type": "markdown",
   "id": "1070cbd4-6978-4398-b2ce-a245479ee10d",
   "metadata": {},
   "source": [
    "Our gradients are 2*xt."
   ]
  },
  {
   "cell_type": "code",
   "execution_count": 61,
   "id": "8c44e910-539b-427f-8296-b5810090b1f3",
   "metadata": {},
   "outputs": [
    {
     "data": {
      "text/plain": [
       "tensor([ 6.,  8., 20.])"
      ]
     },
     "execution_count": 61,
     "metadata": {},
     "output_type": "execute_result"
    }
   ],
   "source": [
    "yt.backward()\n",
    "xt.grad"
   ]
  },
  {
   "cell_type": "markdown",
   "id": "04813312-ee99-4eb1-a0ed-a554682bc5ee",
   "metadata": {},
   "source": [
    "The gradient only tells us the slope of our function but not how far to adjust the parameters. It however gives us an idea.  \n",
    "If the slope is very large, then wehave more adjustments to do,  whereas if the slope is very small, that may suggest that we are close to the optimal value."
   ]
  },
  {
   "cell_type": "markdown",
   "id": "936a6452-a039-4554-a401-8027969a6149",
   "metadata": {},
   "source": [
    "Now, we can do the stepping/changing with a learning rate.\n",
    "Learning rate -> small number(mostly between 0.001 and 0.1) that we multiply with the gradient so as to change the parameters.  \n",
    "Once you have a learning rate, you can adjust the parameters with this simple function:\n",
    "w -= gradient(w) * lr  \n",
    "w is the weights and lr is the learning rate.  \n",
    "We subtract all our weights off the gradient multiplied by our learning rate.  \n",
    "This is the essence of gradient descent, known as stepping our parameters using an optimiser step."
   ]
  },
  {
   "cell_type": "markdown",
   "id": "5b49e505-093a-4221-9346-edd81cca5cbb",
   "metadata": {},
   "source": [
    "#### Example 2"
   ]
  },
  {
   "cell_type": "markdown",
   "id": "ca0f6fae-a619-4799-9665-bce273dc131c",
   "metadata": {},
   "source": [
    "Let's use gradient descent to solve an actual problem.  \n",
    "Imagine you were measuring the speed of a roller coaster as it went over the top of a hump. It would start fast, and then get slower as it went up the hill; it would be slowest at the top, and it would then speed up again as it went downhill. You want to build a model of how the speed changes over time. If you were measuring the speed manually every second for 20 seconds, it might look something like this:\n"
   ]
  },
  {
   "cell_type": "code",
   "execution_count": 62,
   "id": "10f61277-5b8e-4bcf-9abc-8f9e45a76645",
   "metadata": {},
   "outputs": [
    {
     "data": {
      "text/plain": [
       "tensor([ 0.,  1.,  2.,  3.,  4.,  5.,  6.,  7.,  8.,  9., 10., 11., 12., 13., 14., 15., 16., 17., 18., 19.])"
      ]
     },
     "execution_count": 62,
     "metadata": {},
     "output_type": "execute_result"
    }
   ],
   "source": [
    "time = torch.arange(0,20).float(); time"
   ]
  },
  {
   "cell_type": "code",
   "execution_count": 63,
   "id": "4f1db3f4-0f10-45ce-8af0-a67e0dcdfbf2",
   "metadata": {},
   "outputs": [
    {
     "data": {
      "text/plain": [
       "<matplotlib.collections.PathCollection at 0x7fe7ed8e63d0>"
      ]
     },
     "execution_count": 63,
     "metadata": {},
     "output_type": "execute_result"
    },
    {
     "data": {
      "image/png": "[encoded data removed]",
      "text/plain": [
       "<Figure size 432x288 with 1 Axes>"
      ]
     },
     "metadata": {
      "needs_background": "light"
     },
     "output_type": "display_data"
    }
   ],
   "source": [
    "speed = torch.randn(20)*3 + 0.75*(time - 9.5)**2 + 1\n",
    "plt.scatter(time, speed)"
   ]
  },
  {
   "cell_type": "markdown",
   "id": "e3cdc12a-1381-4b30-b2b4-4cdbe1c1fac6",
   "metadata": {},
   "source": [
    "We want to create a function that estimates at random time, what is the speed of the roller-coaster.  \n",
    "We start by guessing a function of the form a*(time**2) + (b * time) + c. This is a quadratic functions.  \n"
   ]
  },
  {
   "cell_type": "markdown",
   "id": "b68ce25c-1c12-4679-9b5a-8587df616714",
   "metadata": {},
   "source": [
    "So let's collect the parameters in one argument and thus separate the input,t, and the parameters, params.  \n",
    "The parameters are a, b, c."
   ]
  },
  {
   "cell_type": "code",
   "execution_count": 64,
   "id": "2be2f916-68d5-42c4-a003-c90ecdde3534",
   "metadata": {},
   "outputs": [],
   "source": [
    "def f(t, params):\n",
    "    a,b,c = params\n",
    "    return a*(t**2) + (b*t) + c"
   ]
  },
  {
   "cell_type": "markdown",
   "id": "8db187e1-92e1-4813-944b-d58127ac8637",
   "metadata": {},
   "source": [
    "In Python, you can split out a list or collection into its components like this:  \n",
    "a,b,c = params"
   ]
  },
  {
   "cell_type": "markdown",
   "id": "6aa08009-f551-4061-999c-8c4e7357899b",
   "metadata": {},
   "source": [
    "We will need to find the best value for a,b,c.  \n",
    "We can find this choosing a loss function, which will return a value based on a prediction and a target.  \n",
    "For continous data, it is common to use mean squared error."
   ]
  },
  {
   "cell_type": "code",
   "execution_count": 65,
   "id": "20a11d8b-cbae-476b-9f46-c792b295f691",
   "metadata": {},
   "outputs": [],
   "source": [
    "def mse(preds, targets): return((preds - targets)**2).mean()"
   ]
  },
  {
   "cell_type": "markdown",
   "id": "6858fdc7-393d-4b8f-b9be-d3db181c53a8",
   "metadata": {},
   "source": [
    "Looking at out 7 steps process:"
   ]
  },
  {
   "cell_type": "markdown",
   "id": "da2c954c-163f-45e6-9aa6-29ada1fcac80",
   "metadata": {},
   "source": [
    "1) Initialize the weights  \n",
    "We want to come up with a set of three parameters a, b, c.  \n",
    "So we initialize a, b, c to random values:"
   ]
  },
  {
   "cell_type": "code",
   "execution_count": 66,
   "id": "4e0653a9-3dd9-4af1-866d-45db8784a788",
   "metadata": {},
   "outputs": [],
   "source": [
    "params = torch.randn(3).requires_grad_()"
   ]
  },
  {
   "cell_type": "markdown",
   "id": "a7978aa4-f130-467b-9c8b-d1516cb221fb",
   "metadata": {},
   "source": [
    "In PyTorch, we get random values using randn() and 3 to state that we want 3 of them.  \n",
    "Remember, we will be adjusting them so we tell PyTorch we want the gradients.  "
   ]
  },
  {
   "cell_type": "code",
   "execution_count": 67,
   "id": "19adc65f-a007-440f-a877-ace7d7226bb2",
   "metadata": {},
   "outputs": [],
   "source": [
    "#hide\n",
    "orig_params = params.clone()"
   ]
  },
  {
   "cell_type": "markdown",
   "id": "18da8535-255e-40fe-ad49-72d0d5077ab6",
   "metadata": {},
   "source": [
    "Save them this way so we can check them out later."
   ]
  },
  {
   "cell_type": "markdown",
   "id": "c0a3c14f-735d-4601-af9b-f98f676edcdc",
   "metadata": {},
   "source": [
    "2) Calculate the predictions"
   ]
  },
  {
   "cell_type": "code",
   "execution_count": 68,
   "id": "88d1664c-d08e-454f-8620-b09e9426d5fa",
   "metadata": {},
   "outputs": [],
   "source": [
    "preds = f(time, params)"
   ]
  },
  {
   "cell_type": "markdown",
   "id": "e8c7f084-1045-467e-9c12-f31791f3a137",
   "metadata": {},
   "source": [
    "Let's create a function to see how close our predictions are to our target."
   ]
  },
  {
   "cell_type": "code",
   "execution_count": 69,
   "id": "a139e776-1497-4629-9fad-c6312f899582",
   "metadata": {},
   "outputs": [],
   "source": [
    "def show_preds(preds, ax=None):\n",
    "    if ax is None: ax=plt.subplots()[1]\n",
    "    ax.scatter(time, speed)\n",
    "    ax.scatter(time, to_np(preds), color='red')\n",
    "    ax.set_ylim(-300, 100)"
   ]
  },
  {
   "cell_type": "code",
   "execution_count": 70,
   "id": "aee4bc36-edc1-4b6e-9823-3392b4a19c18",
   "metadata": {},
   "outputs": [
    {
     "data": {
      "image/png": "[encoded data removed]",
      "text/plain": [
       "<Figure size 432x288 with 1 Axes>"
      ]
     },
     "metadata": {
      "needs_background": "light"
     },
     "output_type": "display_data"
    }
   ],
   "source": [
    "show_preds(preds)"
   ]
  },
  {
   "cell_type": "markdown",
   "id": "8bd56a78-5c9f-4d0b-9044-bab122982a4b",
   "metadata": {},
   "source": [
    "Red is our prediction, Blue is our target.  \n"
   ]
  },
  {
   "cell_type": "markdown",
   "id": "57696bbe-1711-4a13-8e42-5eff8a1f1d57",
   "metadata": {},
   "source": [
    "This doesn't look very close."
   ]
  },
  {
   "cell_type": "markdown",
   "id": "4f2f640f-8819-49f3-9caf-ffb030e1d37a",
   "metadata": {},
   "source": [
    "3) Calculate the loss"
   ]
  },
  {
   "cell_type": "code",
   "execution_count": 71,
   "id": "368d419c-3b37-4e41-9056-0a1d908db78a",
   "metadata": {},
   "outputs": [
    {
     "data": {
      "text/plain": [
       "tensor(25823.8086, grad_fn=<MeanBackward0>)"
      ]
     },
     "execution_count": 71,
     "metadata": {},
     "output_type": "execute_result"
    }
   ],
   "source": [
    "loss = mse(preds, speed)\n",
    "loss"
   ]
  },
  {
   "cell_type": "markdown",
   "id": "fe37cfb2-e036-454c-b075-dd9cb237df3c",
   "metadata": {},
   "source": [
    "We need to improve this as the loss is very big."
   ]
  },
  {
   "cell_type": "markdown",
   "id": "2f226936-5334-459c-a6fe-bb7d070d2204",
   "metadata": {},
   "source": [
    "4) Calculate the gradient"
   ]
  },
  {
   "cell_type": "code",
   "execution_count": 72,
   "id": "bbe65f3e-4df4-4afa-97fc-b87849639811",
   "metadata": {},
   "outputs": [
    {
     "data": {
      "text/plain": [
       "tensor([-53195.8633,  -3419.7148,   -253.8908])"
      ]
     },
     "execution_count": 72,
     "metadata": {},
     "output_type": "execute_result"
    }
   ],
   "source": [
    "loss.backward()\n",
    "params.grad"
   ]
  },
  {
   "cell_type": "markdown",
   "id": "7ac4de37-084b-4ecd-beb7-63bf661b8569",
   "metadata": {},
   "source": [
    "We first call backward() then get grad.  \n",
    "This says that each of our parameter has a gradient that is negative."
   ]
  },
  {
   "cell_type": "markdown",
   "id": "f1bec015-e24f-434f-972e-7f0a8e4d4232",
   "metadata": {},
   "source": [
    "Let's pick a learning rate of 10^-5 or 1e-5 or 0.00001."
   ]
  },
  {
   "cell_type": "code",
   "execution_count": 73,
   "id": "7493ba36-dfab-41a0-a5e5-6c2f1374bf0f",
   "metadata": {},
   "outputs": [
    {
     "data": {
      "text/plain": [
       "tensor([-0.5320, -0.0342, -0.0025])"
      ]
     },
     "execution_count": 73,
     "metadata": {},
     "output_type": "execute_result"
    }
   ],
   "source": [
    "params .grad * 1e-5"
   ]
  },
  {
   "cell_type": "code",
   "execution_count": 74,
   "id": "da62dbcf-f6bb-4e1a-8be9-d52e8713c313",
   "metadata": {},
   "outputs": [
    {
     "data": {
      "text/plain": [
       "tensor([-0.7658, -0.7506,  1.3525], requires_grad=True)"
      ]
     },
     "execution_count": 74,
     "metadata": {},
     "output_type": "execute_result"
    }
   ],
   "source": [
    "params"
   ]
  },
  {
   "cell_type": "markdown",
   "id": "974bd9d0-c276-43b1-ad1d-3415817849da",
   "metadata": {},
   "source": [
    "5) Step the weights"
   ]
  },
  {
   "cell_type": "markdown",
   "id": "ed5d82b0-488f-4610-a65f-1798dfe9f346",
   "metadata": {},
   "source": [
    "Remember, stepping the weights means minus equals the learning rate times the gradient."
   ]
  },
  {
   "cell_type": "code",
   "execution_count": 75,
   "id": "1e5f8909-64cb-4a0c-841b-ec5cee289492",
   "metadata": {},
   "outputs": [],
   "source": [
    "lr = 1e-5\n",
    "params.data -= lr * params.grad.data\n",
    "params.grad = None"
   ]
  },
  {
   "cell_type": "markdown",
   "id": "9309c012-0794-45e9-800c-a685defce842",
   "metadata": {},
   "source": [
    ".data is a special attribute in PyTorch, which if you use it, then the gradient is not calculated.  \n",
    "We only want the gradient calculated of our function f. So when we step the weight, we have to use .data attribute."
   ]
  },
  {
   "cell_type": "markdown",
   "id": "06f090f5-185e-4d8d-9f52-75f19ed0e6cc",
   "metadata": {},
   "source": [
    "params.grad = None -> deletes the gradients that we already had"
   ]
  },
  {
   "cell_type": "markdown",
   "id": "045473a1-012a-4795-90f2-98d66ae05ad2",
   "metadata": {},
   "source": [
    "Let's see if the loss improved:"
   ]
  },
  {
   "cell_type": "code",
   "execution_count": 76,
   "id": "76d146c9-951c-4606-8948-9756cd9d8c4e",
   "metadata": {},
   "outputs": [
    {
     "data": {
      "text/plain": [
       "tensor(5435.5356, grad_fn=<MeanBackward0>)"
      ]
     },
     "execution_count": 76,
     "metadata": {},
     "output_type": "execute_result"
    }
   ],
   "source": [
    "preds = f(time, params)\n",
    "mse(preds, speed)"
   ]
  },
  {
   "cell_type": "markdown",
   "id": "4160d8ae-c97c-4f74-982b-b5248f94a2b5",
   "metadata": {},
   "source": [
    "plotting this:\n",
    "    "
   ]
  },
  {
   "cell_type": "code",
   "execution_count": 77,
   "id": "7788027b-8630-4049-9ee1-690de5ce5c30",
   "metadata": {},
   "outputs": [
    {
     "data": {
      "image/png": "[encoded data removed]",
      "text/plain": [
       "<Figure size 432x288 with 1 Axes>"
      ]
     },
     "metadata": {
      "needs_background": "light"
     },
     "output_type": "display_data"
    }
   ],
   "source": [
    "show_preds(preds)"
   ]
  },
  {
   "cell_type": "markdown",
   "id": "d5df802e-33b9-423a-9f55-d0dac023a1f7",
   "metadata": {},
   "source": [
    "6) Repeat this process a few times"
   ]
  },
  {
   "cell_type": "markdown",
   "id": "57b6ff8d-eef5-4452-8cad-6a574073ee3e",
   "metadata": {},
   "source": [
    "We will create a function with the previous line of code:"
   ]
  },
  {
   "cell_type": "code",
   "execution_count": 78,
   "id": "d7107b84-09d9-426d-a831-90ae53018a51",
   "metadata": {},
   "outputs": [],
   "source": [
    "def apply_step(params, prn = True):\n",
    "    preds = f(time, params)\n",
    "    loss = mse(preds, speed)\n",
    "    loss.backward()\n",
    "    params.data -= lr * params.grad.data\n",
    "    params.grad = None\n",
    "    if prn: print(loss.item())\n",
    "    return preds"
   ]
  },
  {
   "cell_type": "markdown",
   "id": "102828ff-6eb7-4fee-943a-c319770c8ef7",
   "metadata": {},
   "source": [
    "Iterate 10 times:\n"
   ]
  },
  {
   "cell_type": "code",
   "execution_count": 79,
   "id": "88fa42dc-fd6d-49ba-8004-303075c5a69d",
   "metadata": {},
   "outputs": [
    {
     "name": "stdout",
     "output_type": "stream",
     "text": [
      "5435.53564453125\n",
      "1577.44921875\n",
      "847.3778076171875\n",
      "709.2225341796875\n",
      "683.0758056640625\n",
      "678.1243896484375\n",
      "677.1838989257812\n",
      "677.0023803710938\n",
      "676.9645385742188\n",
      "676.9537353515625\n"
     ]
    }
   ],
   "source": [
    "for i in range(10): apply_step(params)"
   ]
  },
  {
   "cell_type": "markdown",
   "id": "1976eca1-d968-4b47-8378-0405d038a285",
   "metadata": {},
   "source": [
    "We can see the loss decreases."
   ]
  },
  {
   "cell_type": "markdown",
   "id": "4226fd88-7ec5-41f6-9049-10f7c4c9e55c",
   "metadata": {},
   "source": [
    "We can plot this:"
   ]
  },
  {
   "cell_type": "code",
   "execution_count": 80,
   "id": "9419b13e-c612-497e-80dc-0fe6794cc3e4",
   "metadata": {},
   "outputs": [
    {
     "data": {
      "image/png": "[encoded data removed]",
      "text/plain": [
       "<Figure size 864x216 with 4 Axes>"
      ]
     },
     "metadata": {
      "needs_background": "light"
     },
     "output_type": "display_data"
    }
   ],
   "source": [
    "_, axs = plt.subplots(1, 4, figsize = (12, 3))\n",
    "for ax in axs: show_preds(apply_step(params, False), ax)\n",
    "plt.tight_layout()\n",
    "                      "
   ]
  },
  {
   "cell_type": "markdown",
   "id": "9191a93c-32ad-48a2-9e63-d753c2a52ca2",
   "metadata": {},
   "source": [
    "7) Stop  \n",
    "We stop at 10 epochs"
   ]
  },
  {
   "cell_type": "markdown",
   "id": "8171d2fd-8c68-4408-90cd-376e082d04ce",
   "metadata": {},
   "source": [
    "## MNIST Loss Function"
   ]
  },
  {
   "cell_type": "markdown",
   "id": "ec1ff99b-842d-41ea-acad-6f62a44a7f33",
   "metadata": {},
   "source": [
    "We need to apply this 7 steps to the MNIST problem."
   ]
  },
  {
   "cell_type": "markdown",
   "id": "fb2c2032-3a3b-4076-b087-23f21f377ca7",
   "metadata": {},
   "source": [
    "We need a loss function that represents how good our model is.  \n",
    "From the loss function, we can calculate our gradient."
   ]
  },
  {
   "cell_type": "markdown",
   "id": "d5412a4a-d16f-4b64-95d9-c84dc9f4de9f",
   "metadata": {},
   "source": [
    "Gradient-> measure of how the loss function changes with small tweaks to the weights.  \n",
    "Gradient/slope = y_new - y_old/ x_new - x_old."
   ]
  },
  {
   "cell_type": "markdown",
   "id": "82c58ab6-8dc6-42ca-8b1c-c2765895648e",
   "metadata": {},
   "source": [
    "We have x, the images. We'll concatenate them all into a single tensor and also change then from a list of matrices (Rank3 tensor) to a list of vectors (Rank2 tensor).  \n",
    "This can be achieved by view, a Pytorch method that changes the shape of a tensor without changing its contents."
   ]
  },
  {
   "cell_type": "code",
   "execution_count": 81,
   "id": "26a554d7-16e7-438a-af77-9ad569fd0672",
   "metadata": {},
   "outputs": [],
   "source": [
    "train_x = torch.cat([stacked_threes, stacked_sevens]).view(-1, 28*28)"
   ]
  },
  {
   "cell_type": "markdown",
   "id": "01cd3c40-244c-434c-b1be-b7b1a76b0e56",
   "metadata": {},
   "source": [
    "-1 is a special parameter to view thatmeans make the axis as big as necessary to fit all the data."
   ]
  },
  {
   "cell_type": "markdown",
   "id": "45fbd5a9-8979-469a-957d-0bce83aff61a",
   "metadata": {},
   "source": [
    "We want the number of columns to be equal to the numbet of pixels in the image 28*28.\n"
   ]
  },
  {
   "cell_type": "markdown",
   "id": "25ec5e3d-0501-4e47-91f1-d402b59a2272",
   "metadata": {},
   "source": [
    "cat -> concatenate"
   ]
  },
  {
   "cell_type": "markdown",
   "id": "a6bd9696-2998-49bb-b210-c86ad389fc50",
   "metadata": {},
   "source": [
    "Now we need labels.  \n",
    "Our labels will be 1 for each of the 3s and 0 for each of the 7s. This is basically a \"is_3\" model. This will create a vector and we need it to be matrix in PyTorch."
   ]
  },
  {
   "cell_type": "code",
   "execution_count": 82,
   "id": "7a30b23e-6feb-4970-81eb-06099505d4c8",
   "metadata": {},
   "outputs": [
    {
     "data": {
      "text/plain": [
       "(torch.Size([12396, 784]), torch.Size([12396, 1]))"
      ]
     },
     "execution_count": 82,
     "metadata": {},
     "output_type": "execute_result"
    }
   ],
   "source": [
    "train_y = tensor([1]*len(threes) + [0]*len(sevens)).unsqueeze(1)\n",
    "train_x.shape, train_y.shape"
   ]
  },
  {
   "cell_type": "markdown",
   "id": "70acadfa-75b5-481c-803b-e98198fe1a1c",
   "metadata": {},
   "source": [
    ".unsqueeze(1) will add an additional unit dimension to the position[1]. This will turn up from a vector of 12396 long to a matrix of 12396 rows and one column."
   ]
  },
  {
   "cell_type": "markdown",
   "id": "7a2f2917-5f4b-4bd8-a919-24050328b313",
   "metadata": {},
   "source": [
    "Now we turn our x and y into a Dataset.  \n",
    "Dataset -> something we can index into, using square brackets and when we do so, its expected to return a tuple of (x, y)."
   ]
  },
  {
   "cell_type": "markdown",
   "id": "59c007e8-ce5c-4519-8214-f49b1d5781ca",
   "metadata": {},
   "source": [
    "Python provides a zip function which when combined with list, provides a simple way to get this functionality."
   ]
  },
  {
   "cell_type": "code",
   "execution_count": 83,
   "id": "2c7f5bcd-875d-4093-a4e7-8e39e1e3ac5f",
   "metadata": {},
   "outputs": [
    {
     "data": {
      "text/plain": [
       "(torch.Size([784]), tensor([1]))"
      ]
     },
     "execution_count": 83,
     "metadata": {},
     "output_type": "execute_result"
    }
   ],
   "source": [
    "dset = list(zip(train_x, train_y))\n",
    "x, y = dset[0]\n",
    "x.shape, y"
   ]
  },
  {
   "cell_type": "markdown",
   "id": "adbff029-0116-4d0e-b64f-cf57a7e38d1c",
   "metadata": {},
   "source": [
    "We will turn our x and y into dataset and when we index into it, it will return a tuple containing our independent variables, x, and dependent variable, y."
   ]
  },
  {
   "cell_type": "markdown",
   "id": "7775cec2-bc55-4bf3-8605-62e9e514329f",
   "metadata": {},
   "source": [
    "The list() gives us the dataset and when we index into it, it will give us one image,x, and one label,y."
   ]
  },
  {
   "cell_type": "markdown",
   "id": "c55d0b77-c0fe-4116-9d2a-c9295391bfef",
   "metadata": {},
   "source": [
    "Our image is 784 long vector."
   ]
  },
  {
   "cell_type": "markdown",
   "id": "d2ada9e2-62ce-4303-a182-02ad933318a7",
   "metadata": {},
   "source": [
    "x,y = dset[0] is called destructuring the tuple, which means, we are taking the two parts of the tuple and putting the first part in one variable and secong part in other variable."
   ]
  },
  {
   "cell_type": "markdown",
   "id": "a6d1efa7-6855-4bca-89d6-c774aa25f529",
   "metadata": {},
   "source": [
    "Repeat the same step for the validation set:\n",
    "    "
   ]
  },
  {
   "cell_type": "code",
   "execution_count": 84,
   "id": "e8409583-7fea-4a03-8a98-fb67eaf65f34",
   "metadata": {},
   "outputs": [],
   "source": [
    "valid_x = torch.cat([valid_3_tens, valid_7_tens]).view(-1, 28*28)\n",
    "valid_y = tensor([1]*len(valid_3_tens) + [0]*len(valid_7_tens)).unsqueeze(1)\n",
    "valid_dset = list(zip(valid_x, valid_y))"
   ]
  },
  {
   "cell_type": "markdown",
   "id": "5ff7eb8a-969b-4ac7-9665-15f61fef88e4",
   "metadata": {},
   "source": [
    "Now we will start our 7 step process."
   ]
  },
  {
   "cell_type": "markdown",
   "id": "c4cde334-df21-45e3-bfb6-78db5c683ec7",
   "metadata": {},
   "source": [
    "1) Initialize our parameters"
   ]
  },
  {
   "cell_type": "code",
   "execution_count": 85,
   "id": "d0568904-a428-4f43-a6d5-f019f56911d0",
   "metadata": {},
   "outputs": [],
   "source": [
    "def init_params(size, std=1.0): return(torch.randn(size)*std).requires_grad_()"
   ]
  },
  {
   "cell_type": "code",
   "execution_count": 86,
   "id": "4b8779fe-31ef-4e57-9093-748e086c0a15",
   "metadata": {},
   "outputs": [],
   "source": [
    "weights = init_params((28*28), 1)"
   ]
  },
  {
   "cell_type": "markdown",
   "id": "b01c7de8-14bb-4a02-b40e-de825338cbf1",
   "metadata": {},
   "source": [
    "We have a function given some size and shape if you like.  \n",
    "Then we randomly initialize using normal random number distribution(randn). randn has a variance of 1 (std=1.0).  \n",
    "Then we tell PyTorch we want gradients."
   ]
  },
  {
   "cell_type": "markdown",
   "id": "6e75c867-0d3d-4cb3-beed-7ee7c573cf03",
   "metadata": {},
   "source": [
    "Our weights will be 28*28 becauseevery pixel is going to need a weight and then 1 because we are going to need to have that unit access to make it a column."
   ]
  },
  {
   "cell_type": "markdown",
   "id": "24833d2b-aea5-42e1-9291-09e28d8a79f9",
   "metadata": {},
   "source": [
    "NB: weight*pixels is not going to be enough because it will always be zero when pixels are equal to zero."
   ]
  },
  {
   "cell_type": "markdown",
   "id": "e7509182-0117-4393-996d-303494e1e838",
   "metadata": {},
   "source": [
    "Remember y= w*x + b  \n",
    "we still need b, bias, which is a single number."
   ]
  },
  {
   "cell_type": "markdown",
   "id": "2bfa42e3-25eb-4270-97cf-9a7cdf5b26e3",
   "metadata": {},
   "source": [
    "Initializing a random number:"
   ]
  },
  {
   "cell_type": "code",
   "execution_count": 87,
   "id": "310385c4-2724-4354-b33b-1be803eec67c",
   "metadata": {},
   "outputs": [],
   "source": [
    "bias = init_params(1)"
   ]
  },
  {
   "cell_type": "markdown",
   "id": "6fc39ce0-149e-407b-90c8-b9ebb07e6f97",
   "metadata": {},
   "source": [
    "Weights and bias is what makes parameters.  \n",
    "Parameters is what changes."
   ]
  },
  {
   "cell_type": "markdown",
   "id": "7e8950f0-ab64-472e-a713-30ba54665491",
   "metadata": {},
   "source": [
    "2) Calculate the predictions"
   ]
  },
  {
   "cell_type": "markdown",
   "id": "e3fd8db6-d4f8-4f8e-aa9c-8819ce2c6860",
   "metadata": {},
   "source": [
    "For one image:"
   ]
  },
  {
   "cell_type": "code",
   "execution_count": 88,
   "id": "078379c0-a44c-41cb-bfa3-1a471aa9250c",
   "metadata": {},
   "outputs": [
    {
     "name": "stderr",
     "output_type": "stream",
     "text": [
      "/tmp/ipykernel_454/4052062786.py:1: UserWarning: The use of `x.T` on tensors of dimension other than 2 to reverse their shape is deprecated and it will throw an error in a future release. Consider `x.mT` to transpose batches of matricesor `x.permute(*torch.arange(x.ndim - 1, -1, -1))` to reverse the dimensions of a tensor. (Triggered internally at  ../aten/src/ATen/native/TensorShape.cpp:2981.)\n",
      "  (train_x[0] * weights.T).sum() + bias\n"
     ]
    },
    {
     "data": {
      "text/plain": [
       "tensor([20.2336], grad_fn=<AddBackward0>)"
      ]
     },
     "execution_count": 88,
     "metadata": {},
     "output_type": "execute_result"
    }
   ],
   "source": [
    "(train_x[0] * weights.T).sum() + bias"
   ]
  },
  {
   "cell_type": "markdown",
   "id": "bea1decb-d39f-4d0f-933b-b013a7bf4fb8",
   "metadata": {},
   "source": [
    "Here, we take the 1 image and multiply by the wights only to transpose them to make them line up in terms of rowns and columns and add it up and then add the bias. This is the prediction."
   ]
  },
  {
   "cell_type": "markdown",
   "id": "7f8cb2f7-b75c-4eda-a4c6-9ea20e19a312",
   "metadata": {},
   "source": [
    "We want to do that for every image.  \n",
    "We could us a for loop but it will be every slow and Python loops don't run on GPUs."
   ]
  },
  {
   "cell_type": "markdown",
   "id": "c33937b9-4a7b-4baf-b297-24b031fec3b9",
   "metadata": {},
   "source": [
    "For this reason, a matrix multiplication is the best as it calculates w*x for every row of a matrix.  \n",
    "In Python, matrix multiplication is represented by the @ operator."
   ]
  },
  {
   "cell_type": "code",
   "execution_count": 89,
   "id": "8630cdcd-8849-4305-b83e-a163420de41c",
   "metadata": {},
   "outputs": [
    {
     "data": {
      "text/plain": [
       "tensor([20.2336, 17.0644, 15.2384,  ..., 18.3804, 23.8567, 28.6816], grad_fn=<AddBackward0>)"
      ]
     },
     "execution_count": 89,
     "metadata": {},
     "output_type": "execute_result"
    }
   ],
   "source": [
    "def linear1(xb): return xb@weights + bias\n",
    "preds = linear1(train_x)\n",
    "preds"
   ]
  },
  {
   "cell_type": "markdown",
   "id": "c629d1c2-6c7e-4c85-9b9c-7215d059d9eb",
   "metadata": {},
   "source": [
    "First element is same as what we had calculated."
   ]
  },
  {
   "cell_type": "markdown",
   "id": "5c7aa641-fe27-47da-8a61-292dc1a0504b",
   "metadata": {},
   "source": [
    "This equation, batch@weights + bias, is one of the two fundamental equations of any neural network (the other one is the activation function)"
   ]
  },
  {
   "cell_type": "markdown",
   "id": "730c6a4c-2099-49b5-95b0-6b77806739dc",
   "metadata": {},
   "source": [
    "3) Check our accuracy"
   ]
  },
  {
   "cell_type": "markdown",
   "id": "af85319a-b10c-408e-9c98-0ce9883d1e18",
   "metadata": {},
   "source": [
    "We can decide that anything greater than 0 we will call it a 3, and anything less than a 0 we call it a 7."
   ]
  },
  {
   "cell_type": "markdown",
   "id": "11e55908-483c-4a96-899d-e1cc401e1a58",
   "metadata": {},
   "source": [
    "So preds greater than 0.0 tells us whether or not something is predicted to be 3 or not. Then, we turn it to a float(1 or 0) because that's what our training set contains.  \n",
    "Then we check whether out thresholded predictions are equal to our training set.  \n",
    "This will return true when predicted correctly and false otherwise."
   ]
  },
  {
   "cell_type": "code",
   "execution_count": 90,
   "id": "2bc144b6-2874-4e27-bd0e-9aa803a74084",
   "metadata": {},
   "outputs": [
    {
     "data": {
      "text/plain": [
       "tensor([[ True,  True,  True,  ...,  True,  True,  True],\n",
       "        [ True,  True,  True,  ...,  True,  True,  True],\n",
       "        [ True,  True,  True,  ...,  True,  True,  True],\n",
       "        ...,\n",
       "        [False, False, False,  ..., False, False, False],\n",
       "        [False, False, False,  ..., False, False, False],\n",
       "        [False, False, False,  ..., False, False, False]])"
      ]
     },
     "execution_count": 90,
     "metadata": {},
     "output_type": "execute_result"
    }
   ],
   "source": [
    "corrects = (preds>0.0).float() == train_y\n",
    "corrects"
   ]
  },
  {
   "cell_type": "markdown",
   "id": "b808c31e-efca-4d1a-9f30-c46cca9305ad",
   "metadata": {},
   "source": [
    "So if we take the trues and falses and turn them into floats(1s and 0s) and find the mean, its 0.49(almost half with random numbers."
   ]
  },
  {
   "cell_type": "code",
   "execution_count": 91,
   "id": "9420335a-7274-491c-b81c-23b37daec594",
   "metadata": {},
   "outputs": [
    {
     "data": {
      "text/plain": [
       "0.49464207887649536"
      ]
     },
     "execution_count": 91,
     "metadata": {},
     "output_type": "execute_result"
    }
   ],
   "source": [
    "corrects.float().mean().item()"
   ]
  },
  {
   "cell_type": "markdown",
   "id": "23882849-58d4-4973-8c32-106a0c82b9e8",
   "metadata": {},
   "source": [
    ".item() -> without it, the mean would be a tensor.  \n",
    "It is a rank 0 tensor, has no rows and columns."
   ]
  },
  {
   "cell_type": "markdown",
   "id": "9e37a399-4b98-4e83-b411-7c3cabf67d6c",
   "metadata": {},
   "source": [
    "This will help us calculate the derivative of our accuracy(by changing the parameters)."
   ]
  },
  {
   "cell_type": "markdown",
   "id": "1eea99bb-6cc1-465a-9e6a-4650b86443e2",
   "metadata": {
    "tags": []
   },
   "source": [
    "4) Change the derivatives"
   ]
  },
  {
   "cell_type": "markdown",
   "id": "5f7a8152-b63a-4264-a2ad-ed4e321432ce",
   "metadata": {},
   "source": [
    "Let's change the weight by small bits:"
   ]
  },
  {
   "cell_type": "code",
   "execution_count": 92,
   "id": "7a34e71e-349e-4bac-9b28-e8bf6db85d5d",
   "metadata": {},
   "outputs": [],
   "source": [
    "with torch.no_grad(): weights[0] *= 1.0001"
   ]
  },
  {
   "cell_type": "markdown",
   "id": "a474c0df-c97a-4fea-a111-6515e0d358e9",
   "metadata": {},
   "source": [
    "This will make it a bit bigger."
   ]
  },
  {
   "cell_type": "markdown",
   "id": "57c25336-5ad1-49b8-b083-a3175b053898",
   "metadata": {},
   "source": [
    "with torch.no_grad() -> tells PyTorch not to calculate the gradient."
   ]
  },
  {
   "cell_type": "code",
   "execution_count": 93,
   "id": "bea1253a-eb22-46da-a3b4-6449d4bc21a8",
   "metadata": {},
   "outputs": [
    {
     "data": {
      "text/plain": [
       "0.49464207887649536"
      ]
     },
     "execution_count": 93,
     "metadata": {},
     "output_type": "execute_result"
    }
   ],
   "source": [
    "preds = linear1(train_x)\n",
    "((preds>0.0).float() == train_y).float().mean().item()"
   ]
  },
  {
   "cell_type": "markdown",
   "id": "a749b75f-d12a-4def-b57b-4e6cbef7fb41",
   "metadata": {},
   "source": [
    "Now we can calculate the predictions based on that. "
   ]
  },
  {
   "cell_type": "markdown",
   "id": "9bf647d5-7674-487d-8c01-9aac6cf3a654",
   "metadata": {},
   "source": [
    "As you can see, we get the same number.  \n",
    "Remember gradient = y_new - y_old/ x_new - x_old  \n",
    "y_new is what we have now and y_old is what we got(preds = 0.49), the subtraction is 0, and when we divide it by 1.0001(change, x) we get 0.  \n",
    "This means that the gradient is 0.\n",
    "This means our step/change is 0 and our prediction will be unchanges like we have seen.  \n",
    "The reason our gradient is 0 is because when we change a single pixel by a tiny bit, we might not even in any way change an actual prediction to change from a 3 predicting a 3 to a 7 or vice versa because we have the threshold ((preds>0.0).float() == train_y). This means our accuracy loss function here is very bumpy."
   ]
  },
  {
   "cell_type": "markdown",
   "id": "a45d6e4b-b327-4d5c-bb8a-891db8c1f24f",
   "metadata": {},
   "source": [
    "Therefore, we need to use another thing other than accuracy as our loss function."
   ]
  },
  {
   "cell_type": "markdown",
   "id": "6754ce3e-8a17-43a4-a519-609e2c10c191",
   "metadata": {},
   "source": [
    "Let's create a new function which will give us a lower loss when the accuracy is better, but it won't have a zero gradient.  \n",
    "It means a slightly better prediction needs to have a slightly better loss.  \n",
    "The purpose of this loss function is to measure the difference between the predicted values and true values(target)."
   ]
  },
  {
   "cell_type": "markdown",
   "id": "a7f61613-c6f9-4ba2-9f1a-46e26676d5d3",
   "metadata": {},
   "source": [
    "Let's make another argument targets, a vector(Rank1) index over the images, with a value of 0 and 1, which tells whether the image is a 3."
   ]
  },
  {
   "cell_type": "markdown",
   "id": "22882ba0-18af-4ad0-8901-9fe5c4602868",
   "metadata": {},
   "source": [
    "Suppose we had three images which we knew were a 3, a 7, and a 3. And suppose our model predicted with high confidence (0.9) that the first was a 3, with slight confidence (0.4) that the second was a 7, and with fair confidence (0.2), but incorrectly, that the last was a 7. This would mean our loss function would receive these values as its inputs:"
   ]
  },
  {
   "cell_type": "code",
   "execution_count": 94,
   "id": "a9e9fe97-27f2-4be0-a547-db00745bcd64",
   "metadata": {},
   "outputs": [],
   "source": [
    "trgts  = tensor([1,0,1])\n",
    "prds   = tensor([0.9, 0.4, 0.2])"
   ]
  },
  {
   "cell_type": "markdown",
   "id": "9fdd5bad-b4a5-4975-8c35-5488d1120ccb",
   "metadata": {},
   "source": [
    "Let's try find a loss function that measures the distance between predictions and targets:"
   ]
  },
  {
   "cell_type": "code",
   "execution_count": 95,
   "id": "3f88c0e1-bbcf-465a-a309-823789c4883e",
   "metadata": {},
   "outputs": [],
   "source": [
    "def mnist_loss(predictions, targets):\n",
    "    return torch.where(targets==1, 1-predictions, predictions).mean()"
   ]
  },
  {
   "cell_type": "markdown",
   "id": "82192ab9-f989-4735-96f1-25c358ee56cb",
   "metadata": {},
   "source": [
    "We're using a new function, torch.where(a,b,c). This is the same as running the list comprehension [b[i] if a[i] else c[i] for i in range(len(a))], except it works on tensors, at C/CUDA speed. In plain English, this function will measure how distant each prediction is from 1 if it should be 1, and how distant it is from 0 if it should be 0, and then it will take the mean of all those distances."
   ]
  },
  {
   "cell_type": "code",
   "execution_count": 96,
   "id": "ecea77f4-b47d-4c74-a6aa-d5eda28fb688",
   "metadata": {},
   "outputs": [
    {
     "data": {
      "text/plain": [
       "tensor([0.1000, 0.4000, 0.8000])"
      ]
     },
     "execution_count": 96,
     "metadata": {},
     "output_type": "execute_result"
    }
   ],
   "source": [
    "torch.where(trgts==1, 1-prds, prds)"
   ]
  },
  {
   "cell_type": "markdown",
   "id": "332b56ec-a8e5-4369-a4e4-67e797eae652",
   "metadata": {},
   "source": [
    "torch.where(targets==1, 1-prds, prds) -> means where target=1, return 1-prediction, and where target is not 1, return predictions."
   ]
  },
  {
   "cell_type": "markdown",
   "id": "53258ca5-c41d-49d3-a3ab-ef41732ac718",
   "metadata": {},
   "source": [
    "In the example, first will be 1-0.9=0.1 as the target is 1, next will be 0.4 as the target is 0 and the third will be 1-o.2=0.8 as the target is 1."
   ]
  },
  {
   "cell_type": "markdown",
   "id": "7dcb4ce9-5a8c-4d6d-a632-7f8227d90631",
   "metadata": {},
   "source": [
    "As you can see, when the target is correct, the numbers are small(means that the loss is better)."
   ]
  },
  {
   "cell_type": "markdown",
   "id": "4721ee0d-76a2-4a98-a336-3d2dbdd78d59",
   "metadata": {},
   "source": [
    "Now we work on the mean:"
   ]
  },
  {
   "cell_type": "code",
   "execution_count": 97,
   "id": "e8028a6a-d488-4a01-bf56-72d857d42f1b",
   "metadata": {},
   "outputs": [
    {
     "data": {
      "text/plain": [
       "tensor(0.4333)"
      ]
     },
     "execution_count": 97,
     "metadata": {},
     "output_type": "execute_result"
    }
   ],
   "source": [
    "mnist_loss(prds, trgts)"
   ]
  },
  {
   "cell_type": "markdown",
   "id": "3ef37355-67bf-469e-a24f-9920e940f284",
   "metadata": {},
   "source": [
    "Let say we change our prediction for the one \"false\" target from 0.2 to 0.8 the loss will go down, indicating that this is a better prediction, the loss will get better to 0.23:"
   ]
  },
  {
   "cell_type": "code",
   "execution_count": 98,
   "id": "879805ad-2eda-4c91-ac5e-565d86e65956",
   "metadata": {},
   "outputs": [
    {
     "data": {
      "text/plain": [
       "tensor(0.2333)"
      ]
     },
     "execution_count": 98,
     "metadata": {},
     "output_type": "execute_result"
    }
   ],
   "source": [
    "mnist_loss(tensor([0.9, 0.4, 0.8]),trgts)"
   ]
  },
  {
   "cell_type": "markdown",
   "id": "c54901e1-2a74-40b3-ba26-26a211f47e75",
   "metadata": {},
   "source": [
    "Problem: This will only work if predictions are between 0 and 1 so we need to ensure this is the case in the mnist problem."
   ]
  },
  {
   "cell_type": "markdown",
   "id": "5625941f-b226-425e-960a-524df2ef61bb",
   "metadata": {},
   "source": [
    "We need a function that can take the big numbers from our predictions and turn them to numbers between 0 and 1.  \n",
    "This can be achieved with a sigmoid function."
   ]
  },
  {
   "cell_type": "markdown",
   "id": "cd01bf69-948e-45b1-b5ab-56daeb7e4f35",
   "metadata": {},
   "source": [
    "### Sigmoid Function"
   ]
  },
  {
   "cell_type": "markdown",
   "id": "621b8396-dd19-4262-b09a-ae42bd720f1f",
   "metadata": {},
   "source": [
    "Sigmoid function works like this: if you pass a small number, e.g -4, you get a number close to 0, and if you pass a big number you get a number close to 1 but never past 1.\n",
    "In the middle, the curve looks like a y=x line."
   ]
  },
  {
   "cell_type": "markdown",
   "id": "85507fa1-693d-454c-ae2d-7646ea293ff6",
   "metadata": {},
   "source": [
    "Sigmoid can be defined by:"
   ]
  },
  {
   "cell_type": "code",
   "execution_count": 99,
   "id": "26a6b90f-a105-4354-902d-59cdcfe6fbda",
   "metadata": {},
   "outputs": [],
   "source": [
    "def sigmoid(x): return 1/(1 + torch.exp(-x))"
   ]
  },
  {
   "cell_type": "markdown",
   "id": "4225352c-1ff8-4482-9536-9863cb99d4ce",
   "metadata": {},
   "source": [
    "returns 1/1 + e to minus x.\n",
    "exp is just e to power something."
   ]
  },
  {
   "cell_type": "code",
   "execution_count": 100,
   "id": "873374fd-7ba4-47ce-913a-c74686040f4f",
   "metadata": {},
   "outputs": [
    {
     "data": {
      "text/plain": [
       "2.718281828459045"
      ]
     },
     "execution_count": 100,
     "metadata": {},
     "output_type": "execute_result"
    }
   ],
   "source": [
    "math.e"
   ]
  },
  {
   "cell_type": "markdown",
   "id": "ece13101-d784-4c23-b7a2-421c1bcc8911",
   "metadata": {},
   "source": [
    "this shows the value of e"
   ]
  },
  {
   "cell_type": "code",
   "execution_count": 101,
   "id": "5221242d-a9f9-4eb1-98af-918b0901573a",
   "metadata": {},
   "outputs": [
    {
     "data": {
      "text/plain": [
       "7.3890560989306495"
      ]
     },
     "execution_count": 101,
     "metadata": {},
     "output_type": "execute_result"
    }
   ],
   "source": [
    "math.e**2\n",
    "#squares the value of e"
   ]
  },
  {
   "cell_type": "code",
   "execution_count": 102,
   "id": "12fa7e91-4c16-424c-ad9d-4d78d185793e",
   "metadata": {},
   "outputs": [
    {
     "data": {
      "text/plain": [
       "tensor(7.3891)"
      ]
     },
     "execution_count": 102,
     "metadata": {},
     "output_type": "execute_result"
    }
   ],
   "source": [
    "torch.exp(tensor(2.))\n",
    "#gives same result as above"
   ]
  },
  {
   "cell_type": "markdown",
   "id": "83776767-4dac-4800-92b7-9e40cb3ce4b9",
   "metadata": {},
   "source": [
    "Let's update mnist_loss to apply sigmoid to its input:"
   ]
  },
  {
   "cell_type": "code",
   "execution_count": 103,
   "id": "263c97ba-0572-49db-9a5c-217e0b0a9da6",
   "metadata": {},
   "outputs": [],
   "source": [
    "def mnist_loss(predictions, targets):\n",
    "    predictions = predictions.sigmoid()\n",
    "    return torch.where(targets==1, 1-predictions, predictions).mean()"
   ]
  },
  {
   "cell_type": "markdown",
   "id": "5eb95b48-3de4-418b-9a41-3cefe1ac6fc6",
   "metadata": {},
   "source": [
    "Now we have a metric(accuracy) and a loss.  \n",
    "Metric -> the thing we care about.  \n",
    "Loss -> the thing similar to what we care about but has a nicely behaved gradient."
   ]
  },
  {
   "cell_type": "markdown",
   "id": "480e6426-76ba-4fb5-bd50-3d595efc51b6",
   "metadata": {},
   "source": [
    "The key difference is that the metric is to drive human understanding and the loss is to drive automated learning. To drive automated learning, the loss must be a function that has a meaningful derivative. It can't have big flat sections and large jumps, but instead must be reasonably smooth. This is why we designed a loss function that would respond to small changes in confidence level. This requirement means that sometimes it does not really reflect exactly what we are trying to achieve, but is rather a compromise between our real goal and a function that can be optimized using its gradient. The loss function is calculated for each item in our dataset, and then at the end of an epoch the loss values are all averaged and the overall mean is reported for the epoch.\n",
    "\n",
    "Metrics, on the other hand, are the numbers that we really care about. These are the values that are printed at the end of each epoch that tell us how our model is really doing. It is important that we learn to focus on these metrics, rather than the loss, when judging the performance of a model."
   ]
  },
  {
   "cell_type": "markdown",
   "id": "bdeb3b43-5469-4a4e-be2d-6ecf122d3e8d",
   "metadata": {},
   "source": [
    "### SDG and mini batches"
   ]
  },
  {
   "cell_type": "markdown",
   "id": "9ea54fe7-ee4f-49d7-bc56-4acaaf534b7d",
   "metadata": {},
   "source": [
    "We need to use this to update the batches. We can do this by:  \n",
    "- Looping through every image  \n",
    "- calculate a prediction for that image  \n",
    "- calculate a loss then  \n",
    "- step the parameters  \n",
    "- do that for other images  \n",
    "This is very slow because we are doing a single step for a single image."
   ]
  },
  {
   "cell_type": "markdown",
   "id": "41acb649-d4bb-4dee-baf6-f5606594a66a",
   "metadata": {},
   "source": [
    "We can go faster by doing a big matrix multiplication on GPU, then we can do a step based on the gradien looking at the entire dataset. But this is a lot of work updating the weights for many images.  \n",
    "So we can go a few data itema at a timme to calculate our loss and our step."
   ]
  },
  {
   "cell_type": "markdown",
   "id": "c5109338-bcd8-46f3-970c-a50a9362c2d0",
   "metadata": {},
   "source": [
    "The few data items are called minibatch.  \n",
    "The number of items in a minibatch is the batch size."
   ]
  },
  {
   "cell_type": "markdown",
   "id": "939df35a-f596-4478-b012-5985dbb9fdb3",
   "metadata": {},
   "source": [
    "The larger the batch size means more accurate and stable estimates of your dataset's gradient on the loss function, but it will take longer."
   ]
  },
  {
   "cell_type": "markdown",
   "id": "d2fc251a-94db-4cb1-a619-df930673da6f",
   "metadata": {},
   "source": [
    "We will use a DataLoader to shuffle and minibatch collation. A DataLoader can take any Python collection and turn it into an iterator over mini-batches, like so:"
   ]
  },
  {
   "cell_type": "code",
   "execution_count": 104,
   "id": "a7fdd6dc-4dbe-4099-8dc7-abdcc908cfab",
   "metadata": {},
   "outputs": [
    {
     "data": {
      "text/plain": [
       "[tensor([ 3, 12,  8, 10,  2]),\n",
       " tensor([ 9,  4,  7, 14,  5]),\n",
       " tensor([ 1, 13,  0,  6, 11])]"
      ]
     },
     "execution_count": 104,
     "metadata": {},
     "output_type": "execute_result"
    }
   ],
   "source": [
    "coll = range(15)\n",
    "dl = DataLoader(coll, batch_size=5, shuffle=True)\n",
    "list(dl)\n",
    "     "
   ]
  },
  {
   "cell_type": "markdown",
   "id": "a983dedc-59c6-496b-b423-77eca0a7f2de",
   "metadata": {},
   "source": [
    "coll = range(15) -> creates a collection that contains all numbers from 1 to 14  \n",
    "dl = DataLoader(coll, batch_size=5, shuffle=True) -> passes coll to DataLoader with a batch size of 5.    \n",
    "\n",
    "DataLoader can take any Python collection and turn it into an iterator over many batches. We see it in list(dl).  \n",
    "shuffle = True -> causes randomization"
   ]
  },
  {
   "cell_type": "markdown",
   "id": "2b741db2-72b7-4b6a-ad2c-f80d9e3d07c4",
   "metadata": {},
   "source": [
    "Remember, datasets return tuples and in the previous code we just have ints. So let's create tuples.  \n",
    "If we enumerate all letters of English, then we get:"
   ]
  },
  {
   "cell_type": "code",
   "execution_count": 105,
   "id": "0e9aac50-0564-4da0-92bb-e4053c1253eb",
   "metadata": {},
   "outputs": [
    {
     "data": {
      "text/plain": [
       "(#26) [(0, 'a'),(1, 'b'),(2, 'c'),(3, 'd'),(4, 'e'),(5, 'f'),(6, 'g'),(7, 'h'),(8, 'i'),(9, 'j')...]"
      ]
     },
     "execution_count": 105,
     "metadata": {},
     "output_type": "execute_result"
    }
   ],
   "source": [
    "ds = L(enumerate(string.ascii_lowercase))\n",
    "ds"
   ]
  },
  {
   "cell_type": "markdown",
   "id": "23edf8b5-6db4-43b1-ad3a-3817ae434657",
   "metadata": {},
   "source": [
    "So if we pass this to our DataLoader with a batch size of 6, it returns tuples containing 6 of the first things and the associate 6 of the second."
   ]
  },
  {
   "cell_type": "code",
   "execution_count": 106,
   "id": "ce43e77c-bc41-4d76-8b58-5bf340b2da46",
   "metadata": {},
   "outputs": [
    {
     "data": {
      "text/plain": [
       "[(tensor([17, 18, 10, 22,  8, 14]), ('r', 's', 'k', 'w', 'i', 'o')),\n",
       " (tensor([20, 15,  9, 13, 21, 12]), ('u', 'p', 'j', 'n', 'v', 'm')),\n",
       " (tensor([ 7, 25,  6,  5, 11, 23]), ('h', 'z', 'g', 'f', 'l', 'x')),\n",
       " (tensor([ 1,  3,  0, 24, 19, 16]), ('b', 'd', 'a', 'y', 't', 'q')),\n",
       " (tensor([2, 4]), ('c', 'e'))]"
      ]
     },
     "execution_count": 106,
     "metadata": {},
     "output_type": "execute_result"
    }
   ],
   "source": [
    "dl = DataLoader(ds, batch_size=6, shuffle=True)\n",
    "list(dl)"
   ]
  },
  {
   "cell_type": "markdown",
   "id": "f0d322f4-1075-43e9-b69f-d84fdc38f832",
   "metadata": {},
   "source": [
    "[17, 18, 10, 22,  8, 14] is like our independent variable, ([17, 18, 10, 22,  8, 14]) is like our dependent variable."
   ]
  },
  {
   "cell_type": "markdown",
   "id": "dfa6a476-ed5e-4f74-b6f8-ac7525c90551",
   "metadata": {},
   "source": [
    "### Putting it all together"
   ]
  },
  {
   "cell_type": "markdown",
   "id": "fb696cb9-4f5d-4439-9163-3ce5e4c11d4f",
   "metadata": {},
   "source": [
    "It's time to implement the process we saw in <>. In code, our process will be implemented something like this for each epoch:"
   ]
  },
  {
   "cell_type": "markdown",
   "id": "64438026-afbf-468c-8030-f4d2565e54a6",
   "metadata": {},
   "source": [
    "for x, y in dl:  \n",
    "    pred = model(x)  \n",
    "    loss = loss_func(pred, y)  \n",
    "    loss.backward()  \n",
    "    parameters -= parameters.grad*lr  "
   ]
  },
  {
   "cell_type": "markdown",
   "id": "cf18973e-7d72-4405-879b-73d072329fcc",
   "metadata": {},
   "source": [
    "for x, y in dl: -> means for in dataloader return tuple  \n",
    "\n",
    "x, y destructures dataloader into first and second bit (x, y) then calculates predictions. From predictions and targets, we can calculate our loss. The .backward() will then calculate our gradients. Then we update the parameters."
   ]
  },
  {
   "cell_type": "markdown",
   "id": "f95c0db7-d96f-4792-97bc-b96dffd1de86",
   "metadata": {},
   "source": [
    "First, we initialize our parameters:"
   ]
  },
  {
   "cell_type": "code",
   "execution_count": 107,
   "id": "074e89c8-8e4b-4e90-9f24-985d2cc9b712",
   "metadata": {},
   "outputs": [],
   "source": [
    "weights = init_params((28*28, 1))\n",
    "bias = init_params(1)"
   ]
  },
  {
   "cell_type": "markdown",
   "id": "425538cb-fd87-424c-8a44-6f6ac5dcca83",
   "metadata": {},
   "source": [
    "A DataLoader can be created from a Dataset:"
   ]
  },
  {
   "cell_type": "code",
   "execution_count": 108,
   "id": "5385329c-711c-49e3-8be2-e87a3269bce1",
   "metadata": {},
   "outputs": [
    {
     "data": {
      "text/plain": [
       "(torch.Size([256, 784]), torch.Size([256, 1]))"
      ]
     },
     "execution_count": 108,
     "metadata": {},
     "output_type": "execute_result"
    }
   ],
   "source": [
    "dl = DataLoader(dset, batch_size=256)\n",
    "xb, yb = first(dl)\n",
    "xb.shape, yb.shape"
   ]
  },
  {
   "cell_type": "markdown",
   "id": "de74d023-13e3-4f3f-89aa-32a4ff7245b1",
   "metadata": {},
   "source": [
    "first() -> fastai function that grabs the first thing from an iterator"
   ]
  },
  {
   "cell_type": "markdown",
   "id": "d7214328-b3c9-4b83-87e7-ec6288cbc315",
   "metadata": {},
   "source": [
    "Then we display the shape of the first item"
   ]
  },
  {
   "cell_type": "markdown",
   "id": "ff95d8e3-dfc0-440c-b140-b274e6d71937",
   "metadata": {},
   "source": [
    "xb -> is 256 rows of the 784 long(28*28)  \n",
    "yb -> 256 labels that are 1(Remember the 0 label for 7s and 1 label for 3s)"
   ]
  },
  {
   "cell_type": "markdown",
   "id": "e5c09077-4c50-484a-aabc-ec9791f17be3",
   "metadata": {},
   "source": [
    "We'll do the same for the validation set:"
   ]
  },
  {
   "cell_type": "code",
   "execution_count": 109,
   "id": "b6eb3258-58b7-4180-8407-bf571a820671",
   "metadata": {},
   "outputs": [],
   "source": [
    "valid_dl = DataLoader(valid_dset, batch_size=256)"
   ]
  },
  {
   "cell_type": "markdown",
   "id": "30f4a413-a4c9-466b-8fd1-a172e1a6d003",
   "metadata": {},
   "source": [
    "Let's create a mini-batch of size 4 for testing:"
   ]
  },
  {
   "cell_type": "code",
   "execution_count": 110,
   "id": "592defe8-ebd9-47e6-adf8-cf18313598b6",
   "metadata": {},
   "outputs": [
    {
     "data": {
      "text/plain": [
       "torch.Size([4, 784])"
      ]
     },
     "execution_count": 110,
     "metadata": {},
     "output_type": "execute_result"
    }
   ],
   "source": [
    "batch = train_x[:4]\n",
    "batch.shape"
   ]
  },
  {
   "cell_type": "markdown",
   "id": "120c13b5-137c-4475-9b24-446ec32e4a36",
   "metadata": {},
   "source": [
    "This manually grabs the first 4 things for testing."
   ]
  },
  {
   "cell_type": "markdown",
   "id": "6c3c73c8-290d-4296-8999-b07835dfdbe5",
   "metadata": {},
   "source": [
    "We pass the batch into a linear function that we created earlier:"
   ]
  },
  {
   "cell_type": "code",
   "execution_count": 111,
   "id": "110eb755-c3ff-4822-a82a-db0dedac0283",
   "metadata": {},
   "outputs": [
    {
     "data": {
      "text/plain": [
       "tensor([[-2.1876],\n",
       "        [-8.3973],\n",
       "        [ 2.5000],\n",
       "        [-4.9473]], grad_fn=<AddBackward0>)"
      ]
     },
     "execution_count": 111,
     "metadata": {},
     "output_type": "execute_result"
    }
   ],
   "source": [
    "preds=linear1(batch)\n",
    "preds"
   ]
  },
  {
   "cell_type": "markdown",
   "id": "2e48966f-7a80-4d84-a40d-b58fb9abfc91",
   "metadata": {},
   "source": [
    "This will give the prediction of these 4 images."
   ]
  },
  {
   "cell_type": "markdown",
   "id": "bfd1cdfb-79de-4751-a9c2-7a6f9e997197",
   "metadata": {},
   "source": [
    "We can calculate the loss using the loss function we just used and let's grab the first 4 items of the training set:"
   ]
  },
  {
   "cell_type": "code",
   "execution_count": 112,
   "id": "1e8e88ef-e014-451b-81da-6c828bb02a7c",
   "metadata": {},
   "outputs": [
    {
     "data": {
      "text/plain": [
       "tensor(0.7419, grad_fn=<MeanBackward0>)"
      ]
     },
     "execution_count": 112,
     "metadata": {},
     "output_type": "execute_result"
    }
   ],
   "source": [
    "loss = mnist_loss(preds, train_y[:4])\n",
    "loss"
   ]
  },
  {
   "cell_type": "markdown",
   "id": "93ce23c2-fd45-41ba-afb0-d04525f96ae8",
   "metadata": {},
   "source": [
    "Now we can calculate the gradient:"
   ]
  },
  {
   "cell_type": "code",
   "execution_count": 113,
   "id": "31bf647e-101c-48d1-a8de-837bdbaf8afe",
   "metadata": {},
   "outputs": [
    {
     "data": {
      "text/plain": [
       "(torch.Size([784, 1]), tensor(-0.0061), tensor([-0.0420]))"
      ]
     },
     "execution_count": 113,
     "metadata": {},
     "output_type": "execute_result"
    }
   ],
   "source": [
    "loss.backward()\n",
    "weights.grad.shape, weights.grad.mean(), bias.grad"
   ]
  },
  {
   "cell_type": "markdown",
   "id": "036052d7-40da-4217-8056-5734bdf4c283",
   "metadata": {},
   "source": [
    "torch.Size([784, 1] -> 784*1 is a column where the weights as a grad. It's what the change in loss for a small change in parameter.  \n",
    "bias.grad (-0.0008) is a sinle number because its a single number."
   ]
  },
  {
   "cell_type": "markdown",
   "id": "0067ba20-f61b-47e6-ad75-7db079f12b70",
   "metadata": {},
   "source": [
    "Put these step in a function:"
   ]
  },
  {
   "cell_type": "code",
   "execution_count": 114,
   "id": "729dddf6-0567-411a-b936-00313e045aea",
   "metadata": {},
   "outputs": [],
   "source": [
    "def calc_grad(xb, yb, model):     #pass the x batch, y batch and model  \n",
    "    preds = model(xb)             #calculate predictions  \n",
    "    loss = mnist_loss(preds, yb)  #calculate loss  \n",
    "    loss.backward()               #do backward step"
   ]
  },
  {
   "cell_type": "markdown",
   "id": "ff04785f-9380-4afe-a5ab-4a972ac50538",
   "metadata": {},
   "source": [
    "Test it:"
   ]
  },
  {
   "cell_type": "code",
   "execution_count": 115,
   "id": "bd098cc7-039b-4241-9a13-8131074c10a1",
   "metadata": {},
   "outputs": [
    {
     "data": {
      "text/plain": [
       "(tensor(-0.0121), tensor([-0.0840]))"
      ]
     },
     "execution_count": 115,
     "metadata": {},
     "output_type": "execute_result"
    }
   ],
   "source": [
    "calc_grad(batch, train_y[:4], linear1)   #calculate gradient  \n",
    "weights.grad.mean(), bias.grad"
   ]
  },
  {
   "cell_type": "markdown",
   "id": "89e9e61b-1f8c-4086-872a-7a204557775a",
   "metadata": {},
   "source": [
    "weights.grad.mean() -> mean of weights  \n",
    "bias.grad -> bias gradient"
   ]
  },
  {
   "cell_type": "markdown",
   "id": "28d49778-e780-4422-ab66-27c989bd6a80",
   "metadata": {},
   "source": [
    "Call it a second time:"
   ]
  },
  {
   "cell_type": "code",
   "execution_count": 116,
   "id": "0300f573-21c8-4c2e-8e4e-78c2732069ea",
   "metadata": {},
   "outputs": [
    {
     "data": {
      "text/plain": [
       "(tensor(-0.0182), tensor([-0.1260]))"
      ]
     },
     "execution_count": 116,
     "metadata": {},
     "output_type": "execute_result"
    }
   ],
   "source": [
    "calc_grad(batch, train_y[:4], linear1) \n",
    "weights.grad.mean(), bias.grad"
   ]
  },
  {
   "cell_type": "markdown",
   "id": "d5b1b806-f50b-43f1-86b0-590aec622b71",
   "metadata": {},
   "source": [
    "Here, we get a different value because loss.backward() calculates the gradient and adds them to the existing gradients (In the .grad attribute).  \n",
    "What we need to do is call grad.zero_().  \n",
    ".zero returns a tensor containing zeros and _ updates the weights.grad which is a tensor containing zeros.  \n",
    "If we do that and call it again, we get the same number."
   ]
  },
  {
   "cell_type": "code",
   "execution_count": 117,
   "id": "aff4a70b-1edf-473e-b23a-c8f597f62fe5",
   "metadata": {},
   "outputs": [
    {
     "data": {
      "text/plain": [
       "tensor([0.])"
      ]
     },
     "execution_count": 117,
     "metadata": {},
     "output_type": "execute_result"
    }
   ],
   "source": [
    "weights.grad.zero_()\n",
    "bias.grad.zero_()"
   ]
  },
  {
   "cell_type": "markdown",
   "id": "d471aa5b-d931-4525-b24a-f8698aab68bb",
   "metadata": {},
   "source": [
    "Now we train one epoch with SGD:"
   ]
  },
  {
   "cell_type": "code",
   "execution_count": 118,
   "id": "0ef53a26-cf8d-482c-9421-469251c291e5",
   "metadata": {},
   "outputs": [],
   "source": [
    "def train_epoch(model, lr, params):\n",
    "    for xb, yb in dl:\n",
    "        calc_grad(xb, yb, model)\n",
    "        for p in params:\n",
    "            p.data -= p.grad*lr\n",
    "            p.grad.zero_()"
   ]
  },
  {
   "cell_type": "markdown",
   "id": "d5e13abb-9291-433d-ae13-d22998deac97",
   "metadata": {},
   "source": [
    "First, we loop through the DataLoader, grabbing the x batch and the y batch to calculate the gradient.  \n",
    "Then we go through each of the parameter(the 784 weights and 1 bias) and for each of those update the parameters to go minus equal gradient times the learning rate.  \n",
    "This is our Gradient Descent Step.  \n",
    "Then we zero it out for the next time around the loop."
   ]
  },
  {
   "cell_type": "markdown",
   "id": "6d88dab5-fb1a-409c-9bab-a9ed2df2860d",
   "metadata": {},
   "source": [
    ".data -> special attribute in PyTorch that tells it not to upgate the gradients using that calculation."
   ]
  },
  {
   "cell_type": "markdown",
   "id": "83740c48-a02b-4afd-ada6-22050301c421",
   "metadata": {},
   "source": [
    "This is the most basic Stochastic Gradient Descent."
   ]
  },
  {
   "cell_type": "markdown",
   "id": "2b84bd45-9826-4147-85c4-8bee6f978e13",
   "metadata": {},
   "source": [
    "##### Difference between Stochastic Gradient Descent(SGD) and Gradient Descent(GD).  \n",
    "GD doesn't have this(for xb, yb in dl:) that loops through each mini batch. GD does it for the whole dataset each time around. So it updates parameters based on the whole dataset (We don't do this in practice, we use minibatches of different sizes)"
   ]
  },
  {
   "cell_type": "markdown",
   "id": "a8cf0d87-807d-4d2c-b791-d28e2e4641e6",
   "metadata": {},
   "source": [
    "We also want to check how we're doing, by looking at the accuracy of the validation set. To decide if an output represents a 3 or a 7, we can just check whether it's greater than 0. So our accuracy for each item can be calculated (using broadcasting, so no loops!) with:"
   ]
  },
  {
   "cell_type": "code",
   "execution_count": 119,
   "id": "94ca1437-d0b9-4854-a0db-36abe618e801",
   "metadata": {},
   "outputs": [
    {
     "data": {
      "text/plain": [
       "tensor([[False],\n",
       "        [False],\n",
       "        [ True],\n",
       "        [False]])"
      ]
     },
     "execution_count": 119,
     "metadata": {},
     "output_type": "execute_result"
    }
   ],
   "source": [
    "(preds>0.0).float() == train_y[:4]"
   ]
  },
  {
   "cell_type": "markdown",
   "id": "b83a67c7-0061-4b60-b89b-bf6113976908",
   "metadata": {},
   "source": [
    "That gives us this function to calculate our validation accuracy:"
   ]
  },
  {
   "cell_type": "code",
   "execution_count": 120,
   "id": "2b5253bd-f090-4f81-8a6b-1f0fd3e0d64f",
   "metadata": {},
   "outputs": [],
   "source": [
    "def batch_accuracy(xb, yb):\n",
    "    preds = xb.sigmoid()\n",
    "    correct = (preds > 0.5) ==yb\n",
    "    return correct.float().mean()"
   ]
  },
  {
   "cell_type": "markdown",
   "id": "8d01c84f-6cc6-48d2-be59-8ea27dc1456a",
   "metadata": {},
   "source": [
    "We previously checked whether the prediction is less than 0, but since we are doing the sigmoid, sigmoid will squish everything between 0 and 1. So now we should compare the predictions to whether they are grater than 0.5 or not.  \n",
    "On the sigmoid plot we have, what used to be 0 is now 0.5."
   ]
  },
  {
   "cell_type": "markdown",
   "id": "6548bb25-b06e-4e23-b3a9-88ac79e777b9",
   "metadata": {},
   "source": [
    "So to calculate the accuracy of the x batch and the y batch, we take the sigmoid of the predictions(xb.sigmoid()) then we compare to 0.5 to tell whether its a 3 or not.  \n",
    "We check what the actual target(yb) was, to se which ones are correct then we take the mean of those after converting the boolean to float."
   ]
  },
  {
   "cell_type": "markdown",
   "id": "82302b00-4fc7-40c7-8e47-0e9c184890b6",
   "metadata": {},
   "source": [
    "We can check if it works:"
   ]
  },
  {
   "cell_type": "code",
   "execution_count": 121,
   "id": "818e1bc1-3ccd-4a9d-a190-5fd549e8fa29",
   "metadata": {},
   "outputs": [
    {
     "data": {
      "text/plain": [
       "tensor(0.2500)"
      ]
     },
     "execution_count": 121,
     "metadata": {},
     "output_type": "execute_result"
    }
   ],
   "source": [
    "batch_accuracy(linear1(batch), train_y[:4])"
   ]
  },
  {
   "cell_type": "markdown",
   "id": "3299a1e9-1b48-4154-81f3-5938e67dbe81",
   "metadata": {},
   "source": [
    "To check the accuracy, we take the batch put it through our simple linear model, compare it to the 4 items of the training set."
   ]
  },
  {
   "cell_type": "markdown",
   "id": "d56fc3e5-fad0-4b3e-91fd-3da6ac9b8a3b",
   "metadata": {},
   "source": [
    "and then put the batches together:"
   ]
  },
  {
   "cell_type": "code",
   "execution_count": 122,
   "id": "61c149ae-1128-49be-b56f-bd8e19de42c6",
   "metadata": {},
   "outputs": [],
   "source": [
    "def validate_epoch(model):\n",
    "    accs = [batch_accuracy(model(xb), yb) for xb, yb in valid_dl]\n",
    "    return round(torch.stack(accs).mean().item(), 4)\n",
    "            "
   ]
  },
  {
   "cell_type": "markdown",
   "id": "6c691856-e53f-4fcb-8379-c43116447f38",
   "metadata": {},
   "source": [
    "If we do that for every batch in the validation set then we can loop through with a list comprehension (every batch in the validation set), get the accuracy based on some model(2nd line of code)."
   ]
  },
  {
   "cell_type": "markdown",
   "id": "210c72b2-8969-4e82-9002-8eaed49a6e0e",
   "metadata": {},
   "source": [
    "3rd line of code -> Stack those all up together to turn the list into a tensor, take the mean and convert to a standard Python scalar with .item and round it off to 4 decimal places."
   ]
  },
  {
   "cell_type": "markdown",
   "id": "a7b3f032-00a5-4435-ad27-41156ab06983",
   "metadata": {},
   "source": [
    "Here's the validation accuracy:"
   ]
  },
  {
   "cell_type": "code",
   "execution_count": 123,
   "id": "23f9cd2e-6949-41b2-807d-a81d66c665cd",
   "metadata": {},
   "outputs": [
    {
     "data": {
      "text/plain": [
       "0.5261"
      ]
     },
     "execution_count": 123,
     "metadata": {},
     "output_type": "execute_result"
    }
   ],
   "source": [
    "validate_epoch(linear1)"
   ]
  },
  {
   "cell_type": "markdown",
   "id": "8f444fc7-e657-417b-9862-2d9dc81a1b1e",
   "metadata": {},
   "source": [
    "It's about 50% because its random."
   ]
  },
  {
   "cell_type": "markdown",
   "id": "6f1681e6-2b97-4be9-8037-bcb9a83cc8db",
   "metadata": {},
   "source": [
    "So now we train for one epoch:"
   ]
  },
  {
   "cell_type": "code",
   "execution_count": 124,
   "id": "af8bfc9f-12a5-46ef-9bd1-7c16021d7bda",
   "metadata": {},
   "outputs": [
    {
     "data": {
      "text/plain": [
       "0.6663"
      ]
     },
     "execution_count": 124,
     "metadata": {},
     "output_type": "execute_result"
    }
   ],
   "source": [
    "lr = 1.\n",
    "params = weights, bias\n",
    "train_epoch(linear1, lr, params)\n",
    "validate_epoch(linear1)"
   ]
  },
  {
   "cell_type": "markdown",
   "id": "f0cb3dc8-0557-4a7f-9254-61a5e0c2c02b",
   "metadata": {},
   "source": [
    "Our accuracy is now 68%."
   ]
  },
  {
   "cell_type": "markdown",
   "id": "fae2d174-a347-4f71-a2de-2795763af2e5",
   "metadata": {},
   "source": [
    "Now, we repeat it a few times:"
   ]
  },
  {
   "cell_type": "code",
   "execution_count": 125,
   "id": "56e178f1-5006-4db9-b079-0a22c9739a7f",
   "metadata": {},
   "outputs": [
    {
     "name": "stdout",
     "output_type": "stream",
     "text": [
      "0.8265 0.89 0.9183 0.9275 0.9398 0.9466 0.9505 0.9525 0.9559 0.9579 0.9598 0.9608 0.9613 0.9618 0.9633 0.9637 0.9647 0.9657 0.9672 0.9677 "
     ]
    }
   ],
   "source": [
    "for i in range(20):\n",
    "    train_epoch(linear1,lr,params)\n",
    "    print(validate_epoch(linear1), end=' ')"
   ]
  },
  {
   "cell_type": "markdown",
   "id": "a50767d6-7596-4d65-bba9-fb2a462781b5",
   "metadata": {},
   "source": [
    "Accuracy goes up to about 97%."
   ]
  },
  {
   "cell_type": "markdown",
   "id": "5d073203-5f2c-4baf-827c-94b3254c4695",
   "metadata": {},
   "source": [
    "We've built an SGD of a simple linear function that is getting about 97% accuracy."
   ]
  },
  {
   "cell_type": "markdown",
   "id": "472acae0-f1c0-4e6e-a733-878bfc98e994",
   "metadata": {},
   "source": [
    "We can simplify some steps through simple refactoring.  \n",
    "In the next step, we will create an object that will handle the SGD for us, called an optimizer."
   ]
  },
  {
   "cell_type": "markdown",
   "id": "ae8d5167-daf1-426a-934a-5faaf941ba03",
   "metadata": {},
   "source": [
    "## Creating an Optimizer"
   ]
  },
  {
   "cell_type": "markdown",
   "id": "8e9ef10e-05ac-468a-a640-ec141ced9cd7",
   "metadata": {},
   "source": [
    "1) We'll get rid of the linear1 function"
   ]
  },
  {
   "cell_type": "code",
   "execution_count": 126,
   "id": "67d0bd52-3b10-4f5d-9913-f2bf70d55ac4",
   "metadata": {},
   "outputs": [
    {
     "data": {
      "text/plain": [
       "\u001b[0;31mSignature:\u001b[0m \u001b[0mlinear1\u001b[0m\u001b[0;34m(\u001b[0m\u001b[0mxb\u001b[0m\u001b[0;34m)\u001b[0m\u001b[0;34m\u001b[0m\u001b[0;34m\u001b[0m\u001b[0m\n",
       "\u001b[0;31mDocstring:\u001b[0m <no docstring>\n",
       "\u001b[0;31mSource:\u001b[0m    \u001b[0;32mdef\u001b[0m \u001b[0mlinear1\u001b[0m\u001b[0;34m(\u001b[0m\u001b[0mxb\u001b[0m\u001b[0;34m)\u001b[0m\u001b[0;34m:\u001b[0m \u001b[0;32mreturn\u001b[0m \u001b[0mxb\u001b[0m\u001b[0;34m@\u001b[0m\u001b[0mweights\u001b[0m \u001b[0;34m+\u001b[0m \u001b[0mbias\u001b[0m\u001b[0;34m\u001b[0m\u001b[0;34m\u001b[0m\u001b[0m\n",
       "\u001b[0;31mFile:\u001b[0m      /tmp/ipykernel_454/3366534937.py\n",
       "\u001b[0;31mType:\u001b[0m      function\n"
      ]
     },
     "metadata": {},
     "output_type": "display_data"
    }
   ],
   "source": [
    "linear1??"
   ]
  },
  {
   "cell_type": "markdown",
   "id": "9f6fb254-1ad9-4069-9eb6-c1ce210644a2",
   "metadata": {},
   "source": [
    "Remember it does x @ w + b.  \n",
    "There's a class in Python that does that called nn.linear module.\n"
   ]
  },
  {
   "cell_type": "markdown",
   "id": "ae2287f2-e2ec-4953-bfd1-b902a4c4f94e",
   "metadata": {},
   "source": [
    "Module -> object of a class that inherits from PyTorch class."
   ]
  },
  {
   "cell_type": "markdown",
   "id": "a815c911-850d-41ec-9a48-89364aa51e00",
   "metadata": {},
   "source": [
    "nn.linear does two things:  \n",
    "    - does the linear1 function(x @ w + b) for us.  \n",
    "    - also initializes the parameters for us so we don't have to do (weights = init_params()) and (bias = init_params())  \n",
    "    \n",
    "We just create a nn.linear class and that's going to create a matrix of size(28, 28, 1) and bias of size 1. It will set requires_grad = True for us.  "
   ]
  },
  {
   "cell_type": "code",
   "execution_count": 127,
   "id": "10ae063a-3579-4e9b-b981-e89364317e4e",
   "metadata": {},
   "outputs": [],
   "source": [
    "linear_model = nn.Linear(28 * 28, 1)"
   ]
  },
  {
   "cell_type": "markdown",
   "id": "d293284f-7d00-48a9-b757-802ba6889bad",
   "metadata": {},
   "source": [
    "When we call the fn, its going to do x @ w + b."
   ]
  },
  {
   "cell_type": "markdown",
   "id": "dd4125eb-9e4a-4d56-afba-8b0c9081b543",
   "metadata": {},
   "source": [
    "To see the parameters, we would expect it to contain 784 weights and 1 bias, we can just call .parameters():"
   ]
  },
  {
   "cell_type": "code",
   "execution_count": 128,
   "id": "22ae6efb-a3f4-4ab2-be87-13825702751a",
   "metadata": {},
   "outputs": [
    {
     "data": {
      "text/plain": [
       "(torch.Size([1, 784]), torch.Size([1]))"
      ]
     },
     "execution_count": 128,
     "metadata": {},
     "output_type": "execute_result"
    }
   ],
   "source": [
    "w, b = linear_model.parameters()\n",
    "w.shape, b.shape"
   ]
  },
  {
   "cell_type": "markdown",
   "id": "ab453496-84ed-4c52-bd41-ca77406af84c",
   "metadata": {},
   "source": [
    "We can destructure it to w and b.  \n",
    "Weights is (1, 784), bias is (1)"
   ]
  },
  {
   "cell_type": "markdown",
   "id": "f46ca075-d0d4-4aad-afd7-9dd914977888",
   "metadata": {},
   "source": [
    "Now, we can create an optimizer:"
   ]
  },
  {
   "cell_type": "code",
   "execution_count": 129,
   "id": "3e62e796-cd1b-4d05-a595-bd74e7d9589c",
   "metadata": {},
   "outputs": [],
   "source": [
    "class BasicOptim:\n",
    "    def __init__(self, params, lr): self.params, self.lr = list(params), lr\n",
    "    \n",
    "    def step(self, *args, **kwargs):\n",
    "        for p in self.params: p.data -=p.grad.data * self.lr\n",
    "        \n",
    "    def zero_grad(self, *args, **kwargs):\n",
    "        for p in self.params: p.grad = None"
   ]
  },
  {
   "cell_type": "markdown",
   "id": "82265fab-d218-4b56-b5a0-dcd40ac9bc2b",
   "metadata": {},
   "source": [
    "init function -> passes the parameter to optimize and learning rate, and stores them away  \n",
    "step function -> goes through each parameter and does p.data -=p.grad.data * self.lr  \n",
    "zero_grad function -> goes through each parameter and zeros it out or sets it to None."
   ]
  },
  {
   "cell_type": "markdown",
   "id": "24312cf5-3293-4811-8d04-f94c8c6c56be",
   "metadata": {},
   "source": [
    "This is our Basic Optimizer."
   ]
  },
  {
   "cell_type": "markdown",
   "id": "aec06eb7-1319-47a4-9ab2-92d6c6b38db1",
   "metadata": {},
   "source": [
    "Now we can create an optimizer passing in the parameters of the linear model and our learning rate:"
   ]
  },
  {
   "cell_type": "code",
   "execution_count": 130,
   "id": "5bee4efe-19aa-4715-ac8f-1bafc195288c",
   "metadata": {},
   "outputs": [],
   "source": [
    "opt = BasicOptim(linear_model.parameters(), lr)"
   ]
  },
  {
   "cell_type": "markdown",
   "id": "2722ee6c-6eb8-45a4-91b6-9188476d5dd0",
   "metadata": {},
   "source": [
    "Now our training loop looks through each of the minibatch in the data loader, calculates the gradient, does the opt.step and opt.zero_grad:"
   ]
  },
  {
   "cell_type": "code",
   "execution_count": 131,
   "id": "0a815b01-e4c1-4ac2-bdfd-d03335f84b19",
   "metadata": {},
   "outputs": [],
   "source": [
    "def train_epoch(model):\n",
    "    for xb, yb in dl:\n",
    "        calc_grad(xb, yb, model)\n",
    "        opt.step()\n",
    "        opt.zero_grad()"
   ]
  },
  {
   "cell_type": "markdown",
   "id": "850ff34d-674d-4de3-bcf7-0be95998f056",
   "metadata": {},
   "source": [
    "Validation function doesn't need to change:"
   ]
  },
  {
   "cell_type": "code",
   "execution_count": 132,
   "id": "04e05eee-21c0-4d11-80cd-acccfd65c685",
   "metadata": {},
   "outputs": [
    {
     "data": {
      "text/plain": [
       "0.4608"
      ]
     },
     "execution_count": 132,
     "metadata": {},
     "output_type": "execute_result"
    }
   ],
   "source": [
    "validate_epoch(linear_model)"
   ]
  },
  {
   "cell_type": "markdown",
   "id": "c8f9d3fc-a35b-4ac0-830e-db0e52366c14",
   "metadata": {},
   "source": [
    "So let's put our training loop into a function:"
   ]
  },
  {
   "cell_type": "code",
   "execution_count": 133,
   "id": "9d889bf5-ce96-4cf8-808c-db3adcb1eb68",
   "metadata": {},
   "outputs": [],
   "source": [
    "def train_model(model, epochs):\n",
    "    for i in range(epochs):\n",
    "        train_epoch(model)\n",
    "        print(validate_epoch(model), end=' ')"
   ]
  },
  {
   "cell_type": "markdown",
   "id": "e20693ee-e615-41f6-b71c-765d6dff1c41",
   "metadata": {},
   "source": [
    "It will loop through a bunch of epochs called train_epoch and print validate_epoch and run it."
   ]
  },
  {
   "cell_type": "code",
   "execution_count": 134,
   "id": "55d1fd44-14eb-47e8-bba8-86d6fd62552c",
   "metadata": {},
   "outputs": [
    {
     "name": "stdout",
     "output_type": "stream",
     "text": [
      "0.4932 0.7685 0.8554 0.9135 0.9345 0.9482 0.957 0.9633 0.9657 0.9677 0.9696 0.9716 0.9736 0.9745 0.976 0.977 0.9775 0.9775 0.978 0.9785 "
     ]
    }
   ],
   "source": [
    "train_model(linear_model, 20)"
   ]
  },
  {
   "cell_type": "markdown",
   "id": "411b50cc-8631-4285-bbf5-d8846c6c0187",
   "metadata": {},
   "source": [
    "Results are different, but idea is the same."
   ]
  },
  {
   "cell_type": "markdown",
   "id": "0b48fcc3-0502-49ab-b430-96a0f0a9b14c",
   "metadata": {},
   "source": [
    "We don't need to comre up with BasicOptim, fastai provides SGD class which does the same:"
   ]
  },
  {
   "cell_type": "code",
   "execution_count": 135,
   "id": "b3fd2a8d-3208-4971-a4f6-53aa5dba8ef7",
   "metadata": {},
   "outputs": [
    {
     "name": "stdout",
     "output_type": "stream",
     "text": [
      "0.4932 0.8178 0.8496 0.914 0.9345 0.9482 0.957 0.9618 0.9657 0.9672 0.9692 0.9711 0.9741 0.975 0.976 0.9775 0.9775 0.978 0.9785 0.9789 "
     ]
    }
   ],
   "source": [
    "linear_model = nn.Linear(28*28, 1)\n",
    "opt = SGD(linear_model.parameters(), lr)\n",
    "train_model(linear_model, 20)"
   ]
  },
  {
   "cell_type": "markdown",
   "id": "95f3b757-e545-4f88-935a-3221050d23fb",
   "metadata": {},
   "source": [
    "You can pass to SGD your parameters and learning rate like BasicOptim.  \n",
    "We get the same result as above."
   ]
  },
  {
   "cell_type": "markdown",
   "id": "0c06c815-2bdc-4bb0-9ebd-dbbc7f6dc510",
   "metadata": {},
   "source": [
    "###### Fastai classes  \n",
    "- DataLoader -> stores the .train and .valid data.   \n",
    "\n",
    "- Learner -> we pass in our dataloders, model, optimization function, loss function and metrics"
   ]
  },
  {
   "cell_type": "code",
   "execution_count": 136,
   "id": "bc66d95d-97aa-425a-8fbf-3c4227427780",
   "metadata": {},
   "outputs": [],
   "source": [
    "dls = DataLoaders(dl, valid_dl)"
   ]
  },
  {
   "cell_type": "code",
   "execution_count": 137,
   "id": "b1ba165b-9953-4eab-b568-72abf0581751",
   "metadata": {},
   "outputs": [],
   "source": [
    "learn = Learner(dls, nn.Linear(28*28, 1), opt_func=SGD,\n",
    "                loss_func=mnist_loss, metrics=batch_accuracy)"
   ]
  },
  {
   "cell_type": "markdown",
   "id": "537140e6-ac45-424f-8742-aa0be998e035",
   "metadata": {},
   "source": [
    "It will call train_model and train_epoch."
   ]
  },
  {
   "cell_type": "markdown",
   "id": "4e6b7cb8-75ae-408a-93a2-1fd7d78fc8c5",
   "metadata": {},
   "source": [
    "Now we can call fit:"
   ]
  },
  {
   "cell_type": "code",
   "execution_count": 138,
   "id": "fe770b57-5a87-483d-bc6a-ff2b8979b6be",
   "metadata": {},
   "outputs": [
    {
     "data": {
      "text/html": [
       "\n",
       "<style>\n",
       "    /* Turns off some styling */\n",
       "    progress {\n",
       "        /* gets rid of default border in Firefox and Opera. */\n",
       "        border: none;\n",
       "        /* Needs to be in here for Safari polyfill so background images work as expected. */\n",
       "        background-size: auto;\n",
       "    }\n",
       "    progress:not([value]), progress:not([value])::-webkit-progress-bar {\n",
       "        background: repeating-linear-gradient(45deg, #7e7e7e, #7e7e7e 10px, #5c5c5c 10px, #5c5c5c 20px);\n",
       "    }\n",
       "    .progress-bar-interrupted, .progress-bar-interrupted::-webkit-progress-bar {\n",
       "        background: #F44336;\n",
       "    }\n",
       "</style>\n"
      ],
      "text/plain": [
       "<IPython.core.display.HTML object>"
      ]
     },
     "metadata": {},
     "output_type": "display_data"
    },
    {
     "data": {
      "text/html": [
       "<table border=\"1\" class=\"dataframe\">\n",
       "  <thead>\n",
       "    <tr style=\"text-align: left;\">\n",
       "      <th>epoch</th>\n",
       "      <th>train_loss</th>\n",
       "      <th>valid_loss</th>\n",
       "      <th>batch_accuracy</th>\n",
       "      <th>time</th>\n",
       "    </tr>\n",
       "  </thead>\n",
       "  <tbody>\n",
       "    <tr>\n",
       "      <td>0</td>\n",
       "      <td>0.636709</td>\n",
       "      <td>0.503144</td>\n",
       "      <td>0.495584</td>\n",
       "      <td>00:00</td>\n",
       "    </tr>\n",
       "    <tr>\n",
       "      <td>1</td>\n",
       "      <td>0.429828</td>\n",
       "      <td>0.248517</td>\n",
       "      <td>0.777233</td>\n",
       "      <td>00:00</td>\n",
       "    </tr>\n",
       "    <tr>\n",
       "      <td>2</td>\n",
       "      <td>0.161680</td>\n",
       "      <td>0.155361</td>\n",
       "      <td>0.861629</td>\n",
       "      <td>00:00</td>\n",
       "    </tr>\n",
       "    <tr>\n",
       "      <td>3</td>\n",
       "      <td>0.072948</td>\n",
       "      <td>0.097722</td>\n",
       "      <td>0.917566</td>\n",
       "      <td>00:00</td>\n",
       "    </tr>\n",
       "    <tr>\n",
       "      <td>4</td>\n",
       "      <td>0.040128</td>\n",
       "      <td>0.073205</td>\n",
       "      <td>0.936212</td>\n",
       "      <td>00:00</td>\n",
       "    </tr>\n",
       "    <tr>\n",
       "      <td>5</td>\n",
       "      <td>0.027210</td>\n",
       "      <td>0.059466</td>\n",
       "      <td>0.950442</td>\n",
       "      <td>00:00</td>\n",
       "    </tr>\n",
       "    <tr>\n",
       "      <td>6</td>\n",
       "      <td>0.021837</td>\n",
       "      <td>0.050799</td>\n",
       "      <td>0.957802</td>\n",
       "      <td>00:00</td>\n",
       "    </tr>\n",
       "    <tr>\n",
       "      <td>7</td>\n",
       "      <td>0.019398</td>\n",
       "      <td>0.044980</td>\n",
       "      <td>0.964181</td>\n",
       "      <td>00:00</td>\n",
       "    </tr>\n",
       "    <tr>\n",
       "      <td>8</td>\n",
       "      <td>0.018122</td>\n",
       "      <td>0.040853</td>\n",
       "      <td>0.966143</td>\n",
       "      <td>00:00</td>\n",
       "    </tr>\n",
       "    <tr>\n",
       "      <td>9</td>\n",
       "      <td>0.017330</td>\n",
       "      <td>0.037788</td>\n",
       "      <td>0.968106</td>\n",
       "      <td>00:00</td>\n",
       "    </tr>\n",
       "  </tbody>\n",
       "</table>"
      ],
      "text/plain": [
       "<IPython.core.display.HTML object>"
      ]
     },
     "metadata": {},
     "output_type": "display_data"
    }
   ],
   "source": [
    "learn.fit(10, lr=lr)"
   ]
  },
  {
   "cell_type": "markdown",
   "id": "9eccf80a-85b9-4903-8edc-8d3c04bfb154",
   "metadata": {},
   "source": [
    "## Adding Non-Linearity"
   ]
  },
  {
   "cell_type": "markdown",
   "id": "c86f317c-209d-4815-be30-7c1ecdd54269",
   "metadata": {},
   "source": [
    "This was just a linear function, we wanta neural network. Remember x@w + b is a linear function.   \n",
    "\n",
    "To turn it into a neural network, we have two linear functions exactly the sma ebut with different weights and biases and in between have, res = res.max(tensor(0.0)), which takes the result of our first linear function, res = xb@w1 + b1, and then does a max() between that and 0. So a max() of res and 0 is going to take any negative numbers and turn them into 0s."
   ]
  },
  {
   "cell_type": "markdown",
   "id": "cf15bb18-e208-4e4e-8a4b-edd9774d0b23",
   "metadata": {},
   "source": [
    "A simple net does the following:  \n",
    "    - Takes a linear function  \n",
    "    - Replaces negatives with 0s  \n",
    "    -Takes that and puts it through another linear function  \n",
    "    \n",
    "This is a neural network."
   ]
  },
  {
   "cell_type": "code",
   "execution_count": 139,
   "id": "9dba9c67-dd79-44a6-86ff-0bd14aba7b9f",
   "metadata": {},
   "outputs": [],
   "source": [
    "def simple_net(xb):\n",
    "    res = xb@w1 + b1\n",
    "    res = res.max(tensor(0.0))\n",
    "    res = xb@w2 + b2"
   ]
  },
  {
   "cell_type": "markdown",
   "id": "3a9c3fc1-5ec2-41c3-9153-47f2f37e8a74",
   "metadata": {},
   "source": [
    "w1 and w2 -> weight tensors  \n",
    "b1 and b2 -> bias tensors"
   ]
  },
  {
   "cell_type": "markdown",
   "id": "122c8995-2338-4d24-a854-6c92da9df509",
   "metadata": {},
   "source": [
    "Initializing them:"
   ]
  },
  {
   "cell_type": "code",
   "execution_count": 140,
   "id": "cd5a231e-aa3b-45e3-8636-d6d554977f29",
   "metadata": {},
   "outputs": [],
   "source": [
    "w1 = init_params((28*28), 30)\n",
    "b1 = init_params(30)\n",
    "w2 = init_params((30,1))\n",
    "b2 = init_params(1)"
   ]
  },
  {
   "cell_type": "markdown",
   "id": "71c303b0-95f8-4f31-bed2-b5b5a90a8893",
   "metadata": {},
   "source": [
    "The key point about this is that w1 has 30 output activations (which means that w2 must have 30 input activations, so they match). That means that the first layer can construct 30 different features, each representing some different mix of pixels. You can change that 30 to anything you like, to make the model more or less complex."
   ]
  },
  {
   "cell_type": "markdown",
   "id": "ca57445a-0ef5-4c37-bf8b-7fe8f6619673",
   "metadata": {},
   "source": [
    "res = res.max(tensor(0.0)) is called the Rectified Linear Unit(ReLU).  \n",
    "In PyTorch, it has a function called F.relu. We can plot it:"
   ]
  },
  {
   "cell_type": "code",
   "execution_count": 141,
   "id": "734fb496-4046-4d5b-a192-a4d1fa847272",
   "metadata": {},
   "outputs": [
    {
     "data": {
      "image/png": "[encoded data removed]",
      "text/plain": [
       "<Figure size 432x288 with 1 Axes>"
      ]
     },
     "metadata": {
      "needs_background": "light"
     },
     "output_type": "display_data"
    }
   ],
   "source": [
    "plot_function(F.relu)"
   ]
  },
  {
   "cell_type": "markdown",
   "id": "21257c2b-37f3-4632-9c30-849fa5cf3e9e",
   "metadata": {},
   "source": [
    "As you can see it is 0 for the negative values, and y=x for the positive values."
   ]
  },
  {
   "cell_type": "markdown",
   "id": "f341d19b-c51d-4610-9c72-e6cb5a2977d2",
   "metadata": {},
   "source": [
    "Why do we do Linear layer ReLU:  \n",
    "If we get rid of the res = res.max(tensor(0.0)) line, which is the ReLu and just do linear layer then linear layer, we just make a linear model. No matter how many linear layer we stack on each other, it still is a linear layer.  \n",
    "But if you put a non-linearity module between them, its actually the opposite. This is called Universal Approximation Theorem, which is, if the size of the weights and bias matrices are big enough, it can actually approximate any arbitrary function (including our function of how to recognize 3s and 7s)."
   ]
  },
  {
   "cell_type": "markdown",
   "id": "35fed0e4-f88f-4f23-bdd0-da4014666a5f",
   "metadata": {},
   "source": [
    "The three lines of code that we have here are known as layers. The first and third are known as linear layers, and the second line of code is known variously as a nonlinearity, or activation function."
   ]
  },
  {
   "cell_type": "markdown",
   "id": "8118944f-3fdb-4ae5-a368-d0d9be785b70",
   "metadata": {},
   "source": [
    "The simple_net function is our universal approximation function as long as w1, b1, w2, b2 have the right numbers.  \n",
    "We know how to make them the right numbers using SGD."
   ]
  },
  {
   "cell_type": "markdown",
   "id": "987596aa-9a78-4554-b7c2-a7022240baf0",
   "metadata": {},
   "source": [
    "Simplifying things:"
   ]
  },
  {
   "cell_type": "code",
   "execution_count": 142,
   "id": "5fffb9a2-47c1-4108-af10-4b70b4c964d4",
   "metadata": {},
   "outputs": [],
   "source": [
    "simple_net = nn.Sequential(\n",
    "    nn.Linear(28*28, 30),\n",
    "    nn.ReLU(),\n",
    "    nn.Linear(30,1)\n",
    ")"
   ]
  },
  {
   "cell_type": "markdown",
   "id": "53420f96-11f1-4be7-bd47-bf931f488216",
   "metadata": {},
   "source": [
    "nn.Sequential -> creates a module which will call each of the listed layers or functions in turn."
   ]
  },
  {
   "cell_type": "markdown",
   "id": "9ce8a509-5827-4cc4-8a53-e78af901e7fe",
   "metadata": {},
   "source": [
    "In the simple_net function, we are taking the results of one and passing it to the next, then take the results of the next and pass it to the next and returned at the end. This is called Function Composition.  \n",
    "Composition -. when you take the results of one function and pass it to a new one, take the result and pass it to a new one etc.  \n",
    "Neural network is just doing function composition of linear functions and these are called Activation Functions or non-linearity."
   ]
  },
  {
   "cell_type": "markdown",
   "id": "931bc5e7-def1-4558-9429-a7fb51d9dcb3",
   "metadata": {},
   "source": [
    "PyTorch provides nn.Sequential to do activation function for us."
   ]
  },
  {
   "cell_type": "markdown",
   "id": "3923b1f7-7321-435d-9739-0e6ae112b75a",
   "metadata": {},
   "source": [
    "NOTE: We are not using F.ReLU(function) but nn.ReLU(module)."
   ]
  },
  {
   "cell_type": "markdown",
   "id": "ab1803f1-156a-4c21-812f-0e03d59b8571",
   "metadata": {},
   "source": [
    "Leaky ReLU -> not to make the ReLU function flat at the values less than 0 as 0 means the neurons are dead/do nothing. It rather makes a less steep line."
   ]
  },
  {
   "cell_type": "markdown",
   "id": "f3d9ed67-83f0-4dc4-bb49-68657f4f1176",
   "metadata": {},
   "source": [
    "Now that we have a neural net, we can use the same learner we had but this time we pass simple_net instead of nn.linear that we use."
   ]
  },
  {
   "cell_type": "code",
   "execution_count": null,
   "id": "7ca06fe6-f7ec-494c-bbce-cb8232ca68f8",
   "metadata": {},
   "outputs": [],
   "source": [
    "learn = Learner(dls, simple_net, opt_func = SGD, loss_func = mnist_loss, metrics=batch_accuracy)"
   ]
  },
  {
   "cell_type": "markdown",
   "id": "c2b5b220-7c1f-449c-a24c-f07111725b03",
   "metadata": {},
   "source": [
    "Now we call fit:"
   ]
  },
  {
   "cell_type": "code",
   "execution_count": null,
   "id": "303a1289-6557-4d13-ba36-46d236584800",
   "metadata": {},
   "outputs": [],
   "source": [
    "learn.fit(40, 0.1)"
   ]
  },
  {
   "cell_type": "markdown",
   "id": "e83a2990-b1e8-43e3-9405-5e48f0398ea8",
   "metadata": {},
   "source": [
    "Here,we only have two layers.  \n",
    "We have dropped ur learning rate from 1 to 0.1 because the deeper models(with more layers) all tend to be bumpier, less nicely behaved so often you need to use lower learning rates."
   ]
  },
  {
   "cell_type": "markdown",
   "id": "c7984109-8b17-468c-ac17-13c4576c06f0",
   "metadata": {},
   "source": [
    "We can see what the training looks like:"
   ]
  },
  {
   "cell_type": "code",
   "execution_count": null,
   "id": "4e93b44a-8c9d-47ec-ab28-c5adba65d836",
   "metadata": {},
   "outputs": [],
   "source": [
    "plt.plot(L(learn.recorder.values).itemgot(2));"
   ]
  },
  {
   "cell_type": "markdown",
   "id": "bf2f71eb-6e54-470d-a9d3-9b7739941119",
   "metadata": {},
   "source": [
    "This allows us to look inside the learner.  \n",
    "There's an attribute we create called recorder that records everything in the learn.fit table.  \n",
    ".itemgot(2) -> gets item number two of the table which is the accuracy.  \n",
    "L class -> where we have itemgot()"
   ]
  },
  {
   "cell_type": "code",
   "execution_count": null,
   "id": "32d94772-b09c-4aaa-8725-8de961dde4d0",
   "metadata": {},
   "outputs": [],
   "source": [
    "We can view"
   ]
  }
 ],
 "metadata": {
  "kernelspec": {
   "display_name": "Python 3 (ipykernel)",
   "language": "python",
   "name": "python3"
  },
  "language_info": {
   "codemirror_mode": {
    "name": "ipython",
    "version": 3
   },
   "file_extension": ".py",
   "mimetype": "text/x-python",
   "name": "python",
   "nbconvert_exporter": "python",
   "pygments_lexer": "ipython3",
   "version": "3.10.4"
  }
 },
 "nbformat": 4,
 "nbformat_minor": 5
}
