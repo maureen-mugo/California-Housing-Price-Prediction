{
 "cells": [
  {
   "cell_type": "markdown",
   "id": "ee61a233-29d3-4be1-9799-62e3dcbc4a03",
   "metadata": {},
   "source": [
    "This project creates a model that classifies handwritten 3s and 7s from the MNIST sample dataset."
   ]
  },
  {
   "cell_type": "code",
   "execution_count": 1,
   "id": "b1d96334-bd37-4dbb-9496-354c4a7472c0",
   "metadata": {},
   "outputs": [],
   "source": [
    "!pip install -Uqq fastai"
   ]
  },
  {
   "cell_type": "code",
   "execution_count": 2,
   "id": "1cc7891a-99a9-402b-946a-43cc0f1125cc",
   "metadata": {},
   "outputs": [],
   "source": [
    "!pip install -Uqq fastbook"
   ]
  },
  {
   "cell_type": "code",
   "execution_count": 3,
   "id": "08df2974-89ec-4707-b9b6-6d196497a9e8",
   "metadata": {},
   "outputs": [],
   "source": [
    "from fastai.vision.all import *\n",
    "from fastbook import *\n",
    "\n",
    "matplotlib.rc('image', cmap='Greys')"
   ]
  },
  {
   "cell_type": "code",
   "execution_count": 4,
   "id": "2155893f-dad1-4bdb-8873-9c5fa976bbb5",
   "metadata": {},
   "outputs": [],
   "source": [
    "path = untar_data(URLs.MNIST_SAMPLE)"
   ]
  },
  {
   "cell_type": "code",
   "execution_count": 5,
   "id": "ae04ad3e-8614-4655-ae3f-28269b2576ad",
   "metadata": {},
   "outputs": [],
   "source": [
    "Path.BASE_PATH = path"
   ]
  },
  {
   "cell_type": "markdown",
   "id": "36e21fb5-0dce-4654-8765-e4d956531df7",
   "metadata": {},
   "source": [
    ".BASE_PATH is an attribute to path that tells where the starting point is.  \n",
    "If you run 'path' it shows you where it is"
   ]
  },
  {
   "cell_type": "code",
   "execution_count": 6,
   "id": "0c510f8a-5a22-47b2-b574-d0eba845b208",
   "metadata": {},
   "outputs": [
    {
     "data": {
      "text/plain": [
       "Path('.')"
      ]
     },
     "execution_count": 6,
     "metadata": {},
     "output_type": "execute_result"
    }
   ],
   "source": [
    "path"
   ]
  },
  {
   "cell_type": "code",
   "execution_count": 7,
   "id": "949b9743-c5b5-45af-a937-01b60109b283",
   "metadata": {},
   "outputs": [
    {
     "data": {
      "text/plain": [
       "(#3) [Path('train'),Path('labels.csv'),Path('valid')]"
      ]
     },
     "execution_count": 7,
     "metadata": {},
     "output_type": "execute_result"
    }
   ],
   "source": [
    "path.ls()"
   ]
  },
  {
   "cell_type": "markdown",
   "id": "4b019ebf-1222-4b08-b21e-c5a3ce0394c3",
   "metadata": {},
   "source": [
    "This lets us see what is in the directory."
   ]
  },
  {
   "cell_type": "code",
   "execution_count": 8,
   "id": "7c6aa642-d44a-4ca6-953a-4da9faf421f6",
   "metadata": {},
   "outputs": [
    {
     "data": {
      "text/plain": [
       "pathlib.PosixPath"
      ]
     },
     "execution_count": 8,
     "metadata": {},
     "output_type": "execute_result"
    }
   ],
   "source": [
    "type(path)"
   ]
  },
  {
   "cell_type": "markdown",
   "id": "19805303-739c-4aaf-ace4-34a15c1d2151",
   "metadata": {},
   "source": [
    "pathlib is part of a Python standard library but doesn't have 'ls' command  so we have to add .ls. For instance path.ls()."
   ]
  },
  {
   "cell_type": "code",
   "execution_count": 9,
   "id": "6052cd1e-b8ff-4d10-a63b-f924a7f3b3bc",
   "metadata": {},
   "outputs": [
    {
     "data": {
      "text/plain": [
       "(#2) [Path('train/7'),Path('train/3')]"
      ]
     },
     "execution_count": 9,
     "metadata": {},
     "output_type": "execute_result"
    }
   ],
   "source": [
    "(path/'train').ls()"
   ]
  },
  {
   "cell_type": "markdown",
   "id": "bc3d0b5c-0255-450b-a113-7a46383f78e2",
   "metadata": {},
   "source": [
    "This allows us to see what is in the train folder."
   ]
  },
  {
   "cell_type": "markdown",
   "id": "bff4455f-6dea-40dd-a7db-6b6219724fff",
   "metadata": {},
   "source": [
    "3s and 7s are labels/targets in the dataset."
   ]
  },
  {
   "cell_type": "code",
   "execution_count": 10,
   "id": "be3c6225-bde4-4a4d-ac1c-6712e6d79436",
   "metadata": {},
   "outputs": [],
   "source": [
    "threes = (path/'train'/'3').ls().sorted()\n",
    "sevens = (path/'train'/'7').ls().sorted()"
   ]
  },
  {
   "cell_type": "markdown",
   "id": "a350259a-595c-46aa-b218-ec4fb23cd84f",
   "metadata": {},
   "source": [
    "This allows us to sort the data so that it is consistent/ get the same order of files."
   ]
  },
  {
   "cell_type": "code",
   "execution_count": 11,
   "id": "01b50ef6-86b2-4b2f-9246-0dbc461d0d24",
   "metadata": {},
   "outputs": [
    {
     "data": {
      "text/plain": [
       "(#6131) [Path('train/3/10.png'),Path('train/3/10000.png'),Path('train/3/10011.png'),Path('train/3/10031.png'),Path('train/3/10034.png'),Path('train/3/10042.png'),Path('train/3/10052.png'),Path('train/3/1007.png'),Path('train/3/10074.png'),Path('train/3/10091.png')...]"
      ]
     },
     "execution_count": 11,
     "metadata": {},
     "output_type": "execute_result"
    }
   ],
   "source": [
    "threes"
   ]
  },
  {
   "cell_type": "code",
   "execution_count": 12,
   "id": "0bfe6e62-525f-4057-81e6-e5b6ad7e19df",
   "metadata": {},
   "outputs": [
    {
     "data": {
      "text/plain": [
       "(#6265) [Path('train/7/10002.png'),Path('train/7/1001.png'),Path('train/7/10014.png'),Path('train/7/10019.png'),Path('train/7/10039.png'),Path('train/7/10046.png'),Path('train/7/10050.png'),Path('train/7/10063.png'),Path('train/7/10077.png'),Path('train/7/10086.png')...]"
      ]
     },
     "execution_count": 12,
     "metadata": {},
     "output_type": "execute_result"
    }
   ],
   "source": [
    "sevens"
   ]
  },
  {
   "cell_type": "code",
   "execution_count": 13,
   "id": "6cb7e37c-d864-4f87-b9ac-c88cf411e53c",
   "metadata": {},
   "outputs": [
    {
     "data": {
      "image/png": "[encoded data removed]",
      "text/plain": [
       "<PIL.PngImagePlugin.PngImageFile image mode=L size=28x28>"
      ]
     },
     "execution_count": 13,
     "metadata": {},
     "output_type": "execute_result"
    }
   ],
   "source": [
    "im3_path = threes[1]\n",
    "im3 = Image.open(im3_path)\n",
    "im3"
   ]
  },
  {
   "cell_type": "markdown",
   "id": "dc9a56a1-b7ac-4d2d-b7c0-4583d762150b",
   "metadata": {},
   "source": [
    "This allows us to see one image from the 3s folder after sorting."
   ]
  },
  {
   "cell_type": "code",
   "execution_count": 14,
   "id": "4c14dc8b-b93b-47ec-a1ea-fed43d45c3b3",
   "metadata": {},
   "outputs": [
    {
     "data": {
      "text/plain": [
       "PIL.PngImagePlugin.PngImageFile"
      ]
     },
     "execution_count": 14,
     "metadata": {},
     "output_type": "execute_result"
    }
   ],
   "source": [
    "type(im3)"
   ]
  },
  {
   "cell_type": "markdown",
   "id": "0ddb304e-ddc9-4e9a-be13-d9abb53f5259",
   "metadata": {},
   "source": [
    "The im3 image is a png file.  \n",
    "We need to represent this in number format as everything is represented as numbers in computers.  \n",
    "To view the number that represent this image we convert it to a Numpy array or PyTorch tensor."
   ]
  },
  {
   "cell_type": "markdown",
   "id": "e3b393ec-6d91-4d9d-b788-b6e8c3d4da9c",
   "metadata": {},
   "source": [
    "To convert it to a Numpy array:\n"
   ]
  },
  {
   "cell_type": "code",
   "execution_count": 15,
   "id": "5db64868-3bc7-4ea4-972a-1bbc14167fbd",
   "metadata": {},
   "outputs": [
    {
     "data": {
      "text/plain": [
       "array([[  0,   0,   0,   0,   0,   0],\n",
       "       [  0,   0,   0,   0,   0,  29],\n",
       "       [  0,   0,   0,  48, 166, 224],\n",
       "       [  0,  93, 244, 249, 253, 187],\n",
       "       [  0, 107, 253, 253, 230,  48],\n",
       "       [  0,   3,  20,  20,  15,   0]], dtype=uint8)"
      ]
     },
     "execution_count": 15,
     "metadata": {},
     "output_type": "execute_result"
    }
   ],
   "source": [
    "array(im3)[4:10, 4:10]"
   ]
  },
  {
   "cell_type": "markdown",
   "id": "cf74979c-9f1a-4339-bf78-9aa2d0acb6eb",
   "metadata": {},
   "source": [
    "This shows us an index of a number at the top left from 4 up to the number before 10. (It does not include 10).  \n",
    "[4:10, 4:10] represents [rows, columns]"
   ]
  },
  {
   "cell_type": "markdown",
   "id": "86e38865-3afb-496a-b7f4-9e1722164d7b",
   "metadata": {},
   "source": [
    "There are 8 bit integer, thus between 0 and 255."
   ]
  },
  {
   "cell_type": "markdown",
   "id": "ccc41822-7840-4485-87f7-5cff34fabfc6",
   "metadata": {},
   "source": [
    "To convert to a PyTorch Tensor:\n",
    "    "
   ]
  },
  {
   "cell_type": "code",
   "execution_count": 16,
   "id": "c0303d9e-c4bc-4a5b-ac2c-429162314db9",
   "metadata": {},
   "outputs": [
    {
     "data": {
      "text/plain": [
       "tensor([[  0,   0,   0,   0,   0,   0],\n",
       "        [  0,   0,   0,   0,   0,  29],\n",
       "        [  0,   0,   0,  48, 166, 224],\n",
       "        [  0,  93, 244, 249, 253, 187],\n",
       "        [  0, 107, 253, 253, 230,  48],\n",
       "        [  0,   3,  20,  20,  15,   0]], dtype=torch.uint8)"
      ]
     },
     "execution_count": 16,
     "metadata": {},
     "output_type": "execute_result"
    }
   ],
   "source": [
    "tensor(im3)[4:10, 4:10]"
   ]
  },
  {
   "cell_type": "markdown",
   "id": "47ab3179-a2a0-4f9a-a2f3-5820d6e437d1",
   "metadata": {},
   "source": [
    "PyTorch tensors and Numpy arrays behave the same but PyToch tensors can be computed on GPU and not onlu in CPUs like numpy arrays."
   ]
  },
  {
   "cell_type": "code",
   "execution_count": 17,
   "id": "47553d89-035b-47dd-bd9b-ca90d3ed7c83",
   "metadata": {},
   "outputs": [
    {
     "data": {
      "text/html": [
       "<style type=\"text/css\">\n",
       "#T_1c7b0_row0_col0, #T_1c7b0_row0_col1, #T_1c7b0_row0_col2, #T_1c7b0_row0_col3, #T_1c7b0_row0_col4, #T_1c7b0_row0_col5, #T_1c7b0_row0_col6, #T_1c7b0_row0_col7, #T_1c7b0_row0_col8, #T_1c7b0_row0_col9, #T_1c7b0_row0_col10, #T_1c7b0_row0_col11, #T_1c7b0_row0_col12, #T_1c7b0_row0_col13, #T_1c7b0_row0_col14, #T_1c7b0_row0_col15, #T_1c7b0_row0_col16, #T_1c7b0_row0_col17, #T_1c7b0_row1_col0, #T_1c7b0_row1_col1, #T_1c7b0_row1_col2, #T_1c7b0_row1_col3, #T_1c7b0_row1_col4, #T_1c7b0_row1_col15, #T_1c7b0_row1_col16, #T_1c7b0_row1_col17, #T_1c7b0_row2_col0, #T_1c7b0_row2_col1, #T_1c7b0_row2_col2, #T_1c7b0_row2_col15, #T_1c7b0_row2_col16, #T_1c7b0_row2_col17, #T_1c7b0_row3_col0, #T_1c7b0_row3_col15, #T_1c7b0_row3_col16, #T_1c7b0_row3_col17, #T_1c7b0_row4_col0, #T_1c7b0_row4_col6, #T_1c7b0_row4_col7, #T_1c7b0_row4_col8, #T_1c7b0_row4_col9, #T_1c7b0_row4_col10, #T_1c7b0_row4_col15, #T_1c7b0_row4_col16, #T_1c7b0_row4_col17, #T_1c7b0_row5_col0, #T_1c7b0_row5_col5, #T_1c7b0_row5_col6, #T_1c7b0_row5_col7, #T_1c7b0_row5_col8, #T_1c7b0_row5_col9, #T_1c7b0_row5_col15, #T_1c7b0_row5_col16, #T_1c7b0_row5_col17, #T_1c7b0_row6_col0, #T_1c7b0_row6_col1, #T_1c7b0_row6_col2, #T_1c7b0_row6_col3, #T_1c7b0_row6_col4, #T_1c7b0_row6_col5, #T_1c7b0_row6_col6, #T_1c7b0_row6_col7, #T_1c7b0_row6_col8, #T_1c7b0_row6_col9, #T_1c7b0_row6_col14, #T_1c7b0_row6_col15, #T_1c7b0_row6_col16, #T_1c7b0_row6_col17, #T_1c7b0_row7_col0, #T_1c7b0_row7_col1, #T_1c7b0_row7_col2, #T_1c7b0_row7_col3, #T_1c7b0_row7_col4, #T_1c7b0_row7_col5, #T_1c7b0_row7_col6, #T_1c7b0_row7_col13, #T_1c7b0_row7_col14, #T_1c7b0_row7_col15, #T_1c7b0_row7_col16, #T_1c7b0_row7_col17, #T_1c7b0_row8_col0, #T_1c7b0_row8_col1, #T_1c7b0_row8_col2, #T_1c7b0_row8_col3, #T_1c7b0_row8_col4, #T_1c7b0_row8_col13, #T_1c7b0_row8_col14, #T_1c7b0_row8_col15, #T_1c7b0_row8_col16, #T_1c7b0_row8_col17, #T_1c7b0_row9_col0, #T_1c7b0_row9_col1, #T_1c7b0_row9_col2, #T_1c7b0_row9_col3, #T_1c7b0_row9_col4, #T_1c7b0_row9_col16, #T_1c7b0_row9_col17, #T_1c7b0_row10_col0, #T_1c7b0_row10_col1, #T_1c7b0_row10_col2, #T_1c7b0_row10_col3, #T_1c7b0_row10_col4, #T_1c7b0_row10_col5, #T_1c7b0_row10_col6, #T_1c7b0_row10_col17 {\n",
       "  font-size: 6pt;\n",
       "  background-color: #ffffff;\n",
       "  color: #000000;\n",
       "}\n",
       "#T_1c7b0_row1_col5 {\n",
       "  font-size: 6pt;\n",
       "  background-color: #efefef;\n",
       "  color: #000000;\n",
       "}\n",
       "#T_1c7b0_row1_col6, #T_1c7b0_row1_col13 {\n",
       "  font-size: 6pt;\n",
       "  background-color: #7c7c7c;\n",
       "  color: #f1f1f1;\n",
       "}\n",
       "#T_1c7b0_row1_col7 {\n",
       "  font-size: 6pt;\n",
       "  background-color: #4a4a4a;\n",
       "  color: #f1f1f1;\n",
       "}\n",
       "#T_1c7b0_row1_col8, #T_1c7b0_row1_col9, #T_1c7b0_row1_col10, #T_1c7b0_row2_col5, #T_1c7b0_row2_col6, #T_1c7b0_row2_col7, #T_1c7b0_row2_col11, #T_1c7b0_row2_col12, #T_1c7b0_row2_col13, #T_1c7b0_row3_col4, #T_1c7b0_row3_col12, #T_1c7b0_row3_col13, #T_1c7b0_row4_col1, #T_1c7b0_row4_col2, #T_1c7b0_row4_col3, #T_1c7b0_row4_col12, #T_1c7b0_row4_col13, #T_1c7b0_row5_col12, #T_1c7b0_row6_col11, #T_1c7b0_row9_col11, #T_1c7b0_row10_col11, #T_1c7b0_row10_col12, #T_1c7b0_row10_col13, #T_1c7b0_row10_col14, #T_1c7b0_row10_col15, #T_1c7b0_row10_col16 {\n",
       "  font-size: 6pt;\n",
       "  background-color: #000000;\n",
       "  color: #f1f1f1;\n",
       "}\n",
       "#T_1c7b0_row1_col11 {\n",
       "  font-size: 6pt;\n",
       "  background-color: #606060;\n",
       "  color: #f1f1f1;\n",
       "}\n",
       "#T_1c7b0_row1_col12 {\n",
       "  font-size: 6pt;\n",
       "  background-color: #4d4d4d;\n",
       "  color: #f1f1f1;\n",
       "}\n",
       "#T_1c7b0_row1_col14 {\n",
       "  font-size: 6pt;\n",
       "  background-color: #bbbbbb;\n",
       "  color: #000000;\n",
       "}\n",
       "#T_1c7b0_row2_col3 {\n",
       "  font-size: 6pt;\n",
       "  background-color: #e4e4e4;\n",
       "  color: #000000;\n",
       "}\n",
       "#T_1c7b0_row2_col4, #T_1c7b0_row8_col6 {\n",
       "  font-size: 6pt;\n",
       "  background-color: #6b6b6b;\n",
       "  color: #f1f1f1;\n",
       "}\n",
       "#T_1c7b0_row2_col8, #T_1c7b0_row2_col14, #T_1c7b0_row3_col14 {\n",
       "  font-size: 6pt;\n",
       "  background-color: #171717;\n",
       "  color: #f1f1f1;\n",
       "}\n",
       "#T_1c7b0_row2_col9, #T_1c7b0_row3_col11 {\n",
       "  font-size: 6pt;\n",
       "  background-color: #4b4b4b;\n",
       "  color: #f1f1f1;\n",
       "}\n",
       "#T_1c7b0_row2_col10, #T_1c7b0_row7_col10, #T_1c7b0_row8_col8, #T_1c7b0_row8_col10, #T_1c7b0_row9_col8, #T_1c7b0_row9_col10 {\n",
       "  font-size: 6pt;\n",
       "  background-color: #010101;\n",
       "  color: #f1f1f1;\n",
       "}\n",
       "#T_1c7b0_row3_col1 {\n",
       "  font-size: 6pt;\n",
       "  background-color: #272727;\n",
       "  color: #f1f1f1;\n",
       "}\n",
       "#T_1c7b0_row3_col2 {\n",
       "  font-size: 6pt;\n",
       "  background-color: #0a0a0a;\n",
       "  color: #f1f1f1;\n",
       "}\n",
       "#T_1c7b0_row3_col3 {\n",
       "  font-size: 6pt;\n",
       "  background-color: #050505;\n",
       "  color: #f1f1f1;\n",
       "}\n",
       "#T_1c7b0_row3_col5 {\n",
       "  font-size: 6pt;\n",
       "  background-color: #333333;\n",
       "  color: #f1f1f1;\n",
       "}\n",
       "#T_1c7b0_row3_col6 {\n",
       "  font-size: 6pt;\n",
       "  background-color: #e6e6e6;\n",
       "  color: #000000;\n",
       "}\n",
       "#T_1c7b0_row3_col7, #T_1c7b0_row3_col10 {\n",
       "  font-size: 6pt;\n",
       "  background-color: #fafafa;\n",
       "  color: #000000;\n",
       "}\n",
       "#T_1c7b0_row3_col8 {\n",
       "  font-size: 6pt;\n",
       "  background-color: #fbfbfb;\n",
       "  color: #000000;\n",
       "}\n",
       "#T_1c7b0_row3_col9 {\n",
       "  font-size: 6pt;\n",
       "  background-color: #fdfdfd;\n",
       "  color: #000000;\n",
       "}\n",
       "#T_1c7b0_row4_col4 {\n",
       "  font-size: 6pt;\n",
       "  background-color: #1b1b1b;\n",
       "  color: #f1f1f1;\n",
       "}\n",
       "#T_1c7b0_row4_col5 {\n",
       "  font-size: 6pt;\n",
       "  background-color: #e0e0e0;\n",
       "  color: #000000;\n",
       "}\n",
       "#T_1c7b0_row4_col11 {\n",
       "  font-size: 6pt;\n",
       "  background-color: #4e4e4e;\n",
       "  color: #f1f1f1;\n",
       "}\n",
       "#T_1c7b0_row4_col14 {\n",
       "  font-size: 6pt;\n",
       "  background-color: #767676;\n",
       "  color: #f1f1f1;\n",
       "}\n",
       "#T_1c7b0_row5_col1 {\n",
       "  font-size: 6pt;\n",
       "  background-color: #fcfcfc;\n",
       "  color: #000000;\n",
       "}\n",
       "#T_1c7b0_row5_col2, #T_1c7b0_row5_col3 {\n",
       "  font-size: 6pt;\n",
       "  background-color: #f6f6f6;\n",
       "  color: #000000;\n",
       "}\n",
       "#T_1c7b0_row5_col4, #T_1c7b0_row7_col7 {\n",
       "  font-size: 6pt;\n",
       "  background-color: #f8f8f8;\n",
       "  color: #000000;\n",
       "}\n",
       "#T_1c7b0_row5_col10, #T_1c7b0_row10_col7 {\n",
       "  font-size: 6pt;\n",
       "  background-color: #e8e8e8;\n",
       "  color: #000000;\n",
       "}\n",
       "#T_1c7b0_row5_col11 {\n",
       "  font-size: 6pt;\n",
       "  background-color: #222222;\n",
       "  color: #f1f1f1;\n",
       "}\n",
       "#T_1c7b0_row5_col13, #T_1c7b0_row6_col12 {\n",
       "  font-size: 6pt;\n",
       "  background-color: #090909;\n",
       "  color: #f1f1f1;\n",
       "}\n",
       "#T_1c7b0_row5_col14 {\n",
       "  font-size: 6pt;\n",
       "  background-color: #d0d0d0;\n",
       "  color: #000000;\n",
       "}\n",
       "#T_1c7b0_row6_col10, #T_1c7b0_row7_col11, #T_1c7b0_row9_col6 {\n",
       "  font-size: 6pt;\n",
       "  background-color: #060606;\n",
       "  color: #f1f1f1;\n",
       "}\n",
       "#T_1c7b0_row6_col13 {\n",
       "  font-size: 6pt;\n",
       "  background-color: #979797;\n",
       "  color: #f1f1f1;\n",
       "}\n",
       "#T_1c7b0_row7_col8 {\n",
       "  font-size: 6pt;\n",
       "  background-color: #b6b6b6;\n",
       "  color: #000000;\n",
       "}\n",
       "#T_1c7b0_row7_col9 {\n",
       "  font-size: 6pt;\n",
       "  background-color: #252525;\n",
       "  color: #f1f1f1;\n",
       "}\n",
       "#T_1c7b0_row7_col12 {\n",
       "  font-size: 6pt;\n",
       "  background-color: #999999;\n",
       "  color: #f1f1f1;\n",
       "}\n",
       "#T_1c7b0_row8_col5 {\n",
       "  font-size: 6pt;\n",
       "  background-color: #f9f9f9;\n",
       "  color: #000000;\n",
       "}\n",
       "#T_1c7b0_row8_col7 {\n",
       "  font-size: 6pt;\n",
       "  background-color: #101010;\n",
       "  color: #f1f1f1;\n",
       "}\n",
       "#T_1c7b0_row8_col9, #T_1c7b0_row9_col9 {\n",
       "  font-size: 6pt;\n",
       "  background-color: #020202;\n",
       "  color: #f1f1f1;\n",
       "}\n",
       "#T_1c7b0_row8_col11 {\n",
       "  font-size: 6pt;\n",
       "  background-color: #545454;\n",
       "  color: #f1f1f1;\n",
       "}\n",
       "#T_1c7b0_row8_col12 {\n",
       "  font-size: 6pt;\n",
       "  background-color: #f1f1f1;\n",
       "  color: #000000;\n",
       "}\n",
       "#T_1c7b0_row9_col5 {\n",
       "  font-size: 6pt;\n",
       "  background-color: #f7f7f7;\n",
       "  color: #000000;\n",
       "}\n",
       "#T_1c7b0_row9_col7 {\n",
       "  font-size: 6pt;\n",
       "  background-color: #030303;\n",
       "  color: #f1f1f1;\n",
       "}\n",
       "#T_1c7b0_row9_col12 {\n",
       "  font-size: 6pt;\n",
       "  background-color: #181818;\n",
       "  color: #f1f1f1;\n",
       "}\n",
       "#T_1c7b0_row9_col13 {\n",
       "  font-size: 6pt;\n",
       "  background-color: #303030;\n",
       "  color: #f1f1f1;\n",
       "}\n",
       "#T_1c7b0_row9_col14 {\n",
       "  font-size: 6pt;\n",
       "  background-color: #a9a9a9;\n",
       "  color: #f1f1f1;\n",
       "}\n",
       "#T_1c7b0_row9_col15 {\n",
       "  font-size: 6pt;\n",
       "  background-color: #fefefe;\n",
       "  color: #000000;\n",
       "}\n",
       "#T_1c7b0_row10_col8, #T_1c7b0_row10_col9 {\n",
       "  font-size: 6pt;\n",
       "  background-color: #bababa;\n",
       "  color: #000000;\n",
       "}\n",
       "#T_1c7b0_row10_col10 {\n",
       "  font-size: 6pt;\n",
       "  background-color: #393939;\n",
       "  color: #f1f1f1;\n",
       "}\n",
       "</style>\n",
       "<table id=\"T_1c7b0\">\n",
       "  <thead>\n",
       "    <tr>\n",
       "      <th class=\"blank level0\" >&nbsp;</th>\n",
       "      <th id=\"T_1c7b0_level0_col0\" class=\"col_heading level0 col0\" >0</th>\n",
       "      <th id=\"T_1c7b0_level0_col1\" class=\"col_heading level0 col1\" >1</th>\n",
       "      <th id=\"T_1c7b0_level0_col2\" class=\"col_heading level0 col2\" >2</th>\n",
       "      <th id=\"T_1c7b0_level0_col3\" class=\"col_heading level0 col3\" >3</th>\n",
       "      <th id=\"T_1c7b0_level0_col4\" class=\"col_heading level0 col4\" >4</th>\n",
       "      <th id=\"T_1c7b0_level0_col5\" class=\"col_heading level0 col5\" >5</th>\n",
       "      <th id=\"T_1c7b0_level0_col6\" class=\"col_heading level0 col6\" >6</th>\n",
       "      <th id=\"T_1c7b0_level0_col7\" class=\"col_heading level0 col7\" >7</th>\n",
       "      <th id=\"T_1c7b0_level0_col8\" class=\"col_heading level0 col8\" >8</th>\n",
       "      <th id=\"T_1c7b0_level0_col9\" class=\"col_heading level0 col9\" >9</th>\n",
       "      <th id=\"T_1c7b0_level0_col10\" class=\"col_heading level0 col10\" >10</th>\n",
       "      <th id=\"T_1c7b0_level0_col11\" class=\"col_heading level0 col11\" >11</th>\n",
       "      <th id=\"T_1c7b0_level0_col12\" class=\"col_heading level0 col12\" >12</th>\n",
       "      <th id=\"T_1c7b0_level0_col13\" class=\"col_heading level0 col13\" >13</th>\n",
       "      <th id=\"T_1c7b0_level0_col14\" class=\"col_heading level0 col14\" >14</th>\n",
       "      <th id=\"T_1c7b0_level0_col15\" class=\"col_heading level0 col15\" >15</th>\n",
       "      <th id=\"T_1c7b0_level0_col16\" class=\"col_heading level0 col16\" >16</th>\n",
       "      <th id=\"T_1c7b0_level0_col17\" class=\"col_heading level0 col17\" >17</th>\n",
       "    </tr>\n",
       "  </thead>\n",
       "  <tbody>\n",
       "    <tr>\n",
       "      <th id=\"T_1c7b0_level0_row0\" class=\"row_heading level0 row0\" >0</th>\n",
       "      <td id=\"T_1c7b0_row0_col0\" class=\"data row0 col0\" >0</td>\n",
       "      <td id=\"T_1c7b0_row0_col1\" class=\"data row0 col1\" >0</td>\n",
       "      <td id=\"T_1c7b0_row0_col2\" class=\"data row0 col2\" >0</td>\n",
       "      <td id=\"T_1c7b0_row0_col3\" class=\"data row0 col3\" >0</td>\n",
       "      <td id=\"T_1c7b0_row0_col4\" class=\"data row0 col4\" >0</td>\n",
       "      <td id=\"T_1c7b0_row0_col5\" class=\"data row0 col5\" >0</td>\n",
       "      <td id=\"T_1c7b0_row0_col6\" class=\"data row0 col6\" >0</td>\n",
       "      <td id=\"T_1c7b0_row0_col7\" class=\"data row0 col7\" >0</td>\n",
       "      <td id=\"T_1c7b0_row0_col8\" class=\"data row0 col8\" >0</td>\n",
       "      <td id=\"T_1c7b0_row0_col9\" class=\"data row0 col9\" >0</td>\n",
       "      <td id=\"T_1c7b0_row0_col10\" class=\"data row0 col10\" >0</td>\n",
       "      <td id=\"T_1c7b0_row0_col11\" class=\"data row0 col11\" >0</td>\n",
       "      <td id=\"T_1c7b0_row0_col12\" class=\"data row0 col12\" >0</td>\n",
       "      <td id=\"T_1c7b0_row0_col13\" class=\"data row0 col13\" >0</td>\n",
       "      <td id=\"T_1c7b0_row0_col14\" class=\"data row0 col14\" >0</td>\n",
       "      <td id=\"T_1c7b0_row0_col15\" class=\"data row0 col15\" >0</td>\n",
       "      <td id=\"T_1c7b0_row0_col16\" class=\"data row0 col16\" >0</td>\n",
       "      <td id=\"T_1c7b0_row0_col17\" class=\"data row0 col17\" >0</td>\n",
       "    </tr>\n",
       "    <tr>\n",
       "      <th id=\"T_1c7b0_level0_row1\" class=\"row_heading level0 row1\" >1</th>\n",
       "      <td id=\"T_1c7b0_row1_col0\" class=\"data row1 col0\" >0</td>\n",
       "      <td id=\"T_1c7b0_row1_col1\" class=\"data row1 col1\" >0</td>\n",
       "      <td id=\"T_1c7b0_row1_col2\" class=\"data row1 col2\" >0</td>\n",
       "      <td id=\"T_1c7b0_row1_col3\" class=\"data row1 col3\" >0</td>\n",
       "      <td id=\"T_1c7b0_row1_col4\" class=\"data row1 col4\" >0</td>\n",
       "      <td id=\"T_1c7b0_row1_col5\" class=\"data row1 col5\" >29</td>\n",
       "      <td id=\"T_1c7b0_row1_col6\" class=\"data row1 col6\" >150</td>\n",
       "      <td id=\"T_1c7b0_row1_col7\" class=\"data row1 col7\" >195</td>\n",
       "      <td id=\"T_1c7b0_row1_col8\" class=\"data row1 col8\" >254</td>\n",
       "      <td id=\"T_1c7b0_row1_col9\" class=\"data row1 col9\" >255</td>\n",
       "      <td id=\"T_1c7b0_row1_col10\" class=\"data row1 col10\" >254</td>\n",
       "      <td id=\"T_1c7b0_row1_col11\" class=\"data row1 col11\" >176</td>\n",
       "      <td id=\"T_1c7b0_row1_col12\" class=\"data row1 col12\" >193</td>\n",
       "      <td id=\"T_1c7b0_row1_col13\" class=\"data row1 col13\" >150</td>\n",
       "      <td id=\"T_1c7b0_row1_col14\" class=\"data row1 col14\" >96</td>\n",
       "      <td id=\"T_1c7b0_row1_col15\" class=\"data row1 col15\" >0</td>\n",
       "      <td id=\"T_1c7b0_row1_col16\" class=\"data row1 col16\" >0</td>\n",
       "      <td id=\"T_1c7b0_row1_col17\" class=\"data row1 col17\" >0</td>\n",
       "    </tr>\n",
       "    <tr>\n",
       "      <th id=\"T_1c7b0_level0_row2\" class=\"row_heading level0 row2\" >2</th>\n",
       "      <td id=\"T_1c7b0_row2_col0\" class=\"data row2 col0\" >0</td>\n",
       "      <td id=\"T_1c7b0_row2_col1\" class=\"data row2 col1\" >0</td>\n",
       "      <td id=\"T_1c7b0_row2_col2\" class=\"data row2 col2\" >0</td>\n",
       "      <td id=\"T_1c7b0_row2_col3\" class=\"data row2 col3\" >48</td>\n",
       "      <td id=\"T_1c7b0_row2_col4\" class=\"data row2 col4\" >166</td>\n",
       "      <td id=\"T_1c7b0_row2_col5\" class=\"data row2 col5\" >224</td>\n",
       "      <td id=\"T_1c7b0_row2_col6\" class=\"data row2 col6\" >253</td>\n",
       "      <td id=\"T_1c7b0_row2_col7\" class=\"data row2 col7\" >253</td>\n",
       "      <td id=\"T_1c7b0_row2_col8\" class=\"data row2 col8\" >234</td>\n",
       "      <td id=\"T_1c7b0_row2_col9\" class=\"data row2 col9\" >196</td>\n",
       "      <td id=\"T_1c7b0_row2_col10\" class=\"data row2 col10\" >253</td>\n",
       "      <td id=\"T_1c7b0_row2_col11\" class=\"data row2 col11\" >253</td>\n",
       "      <td id=\"T_1c7b0_row2_col12\" class=\"data row2 col12\" >253</td>\n",
       "      <td id=\"T_1c7b0_row2_col13\" class=\"data row2 col13\" >253</td>\n",
       "      <td id=\"T_1c7b0_row2_col14\" class=\"data row2 col14\" >233</td>\n",
       "      <td id=\"T_1c7b0_row2_col15\" class=\"data row2 col15\" >0</td>\n",
       "      <td id=\"T_1c7b0_row2_col16\" class=\"data row2 col16\" >0</td>\n",
       "      <td id=\"T_1c7b0_row2_col17\" class=\"data row2 col17\" >0</td>\n",
       "    </tr>\n",
       "    <tr>\n",
       "      <th id=\"T_1c7b0_level0_row3\" class=\"row_heading level0 row3\" >3</th>\n",
       "      <td id=\"T_1c7b0_row3_col0\" class=\"data row3 col0\" >0</td>\n",
       "      <td id=\"T_1c7b0_row3_col1\" class=\"data row3 col1\" >93</td>\n",
       "      <td id=\"T_1c7b0_row3_col2\" class=\"data row3 col2\" >244</td>\n",
       "      <td id=\"T_1c7b0_row3_col3\" class=\"data row3 col3\" >249</td>\n",
       "      <td id=\"T_1c7b0_row3_col4\" class=\"data row3 col4\" >253</td>\n",
       "      <td id=\"T_1c7b0_row3_col5\" class=\"data row3 col5\" >187</td>\n",
       "      <td id=\"T_1c7b0_row3_col6\" class=\"data row3 col6\" >46</td>\n",
       "      <td id=\"T_1c7b0_row3_col7\" class=\"data row3 col7\" >10</td>\n",
       "      <td id=\"T_1c7b0_row3_col8\" class=\"data row3 col8\" >8</td>\n",
       "      <td id=\"T_1c7b0_row3_col9\" class=\"data row3 col9\" >4</td>\n",
       "      <td id=\"T_1c7b0_row3_col10\" class=\"data row3 col10\" >10</td>\n",
       "      <td id=\"T_1c7b0_row3_col11\" class=\"data row3 col11\" >194</td>\n",
       "      <td id=\"T_1c7b0_row3_col12\" class=\"data row3 col12\" >253</td>\n",
       "      <td id=\"T_1c7b0_row3_col13\" class=\"data row3 col13\" >253</td>\n",
       "      <td id=\"T_1c7b0_row3_col14\" class=\"data row3 col14\" >233</td>\n",
       "      <td id=\"T_1c7b0_row3_col15\" class=\"data row3 col15\" >0</td>\n",
       "      <td id=\"T_1c7b0_row3_col16\" class=\"data row3 col16\" >0</td>\n",
       "      <td id=\"T_1c7b0_row3_col17\" class=\"data row3 col17\" >0</td>\n",
       "    </tr>\n",
       "    <tr>\n",
       "      <th id=\"T_1c7b0_level0_row4\" class=\"row_heading level0 row4\" >4</th>\n",
       "      <td id=\"T_1c7b0_row4_col0\" class=\"data row4 col0\" >0</td>\n",
       "      <td id=\"T_1c7b0_row4_col1\" class=\"data row4 col1\" >107</td>\n",
       "      <td id=\"T_1c7b0_row4_col2\" class=\"data row4 col2\" >253</td>\n",
       "      <td id=\"T_1c7b0_row4_col3\" class=\"data row4 col3\" >253</td>\n",
       "      <td id=\"T_1c7b0_row4_col4\" class=\"data row4 col4\" >230</td>\n",
       "      <td id=\"T_1c7b0_row4_col5\" class=\"data row4 col5\" >48</td>\n",
       "      <td id=\"T_1c7b0_row4_col6\" class=\"data row4 col6\" >0</td>\n",
       "      <td id=\"T_1c7b0_row4_col7\" class=\"data row4 col7\" >0</td>\n",
       "      <td id=\"T_1c7b0_row4_col8\" class=\"data row4 col8\" >0</td>\n",
       "      <td id=\"T_1c7b0_row4_col9\" class=\"data row4 col9\" >0</td>\n",
       "      <td id=\"T_1c7b0_row4_col10\" class=\"data row4 col10\" >0</td>\n",
       "      <td id=\"T_1c7b0_row4_col11\" class=\"data row4 col11\" >192</td>\n",
       "      <td id=\"T_1c7b0_row4_col12\" class=\"data row4 col12\" >253</td>\n",
       "      <td id=\"T_1c7b0_row4_col13\" class=\"data row4 col13\" >253</td>\n",
       "      <td id=\"T_1c7b0_row4_col14\" class=\"data row4 col14\" >156</td>\n",
       "      <td id=\"T_1c7b0_row4_col15\" class=\"data row4 col15\" >0</td>\n",
       "      <td id=\"T_1c7b0_row4_col16\" class=\"data row4 col16\" >0</td>\n",
       "      <td id=\"T_1c7b0_row4_col17\" class=\"data row4 col17\" >0</td>\n",
       "    </tr>\n",
       "    <tr>\n",
       "      <th id=\"T_1c7b0_level0_row5\" class=\"row_heading level0 row5\" >5</th>\n",
       "      <td id=\"T_1c7b0_row5_col0\" class=\"data row5 col0\" >0</td>\n",
       "      <td id=\"T_1c7b0_row5_col1\" class=\"data row5 col1\" >3</td>\n",
       "      <td id=\"T_1c7b0_row5_col2\" class=\"data row5 col2\" >20</td>\n",
       "      <td id=\"T_1c7b0_row5_col3\" class=\"data row5 col3\" >20</td>\n",
       "      <td id=\"T_1c7b0_row5_col4\" class=\"data row5 col4\" >15</td>\n",
       "      <td id=\"T_1c7b0_row5_col5\" class=\"data row5 col5\" >0</td>\n",
       "      <td id=\"T_1c7b0_row5_col6\" class=\"data row5 col6\" >0</td>\n",
       "      <td id=\"T_1c7b0_row5_col7\" class=\"data row5 col7\" >0</td>\n",
       "      <td id=\"T_1c7b0_row5_col8\" class=\"data row5 col8\" >0</td>\n",
       "      <td id=\"T_1c7b0_row5_col9\" class=\"data row5 col9\" >0</td>\n",
       "      <td id=\"T_1c7b0_row5_col10\" class=\"data row5 col10\" >43</td>\n",
       "      <td id=\"T_1c7b0_row5_col11\" class=\"data row5 col11\" >224</td>\n",
       "      <td id=\"T_1c7b0_row5_col12\" class=\"data row5 col12\" >253</td>\n",
       "      <td id=\"T_1c7b0_row5_col13\" class=\"data row5 col13\" >245</td>\n",
       "      <td id=\"T_1c7b0_row5_col14\" class=\"data row5 col14\" >74</td>\n",
       "      <td id=\"T_1c7b0_row5_col15\" class=\"data row5 col15\" >0</td>\n",
       "      <td id=\"T_1c7b0_row5_col16\" class=\"data row5 col16\" >0</td>\n",
       "      <td id=\"T_1c7b0_row5_col17\" class=\"data row5 col17\" >0</td>\n",
       "    </tr>\n",
       "    <tr>\n",
       "      <th id=\"T_1c7b0_level0_row6\" class=\"row_heading level0 row6\" >6</th>\n",
       "      <td id=\"T_1c7b0_row6_col0\" class=\"data row6 col0\" >0</td>\n",
       "      <td id=\"T_1c7b0_row6_col1\" class=\"data row6 col1\" >0</td>\n",
       "      <td id=\"T_1c7b0_row6_col2\" class=\"data row6 col2\" >0</td>\n",
       "      <td id=\"T_1c7b0_row6_col3\" class=\"data row6 col3\" >0</td>\n",
       "      <td id=\"T_1c7b0_row6_col4\" class=\"data row6 col4\" >0</td>\n",
       "      <td id=\"T_1c7b0_row6_col5\" class=\"data row6 col5\" >0</td>\n",
       "      <td id=\"T_1c7b0_row6_col6\" class=\"data row6 col6\" >0</td>\n",
       "      <td id=\"T_1c7b0_row6_col7\" class=\"data row6 col7\" >0</td>\n",
       "      <td id=\"T_1c7b0_row6_col8\" class=\"data row6 col8\" >0</td>\n",
       "      <td id=\"T_1c7b0_row6_col9\" class=\"data row6 col9\" >0</td>\n",
       "      <td id=\"T_1c7b0_row6_col10\" class=\"data row6 col10\" >249</td>\n",
       "      <td id=\"T_1c7b0_row6_col11\" class=\"data row6 col11\" >253</td>\n",
       "      <td id=\"T_1c7b0_row6_col12\" class=\"data row6 col12\" >245</td>\n",
       "      <td id=\"T_1c7b0_row6_col13\" class=\"data row6 col13\" >126</td>\n",
       "      <td id=\"T_1c7b0_row6_col14\" class=\"data row6 col14\" >0</td>\n",
       "      <td id=\"T_1c7b0_row6_col15\" class=\"data row6 col15\" >0</td>\n",
       "      <td id=\"T_1c7b0_row6_col16\" class=\"data row6 col16\" >0</td>\n",
       "      <td id=\"T_1c7b0_row6_col17\" class=\"data row6 col17\" >0</td>\n",
       "    </tr>\n",
       "    <tr>\n",
       "      <th id=\"T_1c7b0_level0_row7\" class=\"row_heading level0 row7\" >7</th>\n",
       "      <td id=\"T_1c7b0_row7_col0\" class=\"data row7 col0\" >0</td>\n",
       "      <td id=\"T_1c7b0_row7_col1\" class=\"data row7 col1\" >0</td>\n",
       "      <td id=\"T_1c7b0_row7_col2\" class=\"data row7 col2\" >0</td>\n",
       "      <td id=\"T_1c7b0_row7_col3\" class=\"data row7 col3\" >0</td>\n",
       "      <td id=\"T_1c7b0_row7_col4\" class=\"data row7 col4\" >0</td>\n",
       "      <td id=\"T_1c7b0_row7_col5\" class=\"data row7 col5\" >0</td>\n",
       "      <td id=\"T_1c7b0_row7_col6\" class=\"data row7 col6\" >0</td>\n",
       "      <td id=\"T_1c7b0_row7_col7\" class=\"data row7 col7\" >14</td>\n",
       "      <td id=\"T_1c7b0_row7_col8\" class=\"data row7 col8\" >101</td>\n",
       "      <td id=\"T_1c7b0_row7_col9\" class=\"data row7 col9\" >223</td>\n",
       "      <td id=\"T_1c7b0_row7_col10\" class=\"data row7 col10\" >253</td>\n",
       "      <td id=\"T_1c7b0_row7_col11\" class=\"data row7 col11\" >248</td>\n",
       "      <td id=\"T_1c7b0_row7_col12\" class=\"data row7 col12\" >124</td>\n",
       "      <td id=\"T_1c7b0_row7_col13\" class=\"data row7 col13\" >0</td>\n",
       "      <td id=\"T_1c7b0_row7_col14\" class=\"data row7 col14\" >0</td>\n",
       "      <td id=\"T_1c7b0_row7_col15\" class=\"data row7 col15\" >0</td>\n",
       "      <td id=\"T_1c7b0_row7_col16\" class=\"data row7 col16\" >0</td>\n",
       "      <td id=\"T_1c7b0_row7_col17\" class=\"data row7 col17\" >0</td>\n",
       "    </tr>\n",
       "    <tr>\n",
       "      <th id=\"T_1c7b0_level0_row8\" class=\"row_heading level0 row8\" >8</th>\n",
       "      <td id=\"T_1c7b0_row8_col0\" class=\"data row8 col0\" >0</td>\n",
       "      <td id=\"T_1c7b0_row8_col1\" class=\"data row8 col1\" >0</td>\n",
       "      <td id=\"T_1c7b0_row8_col2\" class=\"data row8 col2\" >0</td>\n",
       "      <td id=\"T_1c7b0_row8_col3\" class=\"data row8 col3\" >0</td>\n",
       "      <td id=\"T_1c7b0_row8_col4\" class=\"data row8 col4\" >0</td>\n",
       "      <td id=\"T_1c7b0_row8_col5\" class=\"data row8 col5\" >11</td>\n",
       "      <td id=\"T_1c7b0_row8_col6\" class=\"data row8 col6\" >166</td>\n",
       "      <td id=\"T_1c7b0_row8_col7\" class=\"data row8 col7\" >239</td>\n",
       "      <td id=\"T_1c7b0_row8_col8\" class=\"data row8 col8\" >253</td>\n",
       "      <td id=\"T_1c7b0_row8_col9\" class=\"data row8 col9\" >253</td>\n",
       "      <td id=\"T_1c7b0_row8_col10\" class=\"data row8 col10\" >253</td>\n",
       "      <td id=\"T_1c7b0_row8_col11\" class=\"data row8 col11\" >187</td>\n",
       "      <td id=\"T_1c7b0_row8_col12\" class=\"data row8 col12\" >30</td>\n",
       "      <td id=\"T_1c7b0_row8_col13\" class=\"data row8 col13\" >0</td>\n",
       "      <td id=\"T_1c7b0_row8_col14\" class=\"data row8 col14\" >0</td>\n",
       "      <td id=\"T_1c7b0_row8_col15\" class=\"data row8 col15\" >0</td>\n",
       "      <td id=\"T_1c7b0_row8_col16\" class=\"data row8 col16\" >0</td>\n",
       "      <td id=\"T_1c7b0_row8_col17\" class=\"data row8 col17\" >0</td>\n",
       "    </tr>\n",
       "    <tr>\n",
       "      <th id=\"T_1c7b0_level0_row9\" class=\"row_heading level0 row9\" >9</th>\n",
       "      <td id=\"T_1c7b0_row9_col0\" class=\"data row9 col0\" >0</td>\n",
       "      <td id=\"T_1c7b0_row9_col1\" class=\"data row9 col1\" >0</td>\n",
       "      <td id=\"T_1c7b0_row9_col2\" class=\"data row9 col2\" >0</td>\n",
       "      <td id=\"T_1c7b0_row9_col3\" class=\"data row9 col3\" >0</td>\n",
       "      <td id=\"T_1c7b0_row9_col4\" class=\"data row9 col4\" >0</td>\n",
       "      <td id=\"T_1c7b0_row9_col5\" class=\"data row9 col5\" >16</td>\n",
       "      <td id=\"T_1c7b0_row9_col6\" class=\"data row9 col6\" >248</td>\n",
       "      <td id=\"T_1c7b0_row9_col7\" class=\"data row9 col7\" >250</td>\n",
       "      <td id=\"T_1c7b0_row9_col8\" class=\"data row9 col8\" >253</td>\n",
       "      <td id=\"T_1c7b0_row9_col9\" class=\"data row9 col9\" >253</td>\n",
       "      <td id=\"T_1c7b0_row9_col10\" class=\"data row9 col10\" >253</td>\n",
       "      <td id=\"T_1c7b0_row9_col11\" class=\"data row9 col11\" >253</td>\n",
       "      <td id=\"T_1c7b0_row9_col12\" class=\"data row9 col12\" >232</td>\n",
       "      <td id=\"T_1c7b0_row9_col13\" class=\"data row9 col13\" >213</td>\n",
       "      <td id=\"T_1c7b0_row9_col14\" class=\"data row9 col14\" >111</td>\n",
       "      <td id=\"T_1c7b0_row9_col15\" class=\"data row9 col15\" >2</td>\n",
       "      <td id=\"T_1c7b0_row9_col16\" class=\"data row9 col16\" >0</td>\n",
       "      <td id=\"T_1c7b0_row9_col17\" class=\"data row9 col17\" >0</td>\n",
       "    </tr>\n",
       "    <tr>\n",
       "      <th id=\"T_1c7b0_level0_row10\" class=\"row_heading level0 row10\" >10</th>\n",
       "      <td id=\"T_1c7b0_row10_col0\" class=\"data row10 col0\" >0</td>\n",
       "      <td id=\"T_1c7b0_row10_col1\" class=\"data row10 col1\" >0</td>\n",
       "      <td id=\"T_1c7b0_row10_col2\" class=\"data row10 col2\" >0</td>\n",
       "      <td id=\"T_1c7b0_row10_col3\" class=\"data row10 col3\" >0</td>\n",
       "      <td id=\"T_1c7b0_row10_col4\" class=\"data row10 col4\" >0</td>\n",
       "      <td id=\"T_1c7b0_row10_col5\" class=\"data row10 col5\" >0</td>\n",
       "      <td id=\"T_1c7b0_row10_col6\" class=\"data row10 col6\" >0</td>\n",
       "      <td id=\"T_1c7b0_row10_col7\" class=\"data row10 col7\" >43</td>\n",
       "      <td id=\"T_1c7b0_row10_col8\" class=\"data row10 col8\" >98</td>\n",
       "      <td id=\"T_1c7b0_row10_col9\" class=\"data row10 col9\" >98</td>\n",
       "      <td id=\"T_1c7b0_row10_col10\" class=\"data row10 col10\" >208</td>\n",
       "      <td id=\"T_1c7b0_row10_col11\" class=\"data row10 col11\" >253</td>\n",
       "      <td id=\"T_1c7b0_row10_col12\" class=\"data row10 col12\" >253</td>\n",
       "      <td id=\"T_1c7b0_row10_col13\" class=\"data row10 col13\" >253</td>\n",
       "      <td id=\"T_1c7b0_row10_col14\" class=\"data row10 col14\" >253</td>\n",
       "      <td id=\"T_1c7b0_row10_col15\" class=\"data row10 col15\" >187</td>\n",
       "      <td id=\"T_1c7b0_row10_col16\" class=\"data row10 col16\" >22</td>\n",
       "      <td id=\"T_1c7b0_row10_col17\" class=\"data row10 col17\" >0</td>\n",
       "    </tr>\n",
       "  </tbody>\n",
       "</table>\n"
      ],
      "text/plain": [
       "<pandas.io.formats.style.Styler at 0x7fca8c60b850>"
      ]
     },
     "execution_count": 17,
     "metadata": {},
     "output_type": "execute_result"
    }
   ],
   "source": [
    "im3_t = tensor(im3)\n",
    "df = pd.DataFrame(im3_t[4:15, 4:22])\n",
    "df.style.set_properties(**{'font-size':'6pt'}).background_gradient('Greys')"
   ]
  },
  {
   "cell_type": "markdown",
   "id": "9362f81c-a3f1-4e10-9b29-0bece2835c41",
   "metadata": {},
   "source": [
    "im3_t = tensor(im3) -> grabs im3 and turns it to a tensor.  \n",
    "df = pd.DataFrame(im3_t[4:15, 4:22]) -> grabs part of the image, that is [4:15, 4:22]  \n",
    "df.style.set_properties(**{'font-size':'6pt'}).background_gradient('Greys') -> turns it to a panda's dataframe\n"
   ]
  },
  {
   "cell_type": "markdown",
   "id": "59059b66-8d84-4760-aad0-fa2f3a535e3d",
   "metadata": {},
   "source": [
    "Reason for turning it to a panda dataframe is because panda's dataframe has a convenient thing called background_gradient() that turns a background into a gradient."
   ]
  },
  {
   "cell_type": "markdown",
   "id": "d9b5efd5-46a5-422d-886b-b5c9b1b330b3",
   "metadata": {},
   "source": [
    "In the output, 0s are the whites and 255 are the blacks. Then there are shades of grey that vary between 0 and 255."
   ]
  },
  {
   "cell_type": "markdown",
   "id": "0b61d06f-ebe0-4898-b68f-5e11d38a528a",
   "metadata": {},
   "source": [
    "## Creating a model that detects a 3"
   ]
  },
  {
   "cell_type": "markdown",
   "id": "36bbb9df-b422-4073-8ba5-0b82f31cf5ee",
   "metadata": {},
   "source": [
    "Idea is, if it doesn't recognise that a number is a 3, then it must be a 7."
   ]
  },
  {
   "cell_type": "markdown",
   "id": "8fed61c0-f901-4991-8b15-56aac5c73cdd",
   "metadata": {},
   "source": [
    "### Pixel Similarity"
   ]
  },
  {
   "cell_type": "markdown",
   "id": "ebabda68-816b-4da9-adff-b72a91ef1d27",
   "metadata": {},
   "source": [
    "- Find the average pixel value forevery pixe; of the threes and sevens.  \n",
    "- The two group averages define the \"ideal\" 3 and 7.  \n",
    "- Then to classify an image as a digit, we see which of these two ideal digits the image is similar to."
   ]
  },
  {
   "cell_type": "markdown",
   "id": "9c941399-bee6-43d1-8643-890a62a7942a",
   "metadata": {},
   "source": [
    "#### Create a baseline model"
   ]
  },
  {
   "cell_type": "markdown",
   "id": "4c24ce47-79f0-4ca5-84e4-ed959090a731",
   "metadata": {},
   "source": [
    "Baseline model -> a simple model which you are confident that it can perform reasonably well, should be simple to implement and easy to test."
   ]
  },
  {
   "cell_type": "markdown",
   "id": "7abcdeac-5804-4d4b-bd5f-f44b741879a3",
   "metadata": {},
   "source": [
    "First, we need to list all the images of sevens and threes as tensors."
   ]
  },
  {
   "cell_type": "code",
   "execution_count": 18,
   "id": "776fab85-fa5f-4fe3-9fe3-4e17cc728e67",
   "metadata": {},
   "outputs": [
    {
     "data": {
      "text/plain": [
       "(6131, 6265)"
      ]
     },
     "execution_count": 18,
     "metadata": {},
     "output_type": "execute_result"
    }
   ],
   "source": [
    "seven_tensors = [tensor(Image.open(o)) for o in sevens]\n",
    "three_tensors = [tensor(Image.open(o)) for o in threes]\n",
    "len(three_tensors), len(seven_tensors)"
   ]
  },
  {
   "cell_type": "code",
   "execution_count": 19,
   "id": "5a7f63c8-0f04-4e84-b92c-686c8c7afb24",
   "metadata": {},
   "outputs": [
    {
     "data": {
      "image/png": "[encoded data removed]",
      "text/plain": [
       "<Figure size 72x72 with 1 Axes>"
      ]
     },
     "metadata": {
      "needs_background": "light"
     },
     "output_type": "display_data"
    }
   ],
   "source": [
    "show_image(three_tensors[1]);"
   ]
  },
  {
   "cell_type": "markdown",
   "id": "4d60a252-995b-4090-a651-47437a041381",
   "metadata": {},
   "source": [
    "We can now display one of the 3s in the three_tensor list.  \n",
    "Remember, this is a tensor and not a PIL image as we had seen before. Jupyter doesn't know how to display tensor so we use show_image()."
   ]
  },
  {
   "cell_type": "markdown",
   "id": "bd7a07f9-aabf-4b4d-9646-d7e6673dec5f",
   "metadata": {},
   "source": [
    "We now need to get the average of all those 3s and 7s.  \n",
    "First we need to change three_tensors and seven_tensors from lists, which can't easily do mathematical computations."
   ]
  },
  {
   "cell_type": "code",
   "execution_count": 20,
   "id": "7021a774-6f33-43ac-86ea-e7acd960a1a2",
   "metadata": {},
   "outputs": [
    {
     "data": {
      "text/plain": [
       "list"
      ]
     },
     "execution_count": 20,
     "metadata": {},
     "output_type": "execute_result"
    }
   ],
   "source": [
    "type(seven_tensors)"
   ]
  },
  {
   "cell_type": "markdown",
   "id": "b34f9595-773b-4f12-a094-d44b0cda7b1a",
   "metadata": {},
   "source": [
    "So we first stack all these 28×28 pixels images on top of each other to create like a 3D cube of images, quite like a tensor."
   ]
  },
  {
   "cell_type": "code",
   "execution_count": 21,
   "id": "10bce12d-161c-465c-b3d8-4c9444496e5b",
   "metadata": {},
   "outputs": [
    {
     "data": {
      "text/plain": [
       "torch.Size([6131, 28, 28])"
      ]
     },
     "execution_count": 21,
     "metadata": {},
     "output_type": "execute_result"
    }
   ],
   "source": [
    "stacked_sevens = torch.stack(seven_tensors).float()/255\n",
    "stacked_threes = torch.stack(three_tensors).float()/255\n",
    "stacked_threes.shape"
   ]
  },
  {
   "cell_type": "markdown",
   "id": "2f1cc369-f7b0-4f7e-b21f-b9aff17b1447",
   "metadata": {},
   "source": [
    "This turns the list to a tensor so the shape is now 6131 by 28 by 28.  \n",
    "More like a cube of height 6131 that is 28×28."
   ]
  },
  {
   "cell_type": "markdown",
   "id": "70133aa5-2323-453e-b467-6525cefae115",
   "metadata": {},
   "source": [
    "Now if we are going to find the mean, we need to change them to floating point values because we don't want to kind of have integers rounding off.  \n",
    "Also, its kind of a standard in computer vision that when you are working with floats, expect them to be between 0 and 1, so we divide by 255 because they are between 0 and 255."
   ]
  },
  {
   "cell_type": "markdown",
   "id": "3a35b51d-34c0-4fd5-af91-ad4b25f29b06",
   "metadata": {},
   "source": [
    "The output is a Rank 3 tensor as it has three axes."
   ]
  },
  {
   "cell_type": "code",
   "execution_count": 22,
   "id": "cdb5215a-9823-4af8-995e-67f1b61ff26f",
   "metadata": {},
   "outputs": [
    {
     "data": {
      "text/plain": [
       "3"
      ]
     },
     "execution_count": 22,
     "metadata": {},
     "output_type": "execute_result"
    }
   ],
   "source": [
    "len(stacked_threes.shape)"
   ]
  },
  {
   "cell_type": "markdown",
   "id": "3445ed61-3d08-4efa-aa5e-81aa84cd943a",
   "metadata": {},
   "source": [
    "We can also get it from 'ndim' that stands for number of dimensions."
   ]
  },
  {
   "cell_type": "code",
   "execution_count": 23,
   "id": "55401832-9e64-4362-b641-471693a9066e",
   "metadata": {},
   "outputs": [
    {
     "data": {
      "text/plain": [
       "3"
      ]
     },
     "execution_count": 23,
     "metadata": {},
     "output_type": "execute_result"
    }
   ],
   "source": [
    "stacked_threes.ndim"
   ]
  },
  {
   "cell_type": "markdown",
   "id": "3c50974b-2a88-4aeb-886d-bcd9864f8535",
   "metadata": {},
   "source": [
    "Numpy tends to call it axis, PyTorch tends to call it dimension."
   ]
  },
  {
   "cell_type": "markdown",
   "id": "c5f0d7fe-693f-4366-8c99-133b2e4aae23",
   "metadata": {},
   "source": [
    "Rank -> Number of axes or dimensions in a tensor.  \n",
    "Shape -> Size of each axis of a tensor."
   ]
  },
  {
   "cell_type": "code",
   "execution_count": 24,
   "id": "1b4e3d22-c903-4abf-93e9-7525b4c8b415",
   "metadata": {},
   "outputs": [
    {
     "data": {
      "image/png": "[encoded data removed]",
      "text/plain": [
       "<Figure size 72x72 with 1 Axes>"
      ]
     },
     "metadata": {
      "needs_background": "light"
     },
     "output_type": "display_data"
    }
   ],
   "source": [
    "mean3 = stacked_threes.mean(0)\n",
    "show_image(mean3);"
   ]
  },
  {
   "cell_type": "markdown",
   "id": "eb3748dc-6357-41c2-8ae8-b56e3be4d1d9",
   "metadata": {},
   "source": [
    "This gives us the mean of just the 0 axis, that is the mean across the images.  \n",
    "Takes the mean across the 6131 axis."
   ]
  },
  {
   "cell_type": "markdown",
   "id": "80105f57-7244-4cd0-81d0-8254fb851e86",
   "metadata": {},
   "source": [
    "When we show the image, we get the 'ideal' 3."
   ]
  },
  {
   "cell_type": "markdown",
   "id": "c1d792b9-5ba2-4565-bc82-62b457264dcc",
   "metadata": {},
   "source": [
    "Now we, we can do the same for 7:"
   ]
  },
  {
   "cell_type": "code",
   "execution_count": 25,
   "id": "0fe4f154-61f0-4a91-b4ce-c2f48ae769a1",
   "metadata": {},
   "outputs": [
    {
     "data": {
      "image/png": "[encoded data removed]",
      "text/plain": [
       "<Figure size 72x72 with 1 Axes>"
      ]
     },
     "metadata": {
      "needs_background": "light"
     },
     "output_type": "display_data"
    }
   ],
   "source": [
    "mean7 = stacked_sevens.mean(0)\n",
    "show_image(mean7);"
   ]
  },
  {
   "cell_type": "markdown",
   "id": "1dd2a2cf-b5a3-46fc-b2a9-fe639c7444f3",
   "metadata": {},
   "source": [
    "This shows us the 'ideal' 7."
   ]
  },
  {
   "cell_type": "markdown",
   "id": "7133e85d-a6d8-4064-b8a6-f09d3f68a8d4",
   "metadata": {},
   "source": [
    "Now, let's grab a 3:"
   ]
  },
  {
   "cell_type": "code",
   "execution_count": 26,
   "id": "1258f751-dd93-4c51-8727-47c9c734690b",
   "metadata": {},
   "outputs": [
    {
     "data": {
      "image/png": "[encoded data removed]",
      "text/plain": [
       "<Figure size 72x72 with 1 Axes>"
      ]
     },
     "metadata": {
      "needs_background": "light"
     },
     "output_type": "display_data"
    }
   ],
   "source": [
    "a_3 = stacked_threes[1]\n",
    "show_image(a_3);"
   ]
  },
  {
   "cell_type": "markdown",
   "id": "0cf6dbb7-610f-4c2e-a1e5-6564e43fdfe0",
   "metadata": {},
   "source": [
    "We can find if the a_3 is similar to the 'ideal' 3 or 7.  \n",
    "The one that is more similar to, that's the answer."
   ]
  },
  {
   "cell_type": "markdown",
   "id": "2e4078ab-1f4f-4b59-89d3-8362906be2ae",
   "metadata": {},
   "source": [
    "We just can't add up the difference between the pixel of the image and the ideal digit because some differences will be negative and some will be positive and they'll cancel out. This will result in an image thats too dark in some places and too light in others."
   ]
  },
  {
   "cell_type": "markdown",
   "id": "b01e339a-0afc-4a9d-b4d2-2279ec662960",
   "metadata": {},
   "source": [
    "To avoid this, we have to make them all positive values.  \n",
    "This can be achieved by:  \n",
    "1) Finding the absolute values (simply means removing the minus sign), the take the average. This is called the Mean Absolute Difference or L1 norm.  \n",
    "2) Take the square of each difference and the take the mean then find the square root to undo the squaring. This is called Root Mean Squared Error or L2 norm.\n",
    "    "
   ]
  },
  {
   "cell_type": "code",
   "execution_count": 27,
   "id": "1bc5438f-1430-4c5d-8ee2-131d2701d629",
   "metadata": {},
   "outputs": [
    {
     "data": {
      "text/plain": [
       "(tensor(0.1114), tensor(0.2021))"
      ]
     },
     "execution_count": 27,
     "metadata": {},
     "output_type": "execute_result"
    }
   ],
   "source": [
    "dist_3_abs = (a_3-mean3).abs().mean()\n",
    "dist_3_sqr = ((a_3-mean3)**2).mean().sqrt()\n",
    "dist_3_abs, dist_3_sqr"
   ]
  },
  {
   "cell_type": "code",
   "execution_count": 28,
   "id": "3570d2de-f8ca-4312-b613-7a0707f7bb19",
   "metadata": {},
   "outputs": [
    {
     "data": {
      "text/plain": [
       "(tensor(0.1586), tensor(0.3021))"
      ]
     },
     "execution_count": 28,
     "metadata": {},
     "output_type": "execute_result"
    }
   ],
   "source": [
    "dist_7_abs = (a_3-mean7).abs().mean()\n",
    "dist_7_sqr = ((a_3-mean7)**2).mean().sqrt()\n",
    "dist_7_abs, dist_7_sqr"
   ]
  },
  {
   "cell_type": "markdown",
   "id": "bf919fa8-f610-44f9-aff0-e782e9c8b1f4",
   "metadata": {},
   "source": [
    "We do for both 3 and 7."
   ]
  },
  {
   "cell_type": "markdown",
   "id": "b732b7c8-bbe3-4e53-8596-04755b386407",
   "metadata": {},
   "source": [
    "The distance in terms of absolute from mean of 3 is 0.114 and mean of 7 is 0.1586 so its close to the mean of 3 than the mean of 7. Therefore, we can guess that its a 3 based on the mean absolute differences.  \n",
    "This is same for the root mean squared error."
   ]
  },
  {
   "cell_type": "markdown",
   "id": "bfcb6ef3-6c07-4359-86d2-3d029f51ac82",
   "metadata": {},
   "source": [
    "In the codes above, we don't have to write  minus abs() mean(), we can use L1_loss.  \n",
    "Also, we don't have to write minus squared, we can write mse_loss, but it doesn't do the square root so we have to include .sqrt()."
   ]
  },
  {
   "cell_type": "code",
   "execution_count": 29,
   "id": "85040cf0-1712-4292-8eab-35d79b75c1ed",
   "metadata": {},
   "outputs": [
    {
     "data": {
      "text/plain": [
       "(tensor(0.1586), tensor(0.3021))"
      ]
     },
     "execution_count": 29,
     "metadata": {},
     "output_type": "execute_result"
    }
   ],
   "source": [
    "F.l1_loss(a_3.float(),mean7), F.mse_loss(a_3, mean7).sqrt()"
   ]
  },
  {
   "cell_type": "markdown",
   "id": "37288788-ba97-4ee8-a630-d47d08f97eea",
   "metadata": {},
   "source": [
    "This can be found inside 'torch.nn.functional', which PyTorch recommends importing as F."
   ]
  },
  {
   "cell_type": "markdown",
   "id": "69e6d292-3784-4662-9f63-2327c6e3eebf",
   "metadata": {},
   "source": [
    "##### Numpy array and PyTorch tensors"
   ]
  },
  {
   "cell_type": "markdown",
   "id": "f916818c-2133-4130-8226-3e752108c8f0",
   "metadata": {},
   "source": [
    "To create an array or tensor, we can pass a list or lists or list of lists."
   ]
  },
  {
   "cell_type": "code",
   "execution_count": 30,
   "id": "007d74c6-79ff-4501-80ef-35bf72d6066c",
   "metadata": {},
   "outputs": [],
   "source": [
    "data = [[1, 2, 3], [4, 5, 6]]\n",
    "arr = array(data)\n",
    "tns = tensor(data)"
   ]
  },
  {
   "cell_type": "code",
   "execution_count": 31,
   "id": "7e622176-bffa-4ee3-a6b0-7e90ce8227ea",
   "metadata": {},
   "outputs": [
    {
     "data": {
      "text/plain": [
       "array([[1, 2, 3],\n",
       "       [4, 5, 6]])"
      ]
     },
     "execution_count": 31,
     "metadata": {},
     "output_type": "execute_result"
    }
   ],
   "source": [
    "# for numpy\n",
    "arr"
   ]
  },
  {
   "cell_type": "code",
   "execution_count": 32,
   "id": "820a60e2-c299-4c53-b407-9dcbe9884bc0",
   "metadata": {},
   "outputs": [
    {
     "data": {
      "text/plain": [
       "tensor([[1, 2, 3],\n",
       "        [4, 5, 6]])"
      ]
     },
     "execution_count": 32,
     "metadata": {},
     "output_type": "execute_result"
    }
   ],
   "source": [
    "#for PyTorch\n",
    "tns"
   ]
  },
  {
   "cell_type": "markdown",
   "id": "5fba00ca-0df8-4a69-ae32-1918d2fa1327",
   "metadata": {},
   "source": [
    "To select a row:"
   ]
  },
  {
   "cell_type": "code",
   "execution_count": 33,
   "id": "bc54b85a-23d1-402a-8d11-b89da8ce4c14",
   "metadata": {},
   "outputs": [
    {
     "data": {
      "text/plain": [
       "tensor([4, 5, 6])"
      ]
     },
     "execution_count": 33,
     "metadata": {},
     "output_type": "execute_result"
    }
   ],
   "source": [
    "tns[1]"
   ]
  },
  {
   "cell_type": "markdown",
   "id": "77c3c583-dff9-4317-960c-4574f22785cb",
   "metadata": {},
   "source": [
    "To select a column:\n",
    "    "
   ]
  },
  {
   "cell_type": "code",
   "execution_count": 34,
   "id": "2546e71c-83d4-446b-87fd-7c8132852313",
   "metadata": {},
   "outputs": [
    {
     "data": {
      "text/plain": [
       "tensor([2, 5])"
      ]
     },
     "execution_count": 34,
     "metadata": {},
     "output_type": "execute_result"
    }
   ],
   "source": [
    "tns[:,1]"
   ]
  },
  {
   "cell_type": "markdown",
   "id": "4b13ce64-93f9-4499-b27b-c91c4b06b864",
   "metadata": {},
   "source": [
    ": means row because its in the fist spot so therefore ,: is the same as removing it.  \n",
    "example:"
   ]
  },
  {
   "cell_type": "code",
   "execution_count": 35,
   "id": "86bfa3c3-e8c3-4f13-97fb-189b554b6c3f",
   "metadata": {},
   "outputs": [
    {
     "data": {
      "text/plain": [
       "tensor([4, 5, 6])"
      ]
     },
     "execution_count": 35,
     "metadata": {},
     "output_type": "execute_result"
    }
   ],
   "source": [
    "tns[1,:]"
   ]
  },
  {
   "cell_type": "markdown",
   "id": "5a9b6fd4-1451-46ba-b812-3a002ebb2354",
   "metadata": {},
   "source": [
    "Is the same as,"
   ]
  },
  {
   "cell_type": "code",
   "execution_count": 36,
   "id": "be2c7f85-f7ff-4b20-ad91-68801c86fdad",
   "metadata": {},
   "outputs": [
    {
     "data": {
      "text/plain": [
       "tensor([4, 5, 6])"
      ]
     },
     "execution_count": 36,
     "metadata": {},
     "output_type": "execute_result"
    }
   ],
   "source": [
    "tns[1]"
   ]
  },
  {
   "cell_type": "markdown",
   "id": "d5a244ed-1184-47fe-8b6d-7bbb9a6924cc",
   "metadata": {},
   "source": [
    "Combining the together:"
   ]
  },
  {
   "cell_type": "code",
   "execution_count": 37,
   "id": "d98dca2a-1021-476e-9fc7-7ebeb32bdf78",
   "metadata": {},
   "outputs": [
    {
     "data": {
      "text/plain": [
       "tensor([5, 6])"
      ]
     },
     "execution_count": 37,
     "metadata": {},
     "output_type": "execute_result"
    }
   ],
   "source": [
    "tns[1, 1:3]"
   ]
  },
  {
   "cell_type": "markdown",
   "id": "b3b4e3f7-e2a2-4bcb-be07-b1ad0144e85c",
   "metadata": {},
   "source": [
    "This gives the first row and everything from the first up to but not including the third column."
   ]
  },
  {
   "cell_type": "markdown",
   "id": "8f280038-da43-48cc-825a-c6049109edac",
   "metadata": {
    "tags": []
   },
   "source": [
    "[start:end] -> means from start to end but not including end."
   ]
  },
  {
   "cell_type": "markdown",
   "id": "014e3bb3-d09b-45dc-8d8b-7ec1e9f46f1a",
   "metadata": {},
   "source": [
    "Using standard operators to add all elements by 1:\n"
   ]
  },
  {
   "cell_type": "code",
   "execution_count": 38,
   "id": "da6aa45b-3dec-4627-a3c0-2aaa2a609eb3",
   "metadata": {},
   "outputs": [
    {
     "data": {
      "text/plain": [
       "tensor([[2, 3, 4],\n",
       "        [5, 6, 7]])"
      ]
     },
     "execution_count": 38,
     "metadata": {},
     "output_type": "execute_result"
    }
   ],
   "source": [
    "tns+1"
   ]
  },
  {
   "cell_type": "markdown",
   "id": "adde3d8a-aad3-4567-b860-9e7b3efea3de",
   "metadata": {},
   "source": [
    "Finding the type:"
   ]
  },
  {
   "cell_type": "code",
   "execution_count": 39,
   "id": "3afed107-4023-4500-bd25-9cb02e67bc63",
   "metadata": {},
   "outputs": [
    {
     "data": {
      "text/plain": [
       "'torch.LongTensor'"
      ]
     },
     "execution_count": 39,
     "metadata": {},
     "output_type": "execute_result"
    }
   ],
   "source": [
    "tns.type()"
   ]
  },
  {
   "cell_type": "markdown",
   "id": "ebddcdb7-5d39-481c-9129-35e66296ea91",
   "metadata": {},
   "source": [
    "Multiplying by a float:"
   ]
  },
  {
   "cell_type": "code",
   "execution_count": 40,
   "id": "66766d19-743d-4e1d-a35b-2b0ce3df3ca2",
   "metadata": {},
   "outputs": [
    {
     "data": {
      "text/plain": [
       "tensor([[1.5000, 3.0000, 4.5000],\n",
       "        [6.0000, 7.5000, 9.0000]])"
      ]
     },
     "execution_count": 40,
     "metadata": {},
     "output_type": "execute_result"
    }
   ],
   "source": [
    "tns*1.5"
   ]
  },
  {
   "cell_type": "markdown",
   "id": "c16a9603-d7b9-49b6-aa43-72d4f4f7d4a7",
   "metadata": {},
   "source": [
    "Tensor automatically changes from a int to a float."
   ]
  },
  {
   "cell_type": "markdown",
   "id": "294476aa-e4ba-4ca7-8a25-b39fcbcf10e2",
   "metadata": {},
   "source": [
    "### Computing metrics using broadcasting"
   ]
  },
  {
   "cell_type": "markdown",
   "id": "d699dd02-b3ff-4336-960c-9c0eb3011824",
   "metadata": {},
   "source": [
    "Is our model good enough?  \n",
    "To quantify this, we must define a metric."
   ]
  },
  {
   "cell_type": "markdown",
   "id": "3dbc2437-5928-453d-8732-5eb5036a78ac",
   "metadata": {},
   "source": [
    "Metric -> a number which is calculated from the predictions of our model and the correct labels in our dataset, in order to tell us how good our model is."
   ]
  },
  {
   "cell_type": "markdown",
   "id": "08883a30-80c5-44a4-8099-53193bc9092a",
   "metadata": {},
   "source": [
    "We ought to check our model is by calculating the metric, using our validation set."
   ]
  },
  {
   "cell_type": "markdown",
   "id": "43fb2e84-1934-44db-b8f1-3876ecb403f9",
   "metadata": {},
   "source": [
    "First, lets create a tensor of our threes and sevens from our valid directory."
   ]
  },
  {
   "cell_type": "markdown",
   "id": "c4a544cf-d52f-4cbd-9670-fe57b00eb516",
   "metadata": {},
   "source": [
    "The following code does the similar process as what we had done in our training set:"
   ]
  },
  {
   "cell_type": "code",
   "execution_count": 41,
   "id": "e8f2d498-564f-444a-a759-aa145634a276",
   "metadata": {},
   "outputs": [
    {
     "data": {
      "text/plain": [
       "(torch.Size([1010, 28, 28]), torch.Size([1028, 28, 28]))"
      ]
     },
     "execution_count": 41,
     "metadata": {},
     "output_type": "execute_result"
    }
   ],
   "source": [
    "valid_3_tens = torch.stack([tensor(Image.open(o))\n",
    "                            for o in (path/'valid'/'3').ls()])\n",
    "valid_3_tens = valid_3_tens.float()/255\n",
    "valid_7_tens = torch.stack([tensor(Image.open(o))\n",
    "                            for o in (path/'valid'/'7').ls()])\n",
    "valid_7_tens = valid_7_tens.float()/255\n",
    "valid_3_tens.shape, valid_7_tens.shape"
   ]
  },
  {
   "cell_type": "markdown",
   "id": "16a15fae-6ecf-4462-a79f-5bae4a54800d",
   "metadata": {},
   "source": [
    "The code goes through through everything in the validation set of 3.ls() opens and turns them into a tensor then stacks them all up. Next, it turns them into a float by dividing by 255.  \n",
    "Same is done for the 7 folder"
   ]
  },
  {
   "cell_type": "markdown",
   "id": "3d07b4b7-f5c0-4be6-9912-921cf63fc19a",
   "metadata": {},
   "source": [
    "Then we check the shape."
   ]
  },
  {
   "cell_type": "markdown",
   "id": "c4347a7f-28d6-427f-b415-959da6cd0920",
   "metadata": {},
   "source": [
    "Idea is, we want to create a function is_3 that will return true if we think something is a 3. So we have to check whether the digit we are testing on is closer to the 'ideal' three or seven."
   ]
  },
  {
   "cell_type": "markdown",
   "id": "e46c7fc9-62b5-4382-867f-33157762373f",
   "metadata": {},
   "source": [
    "Let's create a function that takes the difference between two things, takes the absolute value and then takes the mean."
   ]
  },
  {
   "cell_type": "code",
   "execution_count": 42,
   "id": "586126ba-ea74-4422-861b-b77382c666fa",
   "metadata": {},
   "outputs": [
    {
     "data": {
      "text/plain": [
       "tensor(0.1114)"
      ]
     },
     "execution_count": 42,
     "metadata": {},
     "output_type": "execute_result"
    }
   ],
   "source": [
    "def mnist_distance(a, b): return (a-b).abs().mean((-1, -2))\n",
    "mnist_distance(a_3, mean3)"
   ]
  },
  {
   "cell_type": "markdown",
   "id": "229f7a78-8934-4a05-bf93-576d19244ee6",
   "metadata": {},
   "source": [
    "The mnist_distance function takes the difference between two tensors, takes their absolute value then takes the mean."
   ]
  },
  {
   "cell_type": "markdown",
   "id": "467c9bfb-16e1-481a-8966-5bc809e20e1d",
   "metadata": {},
   "source": [
    "mean((-1,-2)) -> takes the mean of the last and the second last dimension.  \n",
    "This is going to take the mean of kind of the x and y axes."
   ]
  },
  {
   "cell_type": "markdown",
   "id": "c872ba02-18d8-4095-85a8-dae2f5a2762d",
   "metadata": {},
   "source": [
    "It returns a single number which is the distance a_3 from the mean3. This is the same value as we got earlier."
   ]
  },
  {
   "cell_type": "markdown",
   "id": "246a0c50-53eb-4bd5-b1af-bb7f55e2065e",
   "metadata": {},
   "source": [
    "We need to do this for every image in the validation set so as to find the overall metric."
   ]
  },
  {
   "cell_type": "code",
   "execution_count": 43,
   "id": "aee0d42b-a234-4aef-800e-a8418dd2d393",
   "metadata": {},
   "outputs": [
    {
     "data": {
      "text/plain": [
       "(tensor([0.1328, 0.1523, 0.1245,  ..., 0.1383, 0.1280, 0.1138]),\n",
       " torch.Size([1010]))"
      ]
     },
     "execution_count": 43,
     "metadata": {},
     "output_type": "execute_result"
    }
   ],
   "source": [
    "valid_3_dist = mnist_distance(valid_3_tens, mean3)\n",
    "valid_3_dist, valid_3_dist.shape"
   ]
  },
  {
   "cell_type": "markdown",
   "id": "b5fa4a51-35b5-44bb-8156-45ae9bd3de48",
   "metadata": {},
   "source": [
    "Broadcasting is a magic trick of Python that allows us to pass the whole validation set against the mean3."
   ]
  },
  {
   "cell_type": "markdown",
   "id": "ef9e2102-facc-4d1e-b56b-87a205af2223",
   "metadata": {},
   "source": [
    "In our case, it returns 1010 numbers.  \n",
    "Here, we are doing a-b on the 1010 images on the validation set."
   ]
  },
  {
   "cell_type": "code",
   "execution_count": 44,
   "id": "41e8f425-c6f3-4338-8563-b4c9526b274a",
   "metadata": {},
   "outputs": [
    {
     "data": {
      "text/plain": [
       "torch.Size([1010, 28, 28])"
      ]
     },
     "execution_count": 44,
     "metadata": {},
     "output_type": "execute_result"
    }
   ],
   "source": [
    "valid_3_tens.shape"
   ]
  },
  {
   "cell_type": "markdown",
   "id": "6a36dd95-cf9a-4ccb-9ac1-273d254f9be3",
   "metadata": {},
   "source": [
    "Gives us a Rank 3 tensor"
   ]
  },
  {
   "cell_type": "code",
   "execution_count": 45,
   "id": "5e47bd60-3e89-499d-b594-ba71386d2622",
   "metadata": {},
   "outputs": [
    {
     "data": {
      "text/plain": [
       "torch.Size([28, 28])"
      ]
     },
     "execution_count": 45,
     "metadata": {},
     "output_type": "execute_result"
    }
   ],
   "source": [
    "mean3.shape"
   ]
  },
  {
   "cell_type": "markdown",
   "id": "ef4e11c7-c0c2-4a68-a02e-c2dd7fb40af1",
   "metadata": {},
   "source": [
    "Gives us a Rank 2 tensor."
   ]
  },
  {
   "cell_type": "markdown",
   "id": "6fc518e6-aeab-4ea5-9cfa-c012161955ae",
   "metadata": {},
   "source": [
    "Broadcasting means if the two shapes don't match, if they matched it would just subtract every corresponding item. But because they don't match it actually acts as if there is 1010 versions of 28×28 (tensor of mean3). So its actually going to subtract this from every single one of mean3 tensor from every tensor of the validation set."
   ]
  },
  {
   "cell_type": "markdown",
   "id": "e65da0b2-839c-4bda-b051-c595e02e7d02",
   "metadata": {},
   "source": [
    "Broadcating requires us to first understand the idea of element-wise operation:"
   ]
  },
  {
   "cell_type": "code",
   "execution_count": 46,
   "id": "a1e126f0-7fe5-4774-9407-c52e588b6d45",
   "metadata": {},
   "outputs": [
    {
     "data": {
      "text/plain": [
       "tensor([5, 7, 9])"
      ]
     },
     "execution_count": 46,
     "metadata": {},
     "output_type": "execute_result"
    }
   ],
   "source": [
    "tensor([1, 2, 3]) + tensor([4, 5, 6])"
   ]
  },
  {
   "cell_type": "markdown",
   "id": "6ad37440-98cb-4200-b2a2-5789ae65f2cf",
   "metadata": {},
   "source": [
    "This is element-wise operation.  \n",
    "These are rank-1 tensor of size 3. As they match,it takes the corresponding items and adds them together."
   ]
  },
  {
   "cell_type": "code",
   "execution_count": 47,
   "id": "d8caca63-2859-42c1-bfab-9c45b04776f1",
   "metadata": {},
   "outputs": [
    {
     "data": {
      "text/plain": [
       "torch.Size([1010, 28, 28])"
      ]
     },
     "execution_count": 47,
     "metadata": {},
     "output_type": "execute_result"
    }
   ],
   "source": [
    "(valid_3_tens - mean3).shape"
   ]
  },
  {
   "cell_type": "markdown",
   "id": "f7fa206a-935c-4f82-a9a5-555caacb0a89",
   "metadata": {},
   "source": [
    "When we have different shapes as described before, what it ends up doing is copying mean3 1010 times and acts as if we had valid_3_tens minus 1010 copies of mean3."
   ]
  },
  {
   "cell_type": "markdown",
   "id": "8444183e-3ffe-4a6e-ad53-af125cc89a8f",
   "metadata": {},
   "source": [
    "Then we find the absolute value and call mean((-1, -2))."
   ]
  },
  {
   "cell_type": "markdown",
   "id": "da8d0e40-b329-4c19-a851-b84671b084b8",
   "metadata": {},
   "source": [
    "We can now create is_3 function:"
   ]
  },
  {
   "cell_type": "code",
   "execution_count": 48,
   "id": "3da7b41c-797f-465d-8240-409202cdaa88",
   "metadata": {},
   "outputs": [],
   "source": [
    "def is_3(x): return mnist_distance(x, mean3) < mnist_distance(x,mean7)"
   ]
  },
  {
   "cell_type": "markdown",
   "id": "cd97d864-3a76-48af-ae97-91bc34b0433f",
   "metadata": {},
   "source": [
    "The function figures out if the distance between the image in question (x) and mean3 is less than the distance between the image in question (x) and mean7. If it is, then its a 3."
   ]
  },
  {
   "cell_type": "markdown",
   "id": "e12424f0-b865-4c98-9fc6-09c57d08cf73",
   "metadata": {},
   "source": [
    "Let's check with a_3:"
   ]
  },
  {
   "cell_type": "code",
   "execution_count": 49,
   "id": "983e5ad3-9a26-4e33-93ce-d0e8ef15eeb8",
   "metadata": {},
   "outputs": [
    {
     "data": {
      "text/plain": [
       "(tensor(True), tensor(1.))"
      ]
     },
     "execution_count": 49,
     "metadata": {},
     "output_type": "execute_result"
    }
   ],
   "source": [
    "is_3(a_3), is_3(a_3).float()"
   ]
  },
  {
   "cell_type": "markdown",
   "id": "cad6de3a-0401-4ffe-a186-d6c952b58c0b",
   "metadata": {},
   "source": [
    "Checks whether the image is a 3 and turns it into a float.  \n",
    "If true, it becomes a 1. like in the above code."
   ]
  },
  {
   "cell_type": "markdown",
   "id": "bd390b92-3643-47c4-bc80-0bc1b24bc285",
   "metadata": {},
   "source": [
    "Using broadcating, we can check the whole validation dataset."
   ]
  },
  {
   "cell_type": "code",
   "execution_count": 50,
   "id": "dc01b606-857c-4bdb-a067-739ee2d2b56a",
   "metadata": {},
   "outputs": [
    {
     "data": {
      "text/plain": [
       "tensor([ True,  True,  True,  ..., False,  True,  True])"
      ]
     },
     "execution_count": 50,
     "metadata": {},
     "output_type": "execute_result"
    }
   ],
   "source": [
    "is_3(valid_3_tens)"
   ]
  },
  {
   "cell_type": "markdown",
   "id": "e3cec84d-d181-4221-98d7-7e57b565b2ee",
   "metadata": {},
   "source": [
    "Now, we can calculate the accuracy of the threes and sevens by taking the average of the function for all 3s and 7s."
   ]
  },
  {
   "cell_type": "code",
   "execution_count": 51,
   "id": "206f0199-9790-41cb-89d0-4c4b87ad840e",
   "metadata": {},
   "outputs": [
    {
     "data": {
      "text/plain": [
       "(tensor(0.9168), tensor(0.9854), tensor(0.9511))"
      ]
     },
     "execution_count": 51,
     "metadata": {},
     "output_type": "execute_result"
    }
   ],
   "source": [
    "accuracy_3s = is_3(valid_3_tens).float().mean()\n",
    "accuracy_7s = 1 - is_3(valid_7_tens).float().mean()\n",
    "accuracy_3s, accuracy_7s, (accuracy_3s + accuracy_7s)/2"
   ]
  },
  {
   "cell_type": "markdown",
   "id": "e6d809c8-0814-4e4b-9099-884650e8f4c7",
   "metadata": {},
   "source": [
    "This performs is_3 on our whole valid_3_tens and then turns that into float and takes the mean. Same is done for 7."
   ]
  },
  {
   "cell_type": "markdown",
   "id": "460202ff-271f-417f-baca-c6eb590924d1",
   "metadata": {},
   "source": [
    "Accuracy is 91% for 3s, 98% for 7s and 95% for both.   \n",
    "This is a good baseline."
   ]
  },
  {
   "cell_type": "markdown",
   "id": "07c92bf0-eb84-45f1-ab20-dd5e8a6fb5f9",
   "metadata": {},
   "source": [
    "## Gradient Descent"
   ]
  },
  {
   "cell_type": "markdown",
   "id": "537d1ee9-36b1-4353-8fec-ea59857e909f",
   "metadata": {},
   "source": [
    "But in ML, according to Arthur Samuel, we don't have a function which has parameters that we are testing against some kind of measure of fitness and then using it to improve the parameters. We just did one step."
   ]
  },
  {
   "cell_type": "markdown",
   "id": "016cbcb3-f7c1-4bb5-9dde-d370fb11e04e",
   "metadata": {},
   "source": [
    "Suppose, we arrange for some automatic means of testing the effectiveness of any current weight assignment in terms of the actual performance and provide a mechanism for altering the weight assignment so as to maximize the performance."
   ]
  },
  {
   "cell_type": "markdown",
   "id": "0dccc8bc-89d7-4335-81db-036516522c50",
   "metadata": {},
   "source": [
    "We need some way to get our model to become better and better as we keep iterating. \n",
    "Let's think of a function which has parameters. So instead of finding an ideal image and seeing how far away something is from the ideal image, what we could instead do is come up with a set of weights for each pixel.\n",
    "So in place that you expect to find 3, you could give those high weights."
   ]
  },
  {
   "cell_type": "markdown",
   "id": "5843e280-00ef-48dd-b205-35c7383cb3c5",
   "metadata": {},
   "source": [
    "We can come up with a function where the probability of something being, for example an 8, is equal  to the pixel in the image(x) multiplied by some sort of weight(w) then we sum up.  \n",
    "\n",
    "def pr_eight(x,w): return (x*w).sum()"
   ]
  },
  {
   "cell_type": "markdown",
   "id": "3594bad5-c3d0-4f5b-9032-baed01c07244",
   "metadata": {},
   "source": [
    "So anywhere in the image we are looking at with high weights, its going to end up with a high probability."
   ]
  },
  {
   "cell_type": "markdown",
   "id": "b34e9700-2972-4164-ac21-9ba035ad933f",
   "metadata": {},
   "source": [
    "x is the image represented as a vector."
   ]
  },
  {
   "cell_type": "markdown",
   "id": "e6127b91-426b-4f88-a13d-ebfe797b687b",
   "metadata": {},
   "source": [
    "So here are the steps that we are going to require, to turn this function into a machine learning classifier:  \n",
    "1) We will start with a vector w(A vector is a Rank 1 tensor) containing random weights/parameters.  \n",
    "2) Then, we will predict whether the number is a 3 or 7.  \n",
    "3) Based on the predictions, calculate how good the model is (its loss).  \n",
    "4) Key step -> Calculate the gradient, which measure for each weight, how  changing that weight would change the loss.  \n",
    "5) Step/Change all the weights based on that calculation.  \n",
    "6) Go back to step 2 and repeat the process.  \n",
    "7) ... repeat until you decide to stop the training process (for instance because the model is good enough).  \n",
    "\n",
    "These steps are called Gradient Descent"
   ]
  },
  {
   "cell_type": "markdown",
   "id": "4e220bf5-4e9b-4d84-a3d4-16dc74ed206a",
   "metadata": {},
   "source": [
    "Before going back to our image classifier, let's illustrate what they look like in a simple case."
   ]
  },
  {
   "cell_type": "markdown",
   "id": "9d5a9285-0ea1-410a-b8eb-cf562f97fbf1",
   "metadata": {},
   "source": [
    "#### Example 1"
   ]
  },
  {
   "cell_type": "markdown",
   "id": "6830b0e1-b1ab-41ed-8070-9d5d38796fd5",
   "metadata": {},
   "source": [
    "First, we define a simple function, the quadratic. Let's pretend this is our loss function and x is a weight parameter of the function."
   ]
  },
  {
   "cell_type": "code",
   "execution_count": 52,
   "id": "537d80a8-1375-430f-85c9-785cc7705966",
   "metadata": {},
   "outputs": [],
   "source": [
    "def f(x): return x**2"
   ]
  },
  {
   "cell_type": "markdown",
   "id": "f8974781-4331-434a-8672-a85697d81549",
   "metadata": {},
   "source": [
    "plotting the graph:"
   ]
  },
  {
   "cell_type": "code",
   "execution_count": 53,
   "id": "d5600777-64c4-41a8-b115-304375be0d6e",
   "metadata": {},
   "outputs": [
    {
     "data": {
      "image/png": "[encoded data removed]",
      "text/plain": [
       "<Figure size 432x288 with 1 Axes>"
      ]
     },
     "metadata": {
      "needs_background": "light"
     },
     "output_type": "display_data"
    }
   ],
   "source": [
    "plot_function(f, 'x', 'x**2')"
   ]
  },
  {
   "cell_type": "markdown",
   "id": "480c6fe9-b83c-466f-a140-b122fc921ba6",
   "metadata": {},
   "source": [
    "Next, we need to find the bottom value of the graph.  \n",
    "The steps we described above starts by picking some random value for a parameter and calculating the value of the loss."
   ]
  },
  {
   "cell_type": "code",
   "execution_count": 55,
   "id": "f5fbd2a6-094b-4a7c-8fdb-d48c872fd23e",
   "metadata": {},
   "outputs": [
    {
     "data": {
      "image/png": "[encoded data removed]",
      "text/plain": [
       "<Figure size 432x288 with 1 Axes>"
      ]
     },
     "metadata": {
      "needs_background": "light"
     },
     "output_type": "display_data"
    }
   ],
   "source": [
    "plot_function(f, 'x', 'x**2')\n",
    "plt.scatter(-1.5, f(-1.5), color='red');"
   ]
  },
  {
   "cell_type": "markdown",
   "id": "04c1b122-9bd2-43f0-ab2e-a4888080d386",
   "metadata": {},
   "source": [
    "We pick 1.5."
   ]
  },
  {
   "cell_type": "markdown",
   "id": "5fd4a579-89fa-46b3-9d0f-4b7282356a9f",
   "metadata": {},
   "source": [
    "Now we need to know if we increase x a bit, will x**2(the loss in this case) get better(better means the lossis smaller)."
   ]
  },
  {
   "cell_type": "markdown",
   "id": "5c843438-fe37-44bb-9879-75bd01cb2527",
   "metadata": {},
   "source": [
    "To get to the bottom of the curve, we need to calculate the gradient.  \n",
    "First, we pick a tensor value which we want gradients at:"
   ]
  },
  {
   "cell_type": "code",
   "execution_count": 56,
   "id": "5b6ad929-7672-42fc-8a91-3fd9d48eccd8",
   "metadata": {},
   "outputs": [],
   "source": [
    "xt = tensor(3.).requires_grad_()"
   ]
  },
  {
   "cell_type": "code",
   "execution_count": null,
   "id": "785ee84e-14c8-4980-b03a-1fb91e4b9770",
   "metadata": {},
   "outputs": [],
   "source": []
  }
 ],
 "metadata": {
  "kernelspec": {
   "display_name": "Python 3 (ipykernel)",
   "language": "python",
   "name": "python3"
  },
  "language_info": {
   "codemirror_mode": {
    "name": "ipython",
    "version": 3
   },
   "file_extension": ".py",
   "mimetype": "text/x-python",
   "name": "python",
   "nbconvert_exporter": "python",
   "pygments_lexer": "ipython3",
   "version": "3.9.13"
  }
 },
 "nbformat": 4,
 "nbformat_minor": 5
}
